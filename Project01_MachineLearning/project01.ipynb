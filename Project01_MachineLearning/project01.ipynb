{
 "cells": [
  {
   "cell_type": "markdown",
   "metadata": {},
   "source": [
    "### Machine Learning: Summer 2020\n",
    "### Project 1\n",
    "\n",
    "# Predicting whether a dog will be adopted within a week from the Austin Animal Shelter\n",
    "\n",
    "### Anshul Dabas and Anndi Russell"
   ]
  },
  {
   "cell_type": "code",
   "execution_count": 1,
   "metadata": {},
   "outputs": [],
   "source": [
    "import pandas as pd\n",
    "import numpy as np\n",
    "from collections import defaultdict\n",
    "import datetime\n",
    "import matplotlib as plt\n",
    "import seaborn as sns\n",
    "from sklearn.model_selection import train_test_split\n",
    "import matplotlib.pyplot as plt2"
   ]
  },
  {
   "cell_type": "markdown",
   "metadata": {},
   "source": [
    "## Experiment Objective"
   ]
  },
  {
   "cell_type": "markdown",
   "metadata": {},
   "source": [
    "Our experiment will attempt to create a model that will predict whether a dog will be adopoted within 1 week of it arrival at the Austin Animal Shelter in Austin, TX. We are interested in animal welfare and we know anecdotally that certain characteristics (such as a particular breed or color) of an animal result in a higher likelihood of adoption. We are interested in finding out which characteristics are the best predictors for a speedy adoption at this particular shelter.\n",
    "\n",
    "This information would be useful to a shelter for many reasons. For example, if this shelter has success placing dogs with certain characteristics, it could raise the adoption fees of those dogs to help cover the shelter costs, knowing that a popular type of dog will perhaps have more people interested in it despite the higher fee. This research could also be duplicated at other shelters, and the differences in popular dog characteristics in different regions could be examined; if the Austin Animal Shelter has a high probability of placing pit bulls in homes, but a shelter in Dallas does not have that same level of success, a transfer program could be arranged in order to facilitate the best chance of a dog finding a new home. There are numerous other applications for this research so we feel that it is relevant and exciting project.\n",
    "\n",
    "We chose the Austin Animal Shelter as the source for our data for a couple of reasons. First, this is the largest no-kill shelter in the country, so the set of data is large. Second, this data is available via public API through Austin's Open Data Portal. As quoted from the website: \"We encourage the use of public data that the City of Austin has published to spark innovation, promote public collaboration, increase government transparency, and inform decision making\" (citation: https://data.austintexas.gov/). Ethically, this dataset does not pose any issues since it is explicity made publically available and it does not contain any sensitive personal information that could lead to any type of discrimation or bias.\n",
    "\n",
    "Dataset description: Our data came in two datasets, one for intakes and one for outcomes (such as adoption) for each animal's shelter stay. Both datasets had descriptive information of the animal (animal type, intake condition, color, breed, sex, intake type/outcome type, age, name) as well as a time stamp for its intake or outcome."
   ]
  },
  {
   "cell_type": "markdown",
   "metadata": {},
   "source": [
    "## Data Collection"
   ]
  },
  {
   "cell_type": "markdown",
   "metadata": {},
   "source": [
    "The data was downloaded in csv format archived on the website on July 21, 2020. The data on this site is updated daily, so it is current to the day of download. The data of interest for us is provided separately in an \"intake\" file and an \"outcome\" file. We downloaded both, and read into dataframes:"
   ]
  },
  {
   "cell_type": "code",
   "execution_count": 2,
   "metadata": {},
   "outputs": [],
   "source": [
    "df_intakes = pd.read_csv('Austin_Animal_Center_Intakes.csv')\n",
    "df_outcomes = pd.read_csv('Austin_Animal_Center_Outcomes.csv')"
   ]
  },
  {
   "cell_type": "code",
   "execution_count": 3,
   "metadata": {},
   "outputs": [
    {
     "data": {
      "text/html": [
       "<div>\n",
       "<style scoped>\n",
       "    .dataframe tbody tr th:only-of-type {\n",
       "        vertical-align: middle;\n",
       "    }\n",
       "\n",
       "    .dataframe tbody tr th {\n",
       "        vertical-align: top;\n",
       "    }\n",
       "\n",
       "    .dataframe thead th {\n",
       "        text-align: right;\n",
       "    }\n",
       "</style>\n",
       "<table border=\"1\" class=\"dataframe\">\n",
       "  <thead>\n",
       "    <tr style=\"text-align: right;\">\n",
       "      <th></th>\n",
       "      <th>Animal ID</th>\n",
       "      <th>Name</th>\n",
       "      <th>DateTime</th>\n",
       "      <th>MonthYear</th>\n",
       "      <th>Found Location</th>\n",
       "      <th>Intake Type</th>\n",
       "      <th>Intake Condition</th>\n",
       "      <th>Animal Type</th>\n",
       "      <th>Sex upon Intake</th>\n",
       "      <th>Age upon Intake</th>\n",
       "      <th>Breed</th>\n",
       "      <th>Color</th>\n",
       "    </tr>\n",
       "  </thead>\n",
       "  <tbody>\n",
       "    <tr>\n",
       "      <th>0</th>\n",
       "      <td>A786884</td>\n",
       "      <td>*Brock</td>\n",
       "      <td>01/03/2019 04:19:00 PM</td>\n",
       "      <td>01/03/2019 04:19:00 PM</td>\n",
       "      <td>2501 Magin Meadow Dr in Austin (TX)</td>\n",
       "      <td>Stray</td>\n",
       "      <td>Normal</td>\n",
       "      <td>Dog</td>\n",
       "      <td>Neutered Male</td>\n",
       "      <td>2 years</td>\n",
       "      <td>Beagle Mix</td>\n",
       "      <td>Tricolor</td>\n",
       "    </tr>\n",
       "    <tr>\n",
       "      <th>1</th>\n",
       "      <td>A706918</td>\n",
       "      <td>Belle</td>\n",
       "      <td>07/05/2015 12:59:00 PM</td>\n",
       "      <td>07/05/2015 12:59:00 PM</td>\n",
       "      <td>9409 Bluegrass Dr in Austin (TX)</td>\n",
       "      <td>Stray</td>\n",
       "      <td>Normal</td>\n",
       "      <td>Dog</td>\n",
       "      <td>Spayed Female</td>\n",
       "      <td>8 years</td>\n",
       "      <td>English Springer Spaniel</td>\n",
       "      <td>White/Liver</td>\n",
       "    </tr>\n",
       "  </tbody>\n",
       "</table>\n",
       "</div>"
      ],
      "text/plain": [
       "  Animal ID    Name                DateTime               MonthYear  \\\n",
       "0   A786884  *Brock  01/03/2019 04:19:00 PM  01/03/2019 04:19:00 PM   \n",
       "1   A706918   Belle  07/05/2015 12:59:00 PM  07/05/2015 12:59:00 PM   \n",
       "\n",
       "                        Found Location Intake Type Intake Condition  \\\n",
       "0  2501 Magin Meadow Dr in Austin (TX)       Stray           Normal   \n",
       "1     9409 Bluegrass Dr in Austin (TX)       Stray           Normal   \n",
       "\n",
       "  Animal Type Sex upon Intake Age upon Intake                     Breed  \\\n",
       "0         Dog   Neutered Male         2 years                Beagle Mix   \n",
       "1         Dog   Spayed Female         8 years  English Springer Spaniel   \n",
       "\n",
       "         Color  \n",
       "0     Tricolor  \n",
       "1  White/Liver  "
      ]
     },
     "execution_count": 3,
     "metadata": {},
     "output_type": "execute_result"
    }
   ],
   "source": [
    "df_intakes.head(2)"
   ]
  },
  {
   "cell_type": "code",
   "execution_count": 4,
   "metadata": {},
   "outputs": [
    {
     "data": {
      "text/html": [
       "<div>\n",
       "<style scoped>\n",
       "    .dataframe tbody tr th:only-of-type {\n",
       "        vertical-align: middle;\n",
       "    }\n",
       "\n",
       "    .dataframe tbody tr th {\n",
       "        vertical-align: top;\n",
       "    }\n",
       "\n",
       "    .dataframe thead th {\n",
       "        text-align: right;\n",
       "    }\n",
       "</style>\n",
       "<table border=\"1\" class=\"dataframe\">\n",
       "  <thead>\n",
       "    <tr style=\"text-align: right;\">\n",
       "      <th></th>\n",
       "      <th>Animal ID</th>\n",
       "      <th>Name</th>\n",
       "      <th>DateTime</th>\n",
       "      <th>MonthYear</th>\n",
       "      <th>Date of Birth</th>\n",
       "      <th>Outcome Type</th>\n",
       "      <th>Outcome Subtype</th>\n",
       "      <th>Animal Type</th>\n",
       "      <th>Sex upon Outcome</th>\n",
       "      <th>Age upon Outcome</th>\n",
       "      <th>Breed</th>\n",
       "      <th>Color</th>\n",
       "    </tr>\n",
       "  </thead>\n",
       "  <tbody>\n",
       "    <tr>\n",
       "      <th>0</th>\n",
       "      <td>A794011</td>\n",
       "      <td>Chunk</td>\n",
       "      <td>05/08/2019 06:20:00 PM</td>\n",
       "      <td>05/08/2019 06:20:00 PM</td>\n",
       "      <td>05/02/2017</td>\n",
       "      <td>Rto-Adopt</td>\n",
       "      <td>NaN</td>\n",
       "      <td>Cat</td>\n",
       "      <td>Neutered Male</td>\n",
       "      <td>2 years</td>\n",
       "      <td>Domestic Shorthair Mix</td>\n",
       "      <td>Brown Tabby/White</td>\n",
       "    </tr>\n",
       "    <tr>\n",
       "      <th>1</th>\n",
       "      <td>A776359</td>\n",
       "      <td>Gizmo</td>\n",
       "      <td>07/18/2018 04:02:00 PM</td>\n",
       "      <td>07/18/2018 04:02:00 PM</td>\n",
       "      <td>07/12/2017</td>\n",
       "      <td>Adoption</td>\n",
       "      <td>NaN</td>\n",
       "      <td>Dog</td>\n",
       "      <td>Neutered Male</td>\n",
       "      <td>1 year</td>\n",
       "      <td>Chihuahua Shorthair Mix</td>\n",
       "      <td>White/Brown</td>\n",
       "    </tr>\n",
       "  </tbody>\n",
       "</table>\n",
       "</div>"
      ],
      "text/plain": [
       "  Animal ID   Name                DateTime               MonthYear  \\\n",
       "0   A794011  Chunk  05/08/2019 06:20:00 PM  05/08/2019 06:20:00 PM   \n",
       "1   A776359  Gizmo  07/18/2018 04:02:00 PM  07/18/2018 04:02:00 PM   \n",
       "\n",
       "  Date of Birth Outcome Type Outcome Subtype Animal Type Sex upon Outcome  \\\n",
       "0    05/02/2017    Rto-Adopt             NaN         Cat    Neutered Male   \n",
       "1    07/12/2017     Adoption             NaN         Dog    Neutered Male   \n",
       "\n",
       "  Age upon Outcome                    Breed              Color  \n",
       "0          2 years   Domestic Shorthair Mix  Brown Tabby/White  \n",
       "1           1 year  Chihuahua Shorthair Mix        White/Brown  "
      ]
     },
     "execution_count": 4,
     "metadata": {},
     "output_type": "execute_result"
    }
   ],
   "source": [
    "df_outcomes.head(2)"
   ]
  },
  {
   "cell_type": "markdown",
   "metadata": {},
   "source": [
    "In our data preprocessing we will reduce this to one dataframe with 6 feature and 1 outcome. The outcome will be binary with class labels 1 and 0."
   ]
  },
  {
   "cell_type": "markdown",
   "metadata": {},
   "source": [
    "## Data Preprocessing"
   ]
  },
  {
   "cell_type": "code",
   "execution_count": 5,
   "metadata": {},
   "outputs": [
    {
     "name": "stdout",
     "output_type": "stream",
     "text": [
      "(118918, 12)\n",
      "(119009, 12)\n"
     ]
    }
   ],
   "source": [
    "print(df_intakes.shape)\n",
    "print(df_outcomes.shape)"
   ]
  },
  {
   "cell_type": "markdown",
   "metadata": {},
   "source": [
    "We have approximately 119000 rows of data in each table. We could not find documentation as to why the outcomes have a slightly greater number of rows than the intakes. \n",
    "\n",
    "The 'Outcome Type' tells us in what manner the animal left the shelter. Check if all animals in outcomes have an 'Outcome Type' listed:"
   ]
  },
  {
   "cell_type": "code",
   "execution_count": 6,
   "metadata": {},
   "outputs": [
    {
     "data": {
      "text/plain": [
       "6"
      ]
     },
     "execution_count": 6,
     "metadata": {},
     "output_type": "execute_result"
    }
   ],
   "source": [
    "df_outcomes['Outcome Type'].isnull().sum()"
   ]
  },
  {
   "cell_type": "markdown",
   "metadata": {},
   "source": [
    "Drop these 6 rows, since this is the most important data for our analysis and we have plenty of data to work with. No need to impute."
   ]
  },
  {
   "cell_type": "code",
   "execution_count": 7,
   "metadata": {},
   "outputs": [
    {
     "data": {
      "text/plain": [
       "0"
      ]
     },
     "execution_count": 7,
     "metadata": {},
     "output_type": "execute_result"
    }
   ],
   "source": [
    "df_outcomes.dropna(subset=['Outcome Type'], inplace=True)\n",
    "df_outcomes['Outcome Type'].isnull().sum()"
   ]
  },
  {
   "cell_type": "code",
   "execution_count": 8,
   "metadata": {},
   "outputs": [
    {
     "name": "stdout",
     "output_type": "stream",
     "text": [
      "(118918, 12)\n",
      "(119003, 12)\n"
     ]
    }
   ],
   "source": [
    "print(df_intakes.shape)\n",
    "print(df_outcomes.shape)"
   ]
  },
  {
   "cell_type": "markdown",
   "metadata": {},
   "source": [
    "DateTime and MonthYear columns are duplicates:"
   ]
  },
  {
   "cell_type": "code",
   "execution_count": 9,
   "metadata": {},
   "outputs": [
    {
     "name": "stdout",
     "output_type": "stream",
     "text": [
      "True\n",
      "True\n"
     ]
    }
   ],
   "source": [
    "print(df_intakes['DateTime'].equals(df_intakes['MonthYear']))\n",
    "print(df_outcomes['DateTime'].equals(df_outcomes['MonthYear']))"
   ]
  },
  {
   "cell_type": "markdown",
   "metadata": {},
   "source": [
    "Drop unnecessary columns in outcomes and intakes:"
   ]
  },
  {
   "cell_type": "code",
   "execution_count": 10,
   "metadata": {},
   "outputs": [],
   "source": [
    "df_outcomes = df_outcomes.drop(['Name', 'MonthYear', 'Date of Birth', 'Animal Type', 'Sex upon Outcome', 'Age upon Outcome', 'Breed', 'Color'], axis=1)\n",
    "df_intakes = df_intakes.drop(['Name', 'MonthYear', 'Found Location'], axis=1)"
   ]
  },
  {
   "cell_type": "markdown",
   "metadata": {},
   "source": [
    "The dataframes have some animals that have multiple intakes and outcomes. We are going to drop these from our analysis, or it will impact our merge (merge my default will create all combinations of pairs). The parameter keep='first' would allow us to keep the first entry of each animal ID, but since the data is not necessarily in chronological order we cannot be sure that the first intake and the first outcome for a particular animal will be from the same shelter stay event. For this reason, it is better that we drop the duplicates altogether. Though we are losing some information, we still are left with 106000 rows which is appropriate for our analysis (this is the benefit of starting with a large dataset)."
   ]
  },
  {
   "cell_type": "code",
   "execution_count": 11,
   "metadata": {},
   "outputs": [],
   "source": [
    "df_intakes = df_intakes.drop_duplicates(subset='Animal ID')\n",
    "df_outcomes = df_outcomes.drop_duplicates(subset='Animal ID')"
   ]
  },
  {
   "cell_type": "code",
   "execution_count": 12,
   "metadata": {},
   "outputs": [
    {
     "name": "stdout",
     "output_type": "stream",
     "text": [
      "(106280, 9)\n",
      "(106383, 4)\n"
     ]
    }
   ],
   "source": [
    "print(df_intakes.shape)\n",
    "print(df_outcomes.shape)"
   ]
  },
  {
   "cell_type": "markdown",
   "metadata": {},
   "source": [
    "Merge together. Only include animals that have an outcome listed. We're not concerned with animals still in the shelter, as we cannot be sure they will be adopted at all. They may be bound for a transfer or euthanasia, in which case they do not fit into our question of interest. This translates to an inner join; only animals recorded in both tables will be included."
   ]
  },
  {
   "cell_type": "code",
   "execution_count": 13,
   "metadata": {},
   "outputs": [],
   "source": [
    "df_merged=pd.merge(df_intakes,df_outcomes,on='Animal ID',how='inner')"
   ]
  },
  {
   "cell_type": "code",
   "execution_count": 14,
   "metadata": {},
   "outputs": [
    {
     "data": {
      "text/html": [
       "<div>\n",
       "<style scoped>\n",
       "    .dataframe tbody tr th:only-of-type {\n",
       "        vertical-align: middle;\n",
       "    }\n",
       "\n",
       "    .dataframe tbody tr th {\n",
       "        vertical-align: top;\n",
       "    }\n",
       "\n",
       "    .dataframe thead th {\n",
       "        text-align: right;\n",
       "    }\n",
       "</style>\n",
       "<table border=\"1\" class=\"dataframe\">\n",
       "  <thead>\n",
       "    <tr style=\"text-align: right;\">\n",
       "      <th></th>\n",
       "      <th>Animal ID</th>\n",
       "      <th>DateTime_x</th>\n",
       "      <th>Intake Type</th>\n",
       "      <th>Intake Condition</th>\n",
       "      <th>Animal Type</th>\n",
       "      <th>Sex upon Intake</th>\n",
       "      <th>Age upon Intake</th>\n",
       "      <th>Breed</th>\n",
       "      <th>Color</th>\n",
       "      <th>DateTime_y</th>\n",
       "      <th>Outcome Type</th>\n",
       "      <th>Outcome Subtype</th>\n",
       "    </tr>\n",
       "  </thead>\n",
       "  <tbody>\n",
       "    <tr>\n",
       "      <th>0</th>\n",
       "      <td>A786884</td>\n",
       "      <td>01/03/2019 04:19:00 PM</td>\n",
       "      <td>Stray</td>\n",
       "      <td>Normal</td>\n",
       "      <td>Dog</td>\n",
       "      <td>Neutered Male</td>\n",
       "      <td>2 years</td>\n",
       "      <td>Beagle Mix</td>\n",
       "      <td>Tricolor</td>\n",
       "      <td>01/08/2019 03:11:00 PM</td>\n",
       "      <td>Transfer</td>\n",
       "      <td>Partner</td>\n",
       "    </tr>\n",
       "    <tr>\n",
       "      <th>1</th>\n",
       "      <td>A706918</td>\n",
       "      <td>07/05/2015 12:59:00 PM</td>\n",
       "      <td>Stray</td>\n",
       "      <td>Normal</td>\n",
       "      <td>Dog</td>\n",
       "      <td>Spayed Female</td>\n",
       "      <td>8 years</td>\n",
       "      <td>English Springer Spaniel</td>\n",
       "      <td>White/Liver</td>\n",
       "      <td>07/05/2015 03:13:00 PM</td>\n",
       "      <td>Return to Owner</td>\n",
       "      <td>NaN</td>\n",
       "    </tr>\n",
       "  </tbody>\n",
       "</table>\n",
       "</div>"
      ],
      "text/plain": [
       "  Animal ID              DateTime_x Intake Type Intake Condition Animal Type  \\\n",
       "0   A786884  01/03/2019 04:19:00 PM       Stray           Normal         Dog   \n",
       "1   A706918  07/05/2015 12:59:00 PM       Stray           Normal         Dog   \n",
       "\n",
       "  Sex upon Intake Age upon Intake                     Breed        Color  \\\n",
       "0   Neutered Male         2 years                Beagle Mix     Tricolor   \n",
       "1   Spayed Female         8 years  English Springer Spaniel  White/Liver   \n",
       "\n",
       "               DateTime_y     Outcome Type Outcome Subtype  \n",
       "0  01/08/2019 03:11:00 PM         Transfer         Partner  \n",
       "1  07/05/2015 03:13:00 PM  Return to Owner             NaN  "
      ]
     },
     "execution_count": 14,
     "metadata": {},
     "output_type": "execute_result"
    }
   ],
   "source": [
    "df_merged.head(2)"
   ]
  },
  {
   "cell_type": "code",
   "execution_count": 15,
   "metadata": {},
   "outputs": [
    {
     "data": {
      "text/plain": [
       "(105569, 12)"
      ]
     },
     "execution_count": 15,
     "metadata": {},
     "output_type": "execute_result"
    }
   ],
   "source": [
    "df_merged.shape"
   ]
  },
  {
   "cell_type": "code",
   "execution_count": 16,
   "metadata": {},
   "outputs": [],
   "source": [
    "df_merged = df_merged.drop(['Animal ID'], axis=1)"
   ]
  },
  {
   "cell_type": "code",
   "execution_count": 17,
   "metadata": {},
   "outputs": [
    {
     "data": {
      "text/plain": [
       "DateTime_x              0\n",
       "Intake Type             0\n",
       "Intake Condition        0\n",
       "Animal Type             0\n",
       "Sex upon Intake         1\n",
       "Age upon Intake         0\n",
       "Breed                   0\n",
       "Color                   0\n",
       "DateTime_y              0\n",
       "Outcome Type            0\n",
       "Outcome Subtype     54165\n",
       "dtype: int64"
      ]
     },
     "execution_count": 17,
     "metadata": {},
     "output_type": "execute_result"
    }
   ],
   "source": [
    "df_merged.isnull().sum()"
   ]
  },
  {
   "cell_type": "markdown",
   "metadata": {},
   "source": [
    "Drop the 1 row without a sex upon intake (large enough dataset that dropping a row is fine):"
   ]
  },
  {
   "cell_type": "code",
   "execution_count": 18,
   "metadata": {},
   "outputs": [],
   "source": [
    "df_merged = df_merged.dropna(subset=['Sex upon Intake'])"
   ]
  },
  {
   "cell_type": "code",
   "execution_count": 19,
   "metadata": {},
   "outputs": [
    {
     "data": {
      "text/plain": [
       "DateTime_x              0\n",
       "Intake Type             0\n",
       "Intake Condition        0\n",
       "Animal Type             0\n",
       "Sex upon Intake         0\n",
       "Age upon Intake         0\n",
       "Breed                   0\n",
       "Color                   0\n",
       "DateTime_y              0\n",
       "Outcome Type            0\n",
       "Outcome Subtype     54164\n",
       "dtype: int64"
      ]
     },
     "execution_count": 19,
     "metadata": {},
     "output_type": "execute_result"
    }
   ],
   "source": [
    "df_merged.isnull().sum()"
   ]
  },
  {
   "cell_type": "markdown",
   "metadata": {},
   "source": [
    "Change DateTime columns to pandas datetime object:"
   ]
  },
  {
   "cell_type": "code",
   "execution_count": 20,
   "metadata": {},
   "outputs": [],
   "source": [
    "df_merged['DateTime_x']=pd.to_datetime(df_merged['DateTime_x'])"
   ]
  },
  {
   "cell_type": "code",
   "execution_count": 21,
   "metadata": {},
   "outputs": [],
   "source": [
    "df_merged['DateTime_y']=pd.to_datetime(df_merged['DateTime_y'])"
   ]
  },
  {
   "cell_type": "code",
   "execution_count": 22,
   "metadata": {},
   "outputs": [
    {
     "data": {
      "text/plain": [
       "DateTime_x          datetime64[ns]\n",
       "Intake Type                 object\n",
       "Intake Condition            object\n",
       "Animal Type                 object\n",
       "Sex upon Intake             object\n",
       "Age upon Intake             object\n",
       "Breed                       object\n",
       "Color                       object\n",
       "DateTime_y          datetime64[ns]\n",
       "Outcome Type                object\n",
       "Outcome Subtype             object\n",
       "dtype: object"
      ]
     },
     "execution_count": 22,
     "metadata": {},
     "output_type": "execute_result"
    }
   ],
   "source": [
    "df_merged.dtypes"
   ]
  },
  {
   "cell_type": "code",
   "execution_count": 23,
   "metadata": {},
   "outputs": [
    {
     "data": {
      "text/html": [
       "<div>\n",
       "<style scoped>\n",
       "    .dataframe tbody tr th:only-of-type {\n",
       "        vertical-align: middle;\n",
       "    }\n",
       "\n",
       "    .dataframe tbody tr th {\n",
       "        vertical-align: top;\n",
       "    }\n",
       "\n",
       "    .dataframe thead th {\n",
       "        text-align: right;\n",
       "    }\n",
       "</style>\n",
       "<table border=\"1\" class=\"dataframe\">\n",
       "  <thead>\n",
       "    <tr style=\"text-align: right;\">\n",
       "      <th></th>\n",
       "      <th>DateTime_x</th>\n",
       "      <th>Intake Type</th>\n",
       "      <th>Intake Condition</th>\n",
       "      <th>Animal Type</th>\n",
       "      <th>Sex upon Intake</th>\n",
       "      <th>Age upon Intake</th>\n",
       "      <th>Breed</th>\n",
       "      <th>Color</th>\n",
       "      <th>DateTime_y</th>\n",
       "      <th>Outcome Type</th>\n",
       "      <th>Outcome Subtype</th>\n",
       "    </tr>\n",
       "  </thead>\n",
       "  <tbody>\n",
       "    <tr>\n",
       "      <th>0</th>\n",
       "      <td>2019-01-03 16:19:00</td>\n",
       "      <td>Stray</td>\n",
       "      <td>Normal</td>\n",
       "      <td>Dog</td>\n",
       "      <td>Neutered Male</td>\n",
       "      <td>2 years</td>\n",
       "      <td>Beagle Mix</td>\n",
       "      <td>Tricolor</td>\n",
       "      <td>2019-01-08 15:11:00</td>\n",
       "      <td>Transfer</td>\n",
       "      <td>Partner</td>\n",
       "    </tr>\n",
       "    <tr>\n",
       "      <th>1</th>\n",
       "      <td>2015-07-05 12:59:00</td>\n",
       "      <td>Stray</td>\n",
       "      <td>Normal</td>\n",
       "      <td>Dog</td>\n",
       "      <td>Spayed Female</td>\n",
       "      <td>8 years</td>\n",
       "      <td>English Springer Spaniel</td>\n",
       "      <td>White/Liver</td>\n",
       "      <td>2015-07-05 15:13:00</td>\n",
       "      <td>Return to Owner</td>\n",
       "      <td>NaN</td>\n",
       "    </tr>\n",
       "  </tbody>\n",
       "</table>\n",
       "</div>"
      ],
      "text/plain": [
       "           DateTime_x Intake Type Intake Condition Animal Type  \\\n",
       "0 2019-01-03 16:19:00       Stray           Normal         Dog   \n",
       "1 2015-07-05 12:59:00       Stray           Normal         Dog   \n",
       "\n",
       "  Sex upon Intake Age upon Intake                     Breed        Color  \\\n",
       "0   Neutered Male         2 years                Beagle Mix     Tricolor   \n",
       "1   Spayed Female         8 years  English Springer Spaniel  White/Liver   \n",
       "\n",
       "           DateTime_y     Outcome Type Outcome Subtype  \n",
       "0 2019-01-08 15:11:00         Transfer         Partner  \n",
       "1 2015-07-05 15:13:00  Return to Owner             NaN  "
      ]
     },
     "execution_count": 23,
     "metadata": {},
     "output_type": "execute_result"
    }
   ],
   "source": [
    "df_merged.head(2)"
   ]
  },
  {
   "cell_type": "markdown",
   "metadata": {},
   "source": [
    "Calculate the duration of time that an animal was at the shelter:"
   ]
  },
  {
   "cell_type": "code",
   "execution_count": 24,
   "metadata": {},
   "outputs": [],
   "source": [
    "df_merged['TimeDuration']=(df_merged['DateTime_y']-df_merged['DateTime_x'])"
   ]
  },
  {
   "cell_type": "code",
   "execution_count": 25,
   "metadata": {},
   "outputs": [
    {
     "data": {
      "text/html": [
       "<div>\n",
       "<style scoped>\n",
       "    .dataframe tbody tr th:only-of-type {\n",
       "        vertical-align: middle;\n",
       "    }\n",
       "\n",
       "    .dataframe tbody tr th {\n",
       "        vertical-align: top;\n",
       "    }\n",
       "\n",
       "    .dataframe thead th {\n",
       "        text-align: right;\n",
       "    }\n",
       "</style>\n",
       "<table border=\"1\" class=\"dataframe\">\n",
       "  <thead>\n",
       "    <tr style=\"text-align: right;\">\n",
       "      <th></th>\n",
       "      <th>DateTime_x</th>\n",
       "      <th>Intake Type</th>\n",
       "      <th>Intake Condition</th>\n",
       "      <th>Animal Type</th>\n",
       "      <th>Sex upon Intake</th>\n",
       "      <th>Age upon Intake</th>\n",
       "      <th>Breed</th>\n",
       "      <th>Color</th>\n",
       "      <th>DateTime_y</th>\n",
       "      <th>Outcome Type</th>\n",
       "      <th>Outcome Subtype</th>\n",
       "      <th>TimeDuration</th>\n",
       "    </tr>\n",
       "  </thead>\n",
       "  <tbody>\n",
       "    <tr>\n",
       "      <th>0</th>\n",
       "      <td>2019-01-03 16:19:00</td>\n",
       "      <td>Stray</td>\n",
       "      <td>Normal</td>\n",
       "      <td>Dog</td>\n",
       "      <td>Neutered Male</td>\n",
       "      <td>2 years</td>\n",
       "      <td>Beagle Mix</td>\n",
       "      <td>Tricolor</td>\n",
       "      <td>2019-01-08 15:11:00</td>\n",
       "      <td>Transfer</td>\n",
       "      <td>Partner</td>\n",
       "      <td>4 days 22:52:00</td>\n",
       "    </tr>\n",
       "    <tr>\n",
       "      <th>1</th>\n",
       "      <td>2015-07-05 12:59:00</td>\n",
       "      <td>Stray</td>\n",
       "      <td>Normal</td>\n",
       "      <td>Dog</td>\n",
       "      <td>Spayed Female</td>\n",
       "      <td>8 years</td>\n",
       "      <td>English Springer Spaniel</td>\n",
       "      <td>White/Liver</td>\n",
       "      <td>2015-07-05 15:13:00</td>\n",
       "      <td>Return to Owner</td>\n",
       "      <td>NaN</td>\n",
       "      <td>0 days 02:14:00</td>\n",
       "    </tr>\n",
       "  </tbody>\n",
       "</table>\n",
       "</div>"
      ],
      "text/plain": [
       "           DateTime_x Intake Type Intake Condition Animal Type  \\\n",
       "0 2019-01-03 16:19:00       Stray           Normal         Dog   \n",
       "1 2015-07-05 12:59:00       Stray           Normal         Dog   \n",
       "\n",
       "  Sex upon Intake Age upon Intake                     Breed        Color  \\\n",
       "0   Neutered Male         2 years                Beagle Mix     Tricolor   \n",
       "1   Spayed Female         8 years  English Springer Spaniel  White/Liver   \n",
       "\n",
       "           DateTime_y     Outcome Type Outcome Subtype    TimeDuration  \n",
       "0 2019-01-08 15:11:00         Transfer         Partner 4 days 22:52:00  \n",
       "1 2015-07-05 15:13:00  Return to Owner             NaN 0 days 02:14:00  "
      ]
     },
     "execution_count": 25,
     "metadata": {},
     "output_type": "execute_result"
    }
   ],
   "source": [
    "df_merged.head(2)"
   ]
  },
  {
   "cell_type": "markdown",
   "metadata": {},
   "source": [
    "Drop original DateTime columns:"
   ]
  },
  {
   "cell_type": "code",
   "execution_count": 26,
   "metadata": {},
   "outputs": [],
   "source": [
    "df_merged=df_merged.drop(['DateTime_x'], axis=1)\n",
    "df_merged=df_merged.drop(['DateTime_y'], axis=1)"
   ]
  },
  {
   "cell_type": "code",
   "execution_count": 27,
   "metadata": {},
   "outputs": [
    {
     "data": {
      "text/plain": [
       "<matplotlib.axes._subplots.AxesSubplot at 0x7f9269eccdd0>"
      ]
     },
     "execution_count": 27,
     "metadata": {},
     "output_type": "execute_result"
    },
    {
     "data": {
      "image/png": "[encoded data removed]",
      "text/plain": [
       "<Figure size 432x288 with 1 Axes>"
      ]
     },
     "metadata": {
      "needs_background": "light"
     },
     "output_type": "display_data"
    }
   ],
   "source": [
    "sns.countplot(x=\"Animal Type\", data=df_merged)"
   ]
  },
  {
   "cell_type": "markdown",
   "metadata": {},
   "source": [
    "Subset our data to include only dogs. Originally we considered looking at all types of animals, but we decided that limiting it to just dogs would reduce dimensionality and focus our research:"
   ]
  },
  {
   "cell_type": "code",
   "execution_count": 28,
   "metadata": {},
   "outputs": [
    {
     "data": {
      "text/plain": [
       "array(['Dog'], dtype=object)"
      ]
     },
     "execution_count": 28,
     "metadata": {},
     "output_type": "execute_result"
    }
   ],
   "source": [
    "df_dogs=df_merged[df_merged['Animal Type']=='Dog']\n",
    "df_dogs['Animal Type'].unique()"
   ]
  },
  {
   "cell_type": "code",
   "execution_count": 29,
   "metadata": {},
   "outputs": [],
   "source": [
    "df_dogs=df_dogs.drop(['Animal Type'], axis=1)"
   ]
  },
  {
   "cell_type": "markdown",
   "metadata": {},
   "source": [
    "We are left with over 56000 rows:"
   ]
  },
  {
   "cell_type": "code",
   "execution_count": 30,
   "metadata": {},
   "outputs": [
    {
     "data": {
      "text/plain": [
       "(56705, 9)"
      ]
     },
     "execution_count": 30,
     "metadata": {},
     "output_type": "execute_result"
    }
   ],
   "source": [
    "df_dogs.shape"
   ]
  },
  {
   "cell_type": "markdown",
   "metadata": {},
   "source": [
    "Here we can see the different outcomes for the dogs in this dataset:"
   ]
  },
  {
   "cell_type": "code",
   "execution_count": 31,
   "metadata": {},
   "outputs": [
    {
     "data": {
      "text/plain": [
       "array(['Transfer', 'Return to Owner', 'Adoption', 'Died', 'Euthanasia',\n",
       "       'Rto-Adopt', 'Missing', 'Disposal'], dtype=object)"
      ]
     },
     "execution_count": 31,
     "metadata": {},
     "output_type": "execute_result"
    }
   ],
   "source": [
    "df_dogs['Outcome Type'].unique()"
   ]
  },
  {
   "cell_type": "code",
   "execution_count": 32,
   "metadata": {},
   "outputs": [
    {
     "data": {
      "text/plain": [
       "<matplotlib.axes._subplots.AxesSubplot at 0x7f9269d514d0>"
      ]
     },
     "execution_count": 32,
     "metadata": {},
     "output_type": "execute_result"
    },
    {
     "data": {
      "image/png": "[encoded data removed]",
      "text/plain": [
       "<Figure size 432x288 with 1 Axes>"
      ]
     },
     "metadata": {
      "needs_background": "light"
     },
     "output_type": "display_data"
    }
   ],
   "source": [
    "chart=sns.countplot(x=\"Outcome Type\", data=df_dogs)\n",
    "chart.set_xticklabels(chart.get_xticklabels(), rotation=45)\n",
    "chart"
   ]
  },
  {
   "cell_type": "markdown",
   "metadata": {},
   "source": [
    "We are only concerned with animals that had a successful outcome: Adoption, Return to Owner, or Rto-Adopt. We could not find a specific definition for \"rto-adopt\" on the data website, but we are assuming it indicates that the pet was returned to its owner through an adoption process, so we include it here."
   ]
  },
  {
   "cell_type": "code",
   "execution_count": 33,
   "metadata": {},
   "outputs": [
    {
     "data": {
      "text/plain": [
       "array(['Return to Owner', 'Adoption', 'Rto-Adopt'], dtype=object)"
      ]
     },
     "execution_count": 33,
     "metadata": {},
     "output_type": "execute_result"
    }
   ],
   "source": [
    "df_dogs=df_dogs[df_dogs['Outcome Type'].isin([ 'Return to Owner', 'Adoption', 'Rto-Adopt'])]\n",
    "df_dogs['Outcome Type'].unique()"
   ]
  },
  {
   "cell_type": "code",
   "execution_count": 34,
   "metadata": {},
   "outputs": [],
   "source": [
    "df_dogs=df_dogs.drop(['Outcome Type'], axis=1)"
   ]
  },
  {
   "cell_type": "markdown",
   "metadata": {},
   "source": [
    "The outcome subtype column does not add value to our exploration, since we are considering 'Return to Owner', 'Adoption', 'Rto-Adopt' as successful regardless of the subtype. Drop this column:"
   ]
  },
  {
   "cell_type": "code",
   "execution_count": 35,
   "metadata": {},
   "outputs": [
    {
     "data": {
      "text/plain": [
       "array([nan, 'Foster', 'Offsite', 'Field', 'At Vet', 'Customer S', 'Prc'],\n",
       "      dtype=object)"
      ]
     },
     "execution_count": 35,
     "metadata": {},
     "output_type": "execute_result"
    }
   ],
   "source": [
    "df_dogs['Outcome Subtype'].unique()"
   ]
  },
  {
   "cell_type": "code",
   "execution_count": 36,
   "metadata": {},
   "outputs": [],
   "source": [
    "df_dogs=df_dogs.drop(['Outcome Subtype'], axis=1)"
   ]
  },
  {
   "cell_type": "code",
   "execution_count": 37,
   "metadata": {},
   "outputs": [
    {
     "data": {
      "text/html": [
       "<div>\n",
       "<style scoped>\n",
       "    .dataframe tbody tr th:only-of-type {\n",
       "        vertical-align: middle;\n",
       "    }\n",
       "\n",
       "    .dataframe tbody tr th {\n",
       "        vertical-align: top;\n",
       "    }\n",
       "\n",
       "    .dataframe thead th {\n",
       "        text-align: right;\n",
       "    }\n",
       "</style>\n",
       "<table border=\"1\" class=\"dataframe\">\n",
       "  <thead>\n",
       "    <tr style=\"text-align: right;\">\n",
       "      <th></th>\n",
       "      <th>Intake Type</th>\n",
       "      <th>Intake Condition</th>\n",
       "      <th>Sex upon Intake</th>\n",
       "      <th>Age upon Intake</th>\n",
       "      <th>Breed</th>\n",
       "      <th>Color</th>\n",
       "      <th>TimeDuration</th>\n",
       "    </tr>\n",
       "  </thead>\n",
       "  <tbody>\n",
       "    <tr>\n",
       "      <th>1</th>\n",
       "      <td>Stray</td>\n",
       "      <td>Normal</td>\n",
       "      <td>Spayed Female</td>\n",
       "      <td>8 years</td>\n",
       "      <td>English Springer Spaniel</td>\n",
       "      <td>White/Liver</td>\n",
       "      <td>0 days 02:14:00</td>\n",
       "    </tr>\n",
       "    <tr>\n",
       "      <th>2</th>\n",
       "      <td>Stray</td>\n",
       "      <td>Normal</td>\n",
       "      <td>Intact Male</td>\n",
       "      <td>11 months</td>\n",
       "      <td>Basenji Mix</td>\n",
       "      <td>Sable/White</td>\n",
       "      <td>6 days 22:34:00</td>\n",
       "    </tr>\n",
       "  </tbody>\n",
       "</table>\n",
       "</div>"
      ],
      "text/plain": [
       "  Intake Type Intake Condition Sex upon Intake Age upon Intake  \\\n",
       "1       Stray           Normal   Spayed Female         8 years   \n",
       "2       Stray           Normal     Intact Male       11 months   \n",
       "\n",
       "                      Breed        Color    TimeDuration  \n",
       "1  English Springer Spaniel  White/Liver 0 days 02:14:00  \n",
       "2               Basenji Mix  Sable/White 6 days 22:34:00  "
      ]
     },
     "execution_count": 37,
     "metadata": {},
     "output_type": "execute_result"
    }
   ],
   "source": [
    "df_dogs.head(2)"
   ]
  },
  {
   "cell_type": "code",
   "execution_count": 38,
   "metadata": {},
   "outputs": [
    {
     "data": {
      "text/plain": [
       "(41293, 7)"
      ]
     },
     "execution_count": 38,
     "metadata": {},
     "output_type": "execute_result"
    }
   ],
   "source": [
    "df_dogs.shape"
   ]
  },
  {
   "cell_type": "markdown",
   "metadata": {},
   "source": [
    "This leaves us with over 41000 rows. TimeDuration will be our outcome (we change this to binary in a future step). \n",
    "\n",
    "We have 5 categorical predictor features: Intake Type, Intake Condition, Sex upon Intake, Breed, and Color. \n",
    "\n",
    "We have 1 numeric features: Age upon Intake (this will be reported in days after processing). \n",
    "\n",
    "First, we explore how many unique values are in each of the categorical columns."
   ]
  },
  {
   "cell_type": "code",
   "execution_count": 39,
   "metadata": {},
   "outputs": [
    {
     "name": "stdout",
     "output_type": "stream",
     "text": [
      "Intake Type: 5\n",
      "Intake Condition: 10\n",
      "Sex upon Intake: 5\n",
      "Breed: 1991\n",
      "Color: 337\n"
     ]
    }
   ],
   "source": [
    "print('Intake Type:',df_dogs['Intake Type'].nunique())\n",
    "print('Intake Condition:',df_dogs['Intake Condition'].nunique())\n",
    "print('Sex upon Intake:',df_dogs['Sex upon Intake'].nunique())\n",
    "print('Breed:',df_dogs['Breed'].nunique())\n",
    "print('Color:',df_dogs['Color'].nunique())"
   ]
  },
  {
   "cell_type": "markdown",
   "metadata": {},
   "source": [
    "We can see above that we have large numbers of values in both Breed and Color. These will need to be simplified in order to reduce dimensionality of the dataset.\n",
    "\n",
    "We start by exploring the variety of breeds and their counts:"
   ]
  },
  {
   "cell_type": "code",
   "execution_count": 40,
   "metadata": {},
   "outputs": [
    {
     "data": {
      "text/plain": [
       "array(['Beagle Mix', 'English Springer Spaniel', 'Basenji Mix', ...,\n",
       "       'Carolina Dog/American Pit Bull Terrier',\n",
       "       'Collie Rough/Spanish Water Dog', 'Rhod Ridgeback/Redbone Hound'],\n",
       "      dtype=object)"
      ]
     },
     "execution_count": 40,
     "metadata": {},
     "output_type": "execute_result"
    }
   ],
   "source": [
    "df_merged['Breed'].unique()"
   ]
  },
  {
   "cell_type": "code",
   "execution_count": 41,
   "metadata": {},
   "outputs": [
    {
     "data": {
      "text/plain": [
       "Domestic Shorthair Mix               29048\n",
       "Pit Bull Mix                          6329\n",
       "Labrador Retriever Mix                5577\n",
       "Chihuahua Shorthair Mix               5516\n",
       "Domestic Shorthair                    5336\n",
       "                                     ...  \n",
       "Rhod Ridgeback/Mastiff                   1\n",
       "Rottweiler/Chinese Sharpei               1\n",
       "Rex-Mini/Lop-English                     1\n",
       "Basset Hound/Pembroke Welsh Corgi        1\n",
       "Rhod Ridgeback/Plott Hound               1\n",
       "Name: Breed, Length: 2569, dtype: int64"
      ]
     },
     "execution_count": 41,
     "metadata": {},
     "output_type": "execute_result"
    }
   ],
   "source": [
    "df_merged['Breed'].value_counts()"
   ]
  },
  {
   "cell_type": "markdown",
   "metadata": {},
   "source": [
    "First, we remove the word \"Mix\" from any breed name. ex: 'beagle' and 'beagle mix' will be the same breed for our analysis. We assume that \"beagle mix\" looks mostly like a beagle, and thus will be considered simply as a beagle for someone looking to adopt.\n",
    "\n",
    "Without more detailed infomormation from the shelter, we cannot simplify further. For example, we don't know whether a \"Beagle/Dachshund Longhair\" looks and acts more like a beagle or a dachsund. We do not want to just drop part of this; it would be an inappropriate over-simplification. However, if the shelter's process was to report the most prominent breed first, it could be worth only including the first one listed; since we don't have that information, we keep all parts of the description."
   ]
  },
  {
   "cell_type": "code",
   "execution_count": 42,
   "metadata": {},
   "outputs": [
    {
     "name": "stdout",
     "output_type": "stream",
     "text": [
      "Breed: 1830\n"
     ]
    }
   ],
   "source": [
    "df_dogs['Breed']=df_dogs['Breed'].str.replace(' Mix', '')\n",
    "print('Breed:',df_dogs['Breed'].nunique())"
   ]
  },
  {
   "cell_type": "markdown",
   "metadata": {},
   "source": [
    "Removing 'mix' reduced the number of unique values from 1991 to 1830.\n",
    "\n",
    "We now will examine just a subset of the 30 most common breeds in our dataset of adopted or returned-to-owner dogs:"
   ]
  },
  {
   "cell_type": "code",
   "execution_count": 43,
   "metadata": {},
   "outputs": [
    {
     "data": {
      "text/plain": [
       "['Pit Bull',\n",
       " 'Labrador Retriever',\n",
       " 'Chihuahua Shorthair',\n",
       " 'German Shepherd',\n",
       " 'Australian Cattle Dog',\n",
       " 'Dachshund',\n",
       " 'Siberian Husky',\n",
       " 'Border Collie',\n",
       " 'Boxer',\n",
       " 'Miniature Poodle',\n",
       " 'Australian Shepherd',\n",
       " 'Yorkshire Terrier',\n",
       " 'Catahoula',\n",
       " 'Rat Terrier',\n",
       " 'Miniature Schnauzer',\n",
       " 'Staffordshire',\n",
       " 'Jack Russell Terrier',\n",
       " 'Cairn Terrier',\n",
       " 'Beagle',\n",
       " 'Great Pyrenees',\n",
       " 'Chihuahua Longhair',\n",
       " 'Rottweiler',\n",
       " 'Pointer',\n",
       " 'American Bulldog',\n",
       " 'Anatol Shepherd',\n",
       " 'Shih Tzu',\n",
       " 'Black Mouth Cur',\n",
       " 'Plott Hound',\n",
       " 'Chihuahua Shorthair/Dachshund',\n",
       " 'American Pit Bull Terrier']"
      ]
     },
     "execution_count": 43,
     "metadata": {},
     "output_type": "execute_result"
    }
   ],
   "source": [
    "list(df_dogs['Breed'].value_counts().nlargest(n=30).index)"
   ]
  },
  {
   "cell_type": "markdown",
   "metadata": {},
   "source": [
    "We see a large variety of breeds in this subset, and this will reduce the dimensionality of our data to a manageable size for one-hot-encoding. We considered including more than 30 or less then 30, but after exploration we concluded that 30 gives a good variety of breeds while still remaining a manageable size for future processing.\n",
    "\n",
    "We subset our dataframe to only include these breeds, and display the remaining number of rows:"
   ]
  },
  {
   "cell_type": "code",
   "execution_count": 44,
   "metadata": {},
   "outputs": [],
   "source": [
    "df_dogs=df_dogs[df_dogs['Breed'].isin(list(df_dogs['Breed'].value_counts().nlargest(n=30).index))]"
   ]
  },
  {
   "cell_type": "code",
   "execution_count": 45,
   "metadata": {},
   "outputs": [
    {
     "name": "stdout",
     "output_type": "stream",
     "text": [
      "30\n",
      "(28390, 7)\n"
     ]
    }
   ],
   "source": [
    "print(df_dogs['Breed'].nunique())\n",
    "print(df_dogs.shape)"
   ]
  },
  {
   "cell_type": "markdown",
   "metadata": {},
   "source": [
    "This leaves us with over 28000 rows for analysis. Now we will do a similar exploration with 'color'. Start with viewing the most common 30 colors to get an idea of the information:"
   ]
  },
  {
   "cell_type": "code",
   "execution_count": 46,
   "metadata": {},
   "outputs": [
    {
     "data": {
      "text/plain": [
       "['Black/White',\n",
       " 'Brown/White',\n",
       " 'Black',\n",
       " 'Tan/White',\n",
       " 'White',\n",
       " 'Tan',\n",
       " 'Black/Tan',\n",
       " 'Brown',\n",
       " 'Tricolor',\n",
       " 'Black/Brown',\n",
       " 'White/Black',\n",
       " 'Blue/White',\n",
       " 'White/Brown',\n",
       " 'Brown Brindle/White',\n",
       " 'Brown/Black',\n",
       " 'White/Tan',\n",
       " 'Red/White',\n",
       " 'Red',\n",
       " 'Tan/Black',\n",
       " 'Brown Brindle',\n",
       " 'Chocolate/White',\n",
       " 'Yellow',\n",
       " 'Cream',\n",
       " 'Fawn/White',\n",
       " 'Chocolate',\n",
       " 'Sable',\n",
       " 'White/Brown Brindle',\n",
       " 'Brown/Tan',\n",
       " 'Black/Tricolor',\n",
       " 'Buff']"
      ]
     },
     "execution_count": 46,
     "metadata": {},
     "output_type": "execute_result"
    }
   ],
   "source": [
    "list(df_dogs['Color'].value_counts().nlargest(n=30).index)"
   ]
  },
  {
   "cell_type": "markdown",
   "metadata": {},
   "source": [
    "We can see in this set that the same colors can be listed in different orders (black/white and white/black). We would need more information from the shelter about how the record these colors to get the most accurate representation of this. For our purposes, we're going to assume black/white and white/black mean the same thing. Here, we perform a mapping to result in consisent orders. We could just reduce the number of values to the top 30, but we think we'll have a more accurate representation if we do this mapping first."
   ]
  },
  {
   "cell_type": "code",
   "execution_count": 47,
   "metadata": {},
   "outputs": [
    {
     "data": {
      "text/plain": [
       "288"
      ]
     },
     "execution_count": 47,
     "metadata": {},
     "output_type": "execute_result"
    }
   ],
   "source": [
    "df_dogs['Color'].nunique()"
   ]
  },
  {
   "cell_type": "code",
   "execution_count": 48,
   "metadata": {},
   "outputs": [
    {
     "data": {
      "text/plain": [
       "28390"
      ]
     },
     "execution_count": 48,
     "metadata": {},
     "output_type": "execute_result"
    }
   ],
   "source": [
    "colorlist=list(df_dogs['Color'])\n",
    "len(colorlist)"
   ]
  },
  {
   "cell_type": "markdown",
   "metadata": {},
   "source": [
    "The following code block will build a new color column that doesn't have duplicate color pairs. Ex: White/Black will become Black/White if the latter is already in the new column. The printout of the length confirms that we didn't accidentally skip any additions."
   ]
  },
  {
   "cell_type": "code",
   "execution_count": 49,
   "metadata": {},
   "outputs": [
    {
     "data": {
      "text/plain": [
       "28390"
      ]
     },
     "execution_count": 49,
     "metadata": {},
     "output_type": "execute_result"
    }
   ],
   "source": [
    "final_colors=[]\n",
    "\n",
    "for color in colorlist:\n",
    "    if '/' in color: #two colors listed\n",
    "        splt=color.split('/')\n",
    "        switchcolor=splt[1]+'/'+splt[0] #reverse order of colors\n",
    "        if splt[1]==splt[0]: #Black/Black becomes Black\n",
    "            final_colors.append(splt[1])\n",
    "        elif switchcolor in final_colors: #if the reverse order already exists, append it\n",
    "            final_colors.append(switchcolor)\n",
    "        else: #if the reverse order does not exist, append the orginal\n",
    "            final_colors.append(color)\n",
    "    else: #only one color listed\n",
    "        final_colors.append(color)\n",
    "        \n",
    "len(final_colors)"
   ]
  },
  {
   "cell_type": "markdown",
   "metadata": {},
   "source": [
    "Reassign this new list to our colors column:"
   ]
  },
  {
   "cell_type": "code",
   "execution_count": 50,
   "metadata": {},
   "outputs": [],
   "source": [
    "df_dogs['Color']=final_colors"
   ]
  },
  {
   "cell_type": "markdown",
   "metadata": {},
   "source": [
    "A quick scan of the 50 most common shows that we don't have any repeating color pairs now like we did in the top 30 before this fix:"
   ]
  },
  {
   "cell_type": "code",
   "execution_count": 51,
   "metadata": {},
   "outputs": [
    {
     "data": {
      "text/plain": [
       "['Black/White',\n",
       " 'Brown/White',\n",
       " 'White/Tan',\n",
       " 'Brown/Black',\n",
       " 'Black',\n",
       " 'Black/Tan',\n",
       " 'White',\n",
       " 'Tan',\n",
       " 'Brown',\n",
       " 'Blue/White',\n",
       " 'Tricolor',\n",
       " 'White/Brown Brindle',\n",
       " 'Red/White',\n",
       " 'Chocolate/White',\n",
       " 'Red',\n",
       " 'Brown Brindle',\n",
       " 'Yellow',\n",
       " 'Gray/White',\n",
       " 'Fawn/White',\n",
       " 'Cream',\n",
       " 'Brown/Tan',\n",
       " 'Chocolate',\n",
       " 'Sable',\n",
       " 'Black/Tricolor',\n",
       " 'Buff',\n",
       " 'Blue',\n",
       " 'Black/Gray',\n",
       " 'Tricolor/White',\n",
       " 'Blue Merle',\n",
       " 'White/Cream']"
      ]
     },
     "execution_count": 51,
     "metadata": {},
     "output_type": "execute_result"
    }
   ],
   "source": [
    "list(df_dogs['Color'].value_counts().nlargest(n=30).index)"
   ]
  },
  {
   "cell_type": "code",
   "execution_count": 52,
   "metadata": {},
   "outputs": [
    {
     "data": {
      "text/plain": [
       "196"
      ]
     },
     "execution_count": 52,
     "metadata": {},
     "output_type": "execute_result"
    }
   ],
   "source": [
    "df_dogs['Color'].nunique()"
   ]
  },
  {
   "cell_type": "markdown",
   "metadata": {},
   "source": [
    "We reduced the number of unique colors from 288 to 196. Now we will subset our dataframe to only include animals in the top 30 most common color categories."
   ]
  },
  {
   "cell_type": "code",
   "execution_count": 53,
   "metadata": {},
   "outputs": [],
   "source": [
    "df_dogs=df_dogs[df_dogs['Color'].isin(list(df_dogs['Color'].value_counts().nlargest(n=30).index))]"
   ]
  },
  {
   "cell_type": "code",
   "execution_count": 54,
   "metadata": {},
   "outputs": [
    {
     "data": {
      "text/plain": [
       "(25964, 7)"
      ]
     },
     "execution_count": 54,
     "metadata": {},
     "output_type": "execute_result"
    }
   ],
   "source": [
    "df_dogs.shape"
   ]
  },
  {
   "cell_type": "markdown",
   "metadata": {},
   "source": [
    "We still have 25000 rows to work with. This is a more accurate representation of the top color pairings than it would have been without accounting for the equivalent pairings."
   ]
  },
  {
   "cell_type": "code",
   "execution_count": 55,
   "metadata": {},
   "outputs": [
    {
     "data": {
      "text/html": [
       "<div>\n",
       "<style scoped>\n",
       "    .dataframe tbody tr th:only-of-type {\n",
       "        vertical-align: middle;\n",
       "    }\n",
       "\n",
       "    .dataframe tbody tr th {\n",
       "        vertical-align: top;\n",
       "    }\n",
       "\n",
       "    .dataframe thead th {\n",
       "        text-align: right;\n",
       "    }\n",
       "</style>\n",
       "<table border=\"1\" class=\"dataframe\">\n",
       "  <thead>\n",
       "    <tr style=\"text-align: right;\">\n",
       "      <th></th>\n",
       "      <th>Intake Type</th>\n",
       "      <th>Intake Condition</th>\n",
       "      <th>Sex upon Intake</th>\n",
       "      <th>Age upon Intake</th>\n",
       "      <th>Breed</th>\n",
       "      <th>Color</th>\n",
       "      <th>TimeDuration</th>\n",
       "    </tr>\n",
       "  </thead>\n",
       "  <tbody>\n",
       "    <tr>\n",
       "      <th>5</th>\n",
       "      <td>Owner Surrender</td>\n",
       "      <td>Normal</td>\n",
       "      <td>Neutered Male</td>\n",
       "      <td>2 years</td>\n",
       "      <td>Labrador Retriever</td>\n",
       "      <td>Chocolate</td>\n",
       "      <td>3 days 04:58:00</td>\n",
       "    </tr>\n",
       "    <tr>\n",
       "      <th>7</th>\n",
       "      <td>Public Assist</td>\n",
       "      <td>Normal</td>\n",
       "      <td>Intact Male</td>\n",
       "      <td>2 years</td>\n",
       "      <td>Labrador Retriever</td>\n",
       "      <td>Black/White</td>\n",
       "      <td>5 days 03:40:00</td>\n",
       "    </tr>\n",
       "  </tbody>\n",
       "</table>\n",
       "</div>"
      ],
      "text/plain": [
       "       Intake Type Intake Condition Sex upon Intake Age upon Intake  \\\n",
       "5  Owner Surrender           Normal   Neutered Male         2 years   \n",
       "7    Public Assist           Normal     Intact Male         2 years   \n",
       "\n",
       "                Breed        Color    TimeDuration  \n",
       "5  Labrador Retriever    Chocolate 3 days 04:58:00  \n",
       "7  Labrador Retriever  Black/White 5 days 03:40:00  "
      ]
     },
     "execution_count": 55,
     "metadata": {},
     "output_type": "execute_result"
    }
   ],
   "source": [
    "df_dogs.head(2)"
   ]
  },
  {
   "cell_type": "markdown",
   "metadata": {},
   "source": [
    "Now we need to change our TimeDuration column into a binary outcome for classification. Our question explores the probability of an animal being adopted within 1 week. A time duration of less than 1 week will be mapped to \"1\", everything else to \"0\". We chose 1 week because it was a good middle value in our dataset and provided a good mix of success and failure, as well as having practical meaning."
   ]
  },
  {
   "cell_type": "code",
   "execution_count": 56,
   "metadata": {},
   "outputs": [],
   "source": [
    "t=datetime.timedelta(days=7)\n",
    "df_dogs['Success']=df_dogs['TimeDuration']<t #gives boolean outcome\n",
    "\n",
    "tf_mapping = {True: 1, False : 0} #map booleans to 1/0\n",
    "df_dogs['Success'] = df_dogs['Success'].map(tf_mapping)\n",
    "df_dogs=df_dogs.drop(['TimeDuration'], axis=1)"
   ]
  },
  {
   "cell_type": "code",
   "execution_count": 57,
   "metadata": {},
   "outputs": [
    {
     "data": {
      "text/html": [
       "<div>\n",
       "<style scoped>\n",
       "    .dataframe tbody tr th:only-of-type {\n",
       "        vertical-align: middle;\n",
       "    }\n",
       "\n",
       "    .dataframe tbody tr th {\n",
       "        vertical-align: top;\n",
       "    }\n",
       "\n",
       "    .dataframe thead th {\n",
       "        text-align: right;\n",
       "    }\n",
       "</style>\n",
       "<table border=\"1\" class=\"dataframe\">\n",
       "  <thead>\n",
       "    <tr style=\"text-align: right;\">\n",
       "      <th></th>\n",
       "      <th>Intake Type</th>\n",
       "      <th>Intake Condition</th>\n",
       "      <th>Sex upon Intake</th>\n",
       "      <th>Age upon Intake</th>\n",
       "      <th>Breed</th>\n",
       "      <th>Color</th>\n",
       "      <th>Success</th>\n",
       "    </tr>\n",
       "  </thead>\n",
       "  <tbody>\n",
       "    <tr>\n",
       "      <th>5</th>\n",
       "      <td>Owner Surrender</td>\n",
       "      <td>Normal</td>\n",
       "      <td>Neutered Male</td>\n",
       "      <td>2 years</td>\n",
       "      <td>Labrador Retriever</td>\n",
       "      <td>Chocolate</td>\n",
       "      <td>1</td>\n",
       "    </tr>\n",
       "    <tr>\n",
       "      <th>7</th>\n",
       "      <td>Public Assist</td>\n",
       "      <td>Normal</td>\n",
       "      <td>Intact Male</td>\n",
       "      <td>2 years</td>\n",
       "      <td>Labrador Retriever</td>\n",
       "      <td>Black/White</td>\n",
       "      <td>1</td>\n",
       "    </tr>\n",
       "  </tbody>\n",
       "</table>\n",
       "</div>"
      ],
      "text/plain": [
       "       Intake Type Intake Condition Sex upon Intake Age upon Intake  \\\n",
       "5  Owner Surrender           Normal   Neutered Male         2 years   \n",
       "7    Public Assist           Normal     Intact Male         2 years   \n",
       "\n",
       "                Breed        Color  Success  \n",
       "5  Labrador Retriever    Chocolate        1  \n",
       "7  Labrador Retriever  Black/White        1  "
      ]
     },
     "execution_count": 57,
     "metadata": {},
     "output_type": "execute_result"
    }
   ],
   "source": [
    "df_dogs.head(2)"
   ]
  },
  {
   "cell_type": "code",
   "execution_count": 58,
   "metadata": {},
   "outputs": [
    {
     "data": {
      "text/plain": [
       "1    15352\n",
       "0    10612\n",
       "Name: Success, dtype: int64"
      ]
     },
     "execution_count": 58,
     "metadata": {},
     "output_type": "execute_result"
    }
   ],
   "source": [
    "df_dogs['Success'].value_counts()"
   ]
  },
  {
   "cell_type": "markdown",
   "metadata": {},
   "source": [
    "We have a good mix of 1 and 0 in our outcome column. Now we move the outcome column to the beginning for simplicity and clarity:"
   ]
  },
  {
   "cell_type": "code",
   "execution_count": 59,
   "metadata": {},
   "outputs": [
    {
     "data": {
      "text/html": [
       "<div>\n",
       "<style scoped>\n",
       "    .dataframe tbody tr th:only-of-type {\n",
       "        vertical-align: middle;\n",
       "    }\n",
       "\n",
       "    .dataframe tbody tr th {\n",
       "        vertical-align: top;\n",
       "    }\n",
       "\n",
       "    .dataframe thead th {\n",
       "        text-align: right;\n",
       "    }\n",
       "</style>\n",
       "<table border=\"1\" class=\"dataframe\">\n",
       "  <thead>\n",
       "    <tr style=\"text-align: right;\">\n",
       "      <th></th>\n",
       "      <th>Success</th>\n",
       "      <th>Intake Type</th>\n",
       "      <th>Intake Condition</th>\n",
       "      <th>Sex upon Intake</th>\n",
       "      <th>Age upon Intake</th>\n",
       "      <th>Breed</th>\n",
       "      <th>Color</th>\n",
       "    </tr>\n",
       "  </thead>\n",
       "  <tbody>\n",
       "    <tr>\n",
       "      <th>5</th>\n",
       "      <td>1</td>\n",
       "      <td>Owner Surrender</td>\n",
       "      <td>Normal</td>\n",
       "      <td>Neutered Male</td>\n",
       "      <td>2 years</td>\n",
       "      <td>Labrador Retriever</td>\n",
       "      <td>Chocolate</td>\n",
       "    </tr>\n",
       "    <tr>\n",
       "      <th>7</th>\n",
       "      <td>1</td>\n",
       "      <td>Public Assist</td>\n",
       "      <td>Normal</td>\n",
       "      <td>Intact Male</td>\n",
       "      <td>2 years</td>\n",
       "      <td>Labrador Retriever</td>\n",
       "      <td>Black/White</td>\n",
       "    </tr>\n",
       "  </tbody>\n",
       "</table>\n",
       "</div>"
      ],
      "text/plain": [
       "   Success      Intake Type Intake Condition Sex upon Intake Age upon Intake  \\\n",
       "5        1  Owner Surrender           Normal   Neutered Male         2 years   \n",
       "7        1    Public Assist           Normal     Intact Male         2 years   \n",
       "\n",
       "                Breed        Color  \n",
       "5  Labrador Retriever    Chocolate  \n",
       "7  Labrador Retriever  Black/White  "
      ]
     },
     "execution_count": 59,
     "metadata": {},
     "output_type": "execute_result"
    }
   ],
   "source": [
    "movecol = df_dogs.pop('Success')\n",
    "df_dogs.insert(0, movecol.name, movecol)\n",
    "df_dogs.head(2)"
   ]
  },
  {
   "cell_type": "code",
   "execution_count": 60,
   "metadata": {},
   "outputs": [
    {
     "data": {
      "text/plain": [
       "(25964, 7)"
      ]
     },
     "execution_count": 60,
     "metadata": {},
     "output_type": "execute_result"
    }
   ],
   "source": [
    "df_dogs.shape"
   ]
  },
  {
   "cell_type": "markdown",
   "metadata": {},
   "source": [
    "We now have our categorical columns in good shape. Now we need to change the age column to be in appropriate numeric format:"
   ]
  },
  {
   "cell_type": "code",
   "execution_count": 61,
   "metadata": {},
   "outputs": [
    {
     "data": {
      "text/plain": [
       "array(['2 years', '5 months', '1 month', '3 years', '7 years', '1 year',\n",
       "       '12 years', '6 months', '2 months', '14 years', '4 years',\n",
       "       '8 years', '4 months', '5 years', '6 years', '3 months',\n",
       "       '10 years', '7 months', '3 weeks', '9 years', '10 months',\n",
       "       '11 years', '15 years', '13 years', '4 weeks', '3 days',\n",
       "       '11 months', '8 months', '17 years', '0 years', '2 weeks',\n",
       "       '19 years', '18 years', '9 months', '1 week', '5 weeks',\n",
       "       '16 years', '1 weeks', '4 days', '1 day', '2 days', '5 days',\n",
       "       '6 days'], dtype=object)"
      ]
     },
     "execution_count": 61,
     "metadata": {},
     "output_type": "execute_result"
    }
   ],
   "source": [
    "df_dogs['Age upon Intake'].unique()"
   ]
  },
  {
   "cell_type": "code",
   "execution_count": 62,
   "metadata": {},
   "outputs": [
    {
     "data": {
      "text/plain": [
       "0"
      ]
     },
     "execution_count": 62,
     "metadata": {},
     "output_type": "execute_result"
    }
   ],
   "source": [
    "df_dogs['Age upon Intake'].isnull().sum()"
   ]
  },
  {
   "cell_type": "markdown",
   "metadata": {},
   "source": [
    "Function below will turn any age into days. It will turn any negative age (as seen above) into None; this will be dropped later."
   ]
  },
  {
   "cell_type": "code",
   "execution_count": 63,
   "metadata": {},
   "outputs": [],
   "source": [
    "def yearstomonths(age):\n",
    "    if age[0]=='-':\n",
    "        age=None\n",
    "    \n",
    "    elif 'years' in age:\n",
    "        age=age.replace(' years', '')\n",
    "        age=int(age)\n",
    "        age=age*365\n",
    "    elif 'year' in age:\n",
    "        age=age.replace(' year', '')\n",
    "        age=int(age)\n",
    "        age=age*365\n",
    "        \n",
    "    elif 'months' in age:\n",
    "        age=age.replace(' months', '')\n",
    "        age=float(age)\n",
    "        age=age*30\n",
    "    elif 'month' in age:\n",
    "        age=age.replace(' month', '')\n",
    "        age=float(age)\n",
    "        age=age*30\n",
    "        \n",
    "    elif 'weeks' in age:\n",
    "        age=age.replace(' weeks', '')\n",
    "        age=int(age)\n",
    "        age=age*7\n",
    "    elif 'week' in age:\n",
    "        age=age.replace(' week', '')\n",
    "        age=int(age)\n",
    "        age=age*7\n",
    "    \n",
    "    elif 'days' in age:\n",
    "        age=age.replace(' days', '')\n",
    "        age=int(age)\n",
    "\n",
    "    elif 'day' in age:\n",
    "        age=age.replace(' day', '')\n",
    "        age=int(age)\n",
    "        \n",
    "    return age\n",
    "        "
   ]
  },
  {
   "cell_type": "code",
   "execution_count": 64,
   "metadata": {},
   "outputs": [],
   "source": [
    "df_dogs['Age upon Intake']=df_dogs['Age upon Intake'].map(yearstomonths)"
   ]
  },
  {
   "cell_type": "code",
   "execution_count": 65,
   "metadata": {},
   "outputs": [
    {
     "data": {
      "text/plain": [
       "array([7.300e+02, 1.500e+02, 3.000e+01, 1.095e+03, 2.555e+03, 3.650e+02,\n",
       "       4.380e+03, 1.800e+02, 6.000e+01, 5.110e+03, 1.460e+03, 2.920e+03,\n",
       "       1.200e+02, 1.825e+03, 2.190e+03, 9.000e+01, 3.650e+03, 2.100e+02,\n",
       "       2.100e+01, 3.285e+03, 3.000e+02, 4.015e+03, 5.475e+03, 4.745e+03,\n",
       "       2.800e+01, 3.000e+00, 3.300e+02, 2.400e+02, 6.205e+03, 0.000e+00,\n",
       "       1.400e+01, 6.935e+03, 6.570e+03, 2.700e+02, 7.000e+00, 3.500e+01,\n",
       "       5.840e+03, 4.000e+00, 1.000e+00, 2.000e+00, 5.000e+00, 6.000e+00])"
      ]
     },
     "execution_count": 65,
     "metadata": {},
     "output_type": "execute_result"
    }
   ],
   "source": [
    "df_dogs['Age upon Intake'].unique()"
   ]
  },
  {
   "cell_type": "markdown",
   "metadata": {},
   "source": [
    "Here we display values for the columns Intake Type, Intake Condition, and Sex upon Intake:"
   ]
  },
  {
   "cell_type": "code",
   "execution_count": 66,
   "metadata": {},
   "outputs": [
    {
     "name": "stdout",
     "output_type": "stream",
     "text": [
      "Intake type: ['Owner Surrender' 'Public Assist' 'Stray' 'Euthanasia Request'\n",
      " 'Abandoned']\n",
      "\n",
      "Intake condition: ['Normal' 'Sick' 'Injured' 'Aged' 'Nursing' 'Other' 'Pregnant' 'Medical'\n",
      " 'Behavior' 'Feral']\n",
      "\n",
      "Sex upon Intake: ['Neutered Male' 'Intact Male' 'Intact Female' 'Spayed Female' 'Unknown']\n"
     ]
    }
   ],
   "source": [
    "print('Intake type:',df_dogs['Intake Type'].unique())\n",
    "print()\n",
    "print('Intake condition:',df_dogs['Intake Condition'].unique())\n",
    "print()\n",
    "print('Sex upon Intake:',df_dogs['Sex upon Intake'].unique())"
   ]
  },
  {
   "cell_type": "markdown",
   "metadata": {},
   "source": [
    "These values are all appropriate for our analaysis and we think will provide valuable information to our model."
   ]
  },
  {
   "cell_type": "markdown",
   "metadata": {},
   "source": [
    "One more check of number of categories in categorical columns:"
   ]
  },
  {
   "cell_type": "code",
   "execution_count": 67,
   "metadata": {},
   "outputs": [
    {
     "name": "stdout",
     "output_type": "stream",
     "text": [
      "Intake Type: 5\n",
      "Intake Condition: 10\n",
      "Sex upon Intake: 5\n",
      "Breed: 30\n",
      "Color: 30\n"
     ]
    }
   ],
   "source": [
    "print('Intake Type:',df_dogs['Intake Type'].nunique())\n",
    "print('Intake Condition:',df_dogs['Intake Condition'].nunique())\n",
    "print('Sex upon Intake:',df_dogs['Sex upon Intake'].nunique())\n",
    "print('Breed:',df_dogs['Breed'].nunique())\n",
    "print('Color:',df_dogs['Color'].nunique())"
   ]
  },
  {
   "cell_type": "markdown",
   "metadata": {},
   "source": [
    "This is an approriate number of features for our dataset (5 categorical and 1 numeric). As a reminder of our objective, the 'Success' column indicates whether a dog was adopted within 1 week.\n",
    "\n",
    "Final dataset before encoding displayed below:"
   ]
  },
  {
   "cell_type": "code",
   "execution_count": 68,
   "metadata": {},
   "outputs": [
    {
     "data": {
      "text/html": [
       "<div>\n",
       "<style scoped>\n",
       "    .dataframe tbody tr th:only-of-type {\n",
       "        vertical-align: middle;\n",
       "    }\n",
       "\n",
       "    .dataframe tbody tr th {\n",
       "        vertical-align: top;\n",
       "    }\n",
       "\n",
       "    .dataframe thead th {\n",
       "        text-align: right;\n",
       "    }\n",
       "</style>\n",
       "<table border=\"1\" class=\"dataframe\">\n",
       "  <thead>\n",
       "    <tr style=\"text-align: right;\">\n",
       "      <th></th>\n",
       "      <th>Success</th>\n",
       "      <th>Intake Type</th>\n",
       "      <th>Intake Condition</th>\n",
       "      <th>Sex upon Intake</th>\n",
       "      <th>Age upon Intake</th>\n",
       "      <th>Breed</th>\n",
       "      <th>Color</th>\n",
       "    </tr>\n",
       "  </thead>\n",
       "  <tbody>\n",
       "    <tr>\n",
       "      <th>5</th>\n",
       "      <td>1</td>\n",
       "      <td>Owner Surrender</td>\n",
       "      <td>Normal</td>\n",
       "      <td>Neutered Male</td>\n",
       "      <td>730.0</td>\n",
       "      <td>Labrador Retriever</td>\n",
       "      <td>Chocolate</td>\n",
       "    </tr>\n",
       "    <tr>\n",
       "      <th>7</th>\n",
       "      <td>1</td>\n",
       "      <td>Public Assist</td>\n",
       "      <td>Normal</td>\n",
       "      <td>Intact Male</td>\n",
       "      <td>730.0</td>\n",
       "      <td>Labrador Retriever</td>\n",
       "      <td>Black/White</td>\n",
       "    </tr>\n",
       "  </tbody>\n",
       "</table>\n",
       "</div>"
      ],
      "text/plain": [
       "   Success      Intake Type Intake Condition Sex upon Intake  Age upon Intake  \\\n",
       "5        1  Owner Surrender           Normal   Neutered Male            730.0   \n",
       "7        1    Public Assist           Normal     Intact Male            730.0   \n",
       "\n",
       "                Breed        Color  \n",
       "5  Labrador Retriever    Chocolate  \n",
       "7  Labrador Retriever  Black/White  "
      ]
     },
     "execution_count": 68,
     "metadata": {},
     "output_type": "execute_result"
    }
   ],
   "source": [
    "df_final=df_dogs\n",
    "df_final.head(2)"
   ]
  },
  {
   "cell_type": "code",
   "execution_count": 69,
   "metadata": {},
   "outputs": [
    {
     "data": {
      "text/plain": [
       "(25964, 7)"
      ]
     },
     "execution_count": 69,
     "metadata": {},
     "output_type": "execute_result"
    }
   ],
   "source": [
    "df_final.shape"
   ]
  },
  {
   "cell_type": "markdown",
   "metadata": {},
   "source": [
    "Feature encoding via One-hot-encoding on categorical columns. Drop_first=True to prevent colinearity:"
   ]
  },
  {
   "cell_type": "code",
   "execution_count": 70,
   "metadata": {},
   "outputs": [],
   "source": [
    "df_final=pd.get_dummies(df_final, drop_first=True)"
   ]
  },
  {
   "cell_type": "code",
   "execution_count": 71,
   "metadata": {},
   "outputs": [
    {
     "data": {
      "text/plain": [
       "(25964, 77)"
      ]
     },
     "execution_count": 71,
     "metadata": {},
     "output_type": "execute_result"
    }
   ],
   "source": [
    "df_final.shape"
   ]
  },
  {
   "cell_type": "code",
   "execution_count": 72,
   "metadata": {},
   "outputs": [
    {
     "data": {
      "text/html": [
       "<div>\n",
       "<style scoped>\n",
       "    .dataframe tbody tr th:only-of-type {\n",
       "        vertical-align: middle;\n",
       "    }\n",
       "\n",
       "    .dataframe tbody tr th {\n",
       "        vertical-align: top;\n",
       "    }\n",
       "\n",
       "    .dataframe thead th {\n",
       "        text-align: right;\n",
       "    }\n",
       "</style>\n",
       "<table border=\"1\" class=\"dataframe\">\n",
       "  <thead>\n",
       "    <tr style=\"text-align: right;\">\n",
       "      <th></th>\n",
       "      <th>Success</th>\n",
       "      <th>Age upon Intake</th>\n",
       "      <th>Intake Type_Euthanasia Request</th>\n",
       "      <th>Intake Type_Owner Surrender</th>\n",
       "      <th>Intake Type_Public Assist</th>\n",
       "      <th>Intake Type_Stray</th>\n",
       "      <th>Intake Condition_Behavior</th>\n",
       "      <th>Intake Condition_Feral</th>\n",
       "      <th>Intake Condition_Injured</th>\n",
       "      <th>Intake Condition_Medical</th>\n",
       "      <th>...</th>\n",
       "      <th>Color_Red/White</th>\n",
       "      <th>Color_Sable</th>\n",
       "      <th>Color_Tan</th>\n",
       "      <th>Color_Tricolor</th>\n",
       "      <th>Color_Tricolor/White</th>\n",
       "      <th>Color_White</th>\n",
       "      <th>Color_White/Brown Brindle</th>\n",
       "      <th>Color_White/Cream</th>\n",
       "      <th>Color_White/Tan</th>\n",
       "      <th>Color_Yellow</th>\n",
       "    </tr>\n",
       "  </thead>\n",
       "  <tbody>\n",
       "    <tr>\n",
       "      <th>5</th>\n",
       "      <td>1</td>\n",
       "      <td>730.0</td>\n",
       "      <td>0</td>\n",
       "      <td>1</td>\n",
       "      <td>0</td>\n",
       "      <td>0</td>\n",
       "      <td>0</td>\n",
       "      <td>0</td>\n",
       "      <td>0</td>\n",
       "      <td>0</td>\n",
       "      <td>...</td>\n",
       "      <td>0</td>\n",
       "      <td>0</td>\n",
       "      <td>0</td>\n",
       "      <td>0</td>\n",
       "      <td>0</td>\n",
       "      <td>0</td>\n",
       "      <td>0</td>\n",
       "      <td>0</td>\n",
       "      <td>0</td>\n",
       "      <td>0</td>\n",
       "    </tr>\n",
       "    <tr>\n",
       "      <th>7</th>\n",
       "      <td>1</td>\n",
       "      <td>730.0</td>\n",
       "      <td>0</td>\n",
       "      <td>0</td>\n",
       "      <td>1</td>\n",
       "      <td>0</td>\n",
       "      <td>0</td>\n",
       "      <td>0</td>\n",
       "      <td>0</td>\n",
       "      <td>0</td>\n",
       "      <td>...</td>\n",
       "      <td>0</td>\n",
       "      <td>0</td>\n",
       "      <td>0</td>\n",
       "      <td>0</td>\n",
       "      <td>0</td>\n",
       "      <td>0</td>\n",
       "      <td>0</td>\n",
       "      <td>0</td>\n",
       "      <td>0</td>\n",
       "      <td>0</td>\n",
       "    </tr>\n",
       "    <tr>\n",
       "      <th>10</th>\n",
       "      <td>1</td>\n",
       "      <td>730.0</td>\n",
       "      <td>0</td>\n",
       "      <td>0</td>\n",
       "      <td>0</td>\n",
       "      <td>1</td>\n",
       "      <td>0</td>\n",
       "      <td>0</td>\n",
       "      <td>0</td>\n",
       "      <td>0</td>\n",
       "      <td>...</td>\n",
       "      <td>0</td>\n",
       "      <td>0</td>\n",
       "      <td>0</td>\n",
       "      <td>0</td>\n",
       "      <td>0</td>\n",
       "      <td>0</td>\n",
       "      <td>0</td>\n",
       "      <td>0</td>\n",
       "      <td>1</td>\n",
       "      <td>0</td>\n",
       "    </tr>\n",
       "    <tr>\n",
       "      <th>11</th>\n",
       "      <td>0</td>\n",
       "      <td>150.0</td>\n",
       "      <td>0</td>\n",
       "      <td>0</td>\n",
       "      <td>0</td>\n",
       "      <td>1</td>\n",
       "      <td>0</td>\n",
       "      <td>0</td>\n",
       "      <td>0</td>\n",
       "      <td>0</td>\n",
       "      <td>...</td>\n",
       "      <td>0</td>\n",
       "      <td>0</td>\n",
       "      <td>0</td>\n",
       "      <td>0</td>\n",
       "      <td>0</td>\n",
       "      <td>0</td>\n",
       "      <td>0</td>\n",
       "      <td>0</td>\n",
       "      <td>0</td>\n",
       "      <td>0</td>\n",
       "    </tr>\n",
       "    <tr>\n",
       "      <th>12</th>\n",
       "      <td>0</td>\n",
       "      <td>730.0</td>\n",
       "      <td>0</td>\n",
       "      <td>0</td>\n",
       "      <td>0</td>\n",
       "      <td>1</td>\n",
       "      <td>0</td>\n",
       "      <td>0</td>\n",
       "      <td>0</td>\n",
       "      <td>0</td>\n",
       "      <td>...</td>\n",
       "      <td>0</td>\n",
       "      <td>0</td>\n",
       "      <td>0</td>\n",
       "      <td>1</td>\n",
       "      <td>0</td>\n",
       "      <td>0</td>\n",
       "      <td>0</td>\n",
       "      <td>0</td>\n",
       "      <td>0</td>\n",
       "      <td>0</td>\n",
       "    </tr>\n",
       "  </tbody>\n",
       "</table>\n",
       "<p>5 rows × 77 columns</p>\n",
       "</div>"
      ],
      "text/plain": [
       "    Success  Age upon Intake  Intake Type_Euthanasia Request  \\\n",
       "5         1            730.0                               0   \n",
       "7         1            730.0                               0   \n",
       "10        1            730.0                               0   \n",
       "11        0            150.0                               0   \n",
       "12        0            730.0                               0   \n",
       "\n",
       "    Intake Type_Owner Surrender  Intake Type_Public Assist  Intake Type_Stray  \\\n",
       "5                             1                          0                  0   \n",
       "7                             0                          1                  0   \n",
       "10                            0                          0                  1   \n",
       "11                            0                          0                  1   \n",
       "12                            0                          0                  1   \n",
       "\n",
       "    Intake Condition_Behavior  Intake Condition_Feral  \\\n",
       "5                           0                       0   \n",
       "7                           0                       0   \n",
       "10                          0                       0   \n",
       "11                          0                       0   \n",
       "12                          0                       0   \n",
       "\n",
       "    Intake Condition_Injured  Intake Condition_Medical  ...  Color_Red/White  \\\n",
       "5                          0                         0  ...                0   \n",
       "7                          0                         0  ...                0   \n",
       "10                         0                         0  ...                0   \n",
       "11                         0                         0  ...                0   \n",
       "12                         0                         0  ...                0   \n",
       "\n",
       "    Color_Sable  Color_Tan  Color_Tricolor  Color_Tricolor/White  Color_White  \\\n",
       "5             0          0               0                     0            0   \n",
       "7             0          0               0                     0            0   \n",
       "10            0          0               0                     0            0   \n",
       "11            0          0               0                     0            0   \n",
       "12            0          0               1                     0            0   \n",
       "\n",
       "    Color_White/Brown Brindle  Color_White/Cream  Color_White/Tan  \\\n",
       "5                           0                  0                0   \n",
       "7                           0                  0                0   \n",
       "10                          0                  0                1   \n",
       "11                          0                  0                0   \n",
       "12                          0                  0                0   \n",
       "\n",
       "    Color_Yellow  \n",
       "5              0  \n",
       "7              0  \n",
       "10             0  \n",
       "11             0  \n",
       "12             0  \n",
       "\n",
       "[5 rows x 77 columns]"
      ]
     },
     "execution_count": 72,
     "metadata": {},
     "output_type": "execute_result"
    }
   ],
   "source": [
    "df_final.head()"
   ]
  },
  {
   "cell_type": "markdown",
   "metadata": {},
   "source": [
    "Split data in X features and y outcome, and then split into training and testing data. We're not scaling at this step since Random Forest doesn't require scaled columns and feature selection with Random Forest is our next step."
   ]
  },
  {
   "cell_type": "code",
   "execution_count": 73,
   "metadata": {},
   "outputs": [],
   "source": [
    "X, y = df_final.iloc[:, 1:].values, df_final.iloc[:, 0].values\n",
    "\n",
    "X_train, X_test, y_train, y_test =\\\n",
    "    train_test_split(X, y, \n",
    "                     test_size=0.3, \n",
    "                     random_state=0, \n",
    "                     stratify=y) "
   ]
  },
  {
   "cell_type": "markdown",
   "metadata": {},
   "source": [
    "Feature selection using Random Forest:"
   ]
  },
  {
   "cell_type": "code",
   "execution_count": 74,
   "metadata": {},
   "outputs": [
    {
     "name": "stdout",
     "output_type": "stream",
     "text": [
      " 1) Age upon Intake                0.424646\n",
      " 2) Sex upon Intake_Intact Male    0.028729\n",
      " 3) Sex upon Intake_Neutered Male  0.023287\n",
      " 4) Breed_Pit Bull                 0.022766\n",
      " 5) Sex upon Intake_Spayed Female  0.020176\n",
      " 6) Color_Brown/White              0.018380\n",
      " 7) Color_Black/White              0.018071\n",
      " 8) Color_White/Tan                0.017311\n",
      " 9) Intake Type_Stray              0.015812\n",
      "10) Intake Type_Public Assist      0.014530\n",
      "11) Intake Condition_Normal        0.014228\n",
      "12) Breed_Labrador Retriever       0.014145\n",
      "13) Color_Brown/Black              0.013200\n",
      "14) Breed_Chihuahua Shorthair      0.012665\n",
      "15) Color_Tan                      0.012373\n",
      "16) Color_Brown                    0.012243\n",
      "17) Color_White                    0.012180\n",
      "18) Color_Black/Tan                0.011721\n",
      "19) Intake Type_Owner Surrender    0.010899\n",
      "20) Color_Tricolor                 0.010584\n",
      "21) Breed_German Shepherd          0.010352\n",
      "22) Color_White/Brown Brindle      0.009825\n",
      "23) Breed_Australian Cattle Dog    0.008139\n",
      "24) Color_Red/White                0.008091\n",
      "25) Color_Red                      0.007914\n",
      "26) Breed_Boxer                    0.007516\n",
      "27) Intake Condition_Injured       0.007207\n",
      "28) Color_Chocolate/White          0.007188\n",
      "29) Breed_Australian Shepherd      0.007129\n",
      "30) Breed_Dachshund                0.006959\n",
      "31) Breed_Yorkshire Terrier        0.006837\n",
      "32) Intake Condition_Nursing       0.006675\n",
      "33) Color_Brown Brindle            0.006418\n",
      "34) Breed_Border Collie            0.006366\n",
      "35) Breed_Siberian Husky           0.006357\n",
      "36) Color_Blue/White               0.006225\n",
      "37) Breed_Staffordshire            0.006192\n",
      "38) Breed_Rat Terrier              0.006132\n",
      "39) Breed_Miniature Poodle         0.005904\n",
      "40) Breed_Catahoula                0.005689\n",
      "41) Breed_Cairn Terrier            0.005672\n",
      "42) Breed_Beagle                   0.005589\n",
      "43) Breed_Chihuahua Longhair       0.005514\n",
      "44) Color_Cream                    0.005282\n",
      "45) Breed_Jack Russell Terrier     0.005178\n",
      "46) Color_Brown/Tan                0.005058\n",
      "47) Breed_Chihuahua Shorthair/Dachshund 0.005023\n",
      "48) Breed_Shih Tzu                 0.004936\n",
      "49) Breed_Pointer                  0.004818\n",
      "50) Color_Black/Tricolor           0.004716\n",
      "51) Breed_Miniature Schnauzer      0.004624\n",
      "52) Breed_Great Pyrenees           0.004568\n",
      "53) Color_Fawn/White               0.004420\n",
      "54) Color_Chocolate                0.004405\n",
      "55) Color_Yellow                   0.004388\n",
      "56) Breed_Black Mouth Cur          0.004232\n",
      "57) Color_Sable                    0.004153\n",
      "58) Breed_American Pit Bull Terrier 0.004112\n",
      "59) Color_Tricolor/White           0.004050\n",
      "60) Breed_Rottweiler               0.004021\n",
      "61) Color_Gray/White               0.003996\n",
      "62) Color_Buff                     0.003924\n",
      "63) Intake Condition_Sick          0.003734\n",
      "64) Breed_Anatol Shepherd          0.003686\n",
      "65) Color_White/Cream              0.003367\n",
      "66) Breed_Plott Hound              0.003157\n",
      "67) Color_Blue                     0.003120\n",
      "68) Color_Blue Merle               0.002711\n",
      "69) Color_Black/Gray               0.002457\n",
      "70) Sex upon Intake_Unknown        0.002256\n",
      "71) Intake Condition_Other         0.000756\n",
      "72) Intake Type_Euthanasia Request 0.000327\n",
      "73) Intake Condition_Pregnant      0.000317\n",
      "74) Intake Condition_Medical       0.000304\n",
      "75) Intake Condition_Behavior      0.000068\n",
      "76) Intake Condition_Feral         0.000000\n"
     ]
    },
    {
     "data": {
      "image/png": "[encoded data removed]",
      "text/plain": [
       "<Figure size 432x288 with 1 Axes>"
      ]
     },
     "metadata": {
      "needs_background": "light"
     },
     "output_type": "display_data"
    }
   ],
   "source": [
    "from sklearn.ensemble import RandomForestClassifier\n",
    "\n",
    "feat_labels = df_final.columns[1:]\n",
    "\n",
    "forest = RandomForestClassifier(n_estimators=500,\n",
    "                                random_state=1)\n",
    "\n",
    "forest.fit(X_train, y_train)\n",
    "importances = forest.feature_importances_\n",
    "\n",
    "indices = np.argsort(importances)[::-1]\n",
    "\n",
    "for f in range(X_train.shape[1]):\n",
    "    print(\"%2d) %-*s %f\" % (f + 1, 30, \n",
    "                            feat_labels[indices[f]], \n",
    "                            importances[indices[f]]))\n",
    "\n",
    "plt2.title('Feature Importance')\n",
    "plt2.bar(range(X_train.shape[1]), \n",
    "        importances[indices],\n",
    "        align='center')\n",
    "\n",
    "plt2.xticks(range(X_train.shape[1]), \n",
    "           feat_labels[indices], rotation=90)\n",
    "plt2.xlim([-1, X_train.shape[1]])\n",
    "plt2.tight_layout()"
   ]
  },
  {
   "cell_type": "markdown",
   "metadata": {},
   "source": [
    "Here we select the 20 most common features. In the discussion below we address why we chose 20 features:"
   ]
  },
  {
   "cell_type": "code",
   "execution_count": 75,
   "metadata": {},
   "outputs": [
    {
     "name": "stdout",
     "output_type": "stream",
     "text": [
      "Number of features that meet this threshold criterion: 20\n"
     ]
    }
   ],
   "source": [
    "from sklearn.feature_selection import SelectFromModel\n",
    "\n",
    "sfm = SelectFromModel(forest, threshold=0.010583, prefit=True)\n",
    "X_selected = sfm.transform(X_train)\n",
    "print('Number of features that meet this threshold criterion:', \n",
    "      X_selected.shape[1])"
   ]
  },
  {
   "cell_type": "markdown",
   "metadata": {},
   "source": [
    "Printout of the selected features:"
   ]
  },
  {
   "cell_type": "code",
   "execution_count": 76,
   "metadata": {},
   "outputs": [
    {
     "name": "stdout",
     "output_type": "stream",
     "text": [
      " 1) Age upon Intake                0.424646\n",
      " 2) Sex upon Intake_Intact Male    0.028729\n",
      " 3) Sex upon Intake_Neutered Male  0.023287\n",
      " 4) Breed_Pit Bull                 0.022766\n",
      " 5) Sex upon Intake_Spayed Female  0.020176\n",
      " 6) Color_Brown/White              0.018380\n",
      " 7) Color_Black/White              0.018071\n",
      " 8) Color_White/Tan                0.017311\n",
      " 9) Intake Type_Stray              0.015812\n",
      "10) Intake Type_Public Assist      0.014530\n",
      "11) Intake Condition_Normal        0.014228\n",
      "12) Breed_Labrador Retriever       0.014145\n",
      "13) Color_Brown/Black              0.013200\n",
      "14) Breed_Chihuahua Shorthair      0.012665\n",
      "15) Color_Tan                      0.012373\n",
      "16) Color_Brown                    0.012243\n",
      "17) Color_White                    0.012180\n",
      "18) Color_Black/Tan                0.011721\n",
      "19) Intake Type_Owner Surrender    0.010899\n",
      "20) Color_Tricolor                 0.010584\n"
     ]
    }
   ],
   "source": [
    "featlist=[]\n",
    "for f in range(X_selected.shape[1]):\n",
    "    print(\"%2d) %-*s %f\" % (f + 1, 30, \n",
    "                            feat_labels[indices[f]], \n",
    "                            importances[indices[f]]))\n",
    "    featlist.append(feat_labels[indices[f]])"
   ]
  },
  {
   "cell_type": "code",
   "execution_count": 77,
   "metadata": {},
   "outputs": [
    {
     "data": {
      "text/plain": [
       "['Success',\n",
       " 'Age upon Intake',\n",
       " 'Sex upon Intake_Intact Male',\n",
       " 'Sex upon Intake_Neutered Male',\n",
       " 'Breed_Pit Bull',\n",
       " 'Sex upon Intake_Spayed Female',\n",
       " 'Color_Brown/White',\n",
       " 'Color_Black/White',\n",
       " 'Color_White/Tan',\n",
       " 'Intake Type_Stray',\n",
       " 'Intake Type_Public Assist',\n",
       " 'Intake Condition_Normal',\n",
       " 'Breed_Labrador Retriever',\n",
       " 'Color_Brown/Black',\n",
       " 'Breed_Chihuahua Shorthair',\n",
       " 'Color_Tan',\n",
       " 'Color_Brown',\n",
       " 'Color_White',\n",
       " 'Color_Black/Tan',\n",
       " 'Intake Type_Owner Surrender',\n",
       " 'Color_Tricolor']"
      ]
     },
     "execution_count": 77,
     "metadata": {},
     "output_type": "execute_result"
    }
   ],
   "source": [
    "featlist.insert(0, 'Success')\n",
    "featlist"
   ]
  },
  {
   "cell_type": "markdown",
   "metadata": {},
   "source": [
    "Subset the dataframe to only include those features:"
   ]
  },
  {
   "cell_type": "code",
   "execution_count": 78,
   "metadata": {},
   "outputs": [],
   "source": [
    "df_final=df_final[featlist]"
   ]
  },
  {
   "cell_type": "code",
   "execution_count": 79,
   "metadata": {},
   "outputs": [
    {
     "data": {
      "text/plain": [
       "(25964, 21)"
      ]
     },
     "execution_count": 79,
     "metadata": {},
     "output_type": "execute_result"
    }
   ],
   "source": [
    "df_final.shape"
   ]
  },
  {
   "cell_type": "code",
   "execution_count": 80,
   "metadata": {},
   "outputs": [
    {
     "data": {
      "text/html": [
       "<div>\n",
       "<style scoped>\n",
       "    .dataframe tbody tr th:only-of-type {\n",
       "        vertical-align: middle;\n",
       "    }\n",
       "\n",
       "    .dataframe tbody tr th {\n",
       "        vertical-align: top;\n",
       "    }\n",
       "\n",
       "    .dataframe thead th {\n",
       "        text-align: right;\n",
       "    }\n",
       "</style>\n",
       "<table border=\"1\" class=\"dataframe\">\n",
       "  <thead>\n",
       "    <tr style=\"text-align: right;\">\n",
       "      <th></th>\n",
       "      <th>Success</th>\n",
       "      <th>Age upon Intake</th>\n",
       "      <th>Sex upon Intake_Intact Male</th>\n",
       "      <th>Sex upon Intake_Neutered Male</th>\n",
       "      <th>Breed_Pit Bull</th>\n",
       "      <th>Sex upon Intake_Spayed Female</th>\n",
       "      <th>Color_Brown/White</th>\n",
       "      <th>Color_Black/White</th>\n",
       "      <th>Color_White/Tan</th>\n",
       "      <th>Intake Type_Stray</th>\n",
       "      <th>...</th>\n",
       "      <th>Intake Condition_Normal</th>\n",
       "      <th>Breed_Labrador Retriever</th>\n",
       "      <th>Color_Brown/Black</th>\n",
       "      <th>Breed_Chihuahua Shorthair</th>\n",
       "      <th>Color_Tan</th>\n",
       "      <th>Color_Brown</th>\n",
       "      <th>Color_White</th>\n",
       "      <th>Color_Black/Tan</th>\n",
       "      <th>Intake Type_Owner Surrender</th>\n",
       "      <th>Color_Tricolor</th>\n",
       "    </tr>\n",
       "  </thead>\n",
       "  <tbody>\n",
       "    <tr>\n",
       "      <th>5</th>\n",
       "      <td>1</td>\n",
       "      <td>730.0</td>\n",
       "      <td>0</td>\n",
       "      <td>1</td>\n",
       "      <td>0</td>\n",
       "      <td>0</td>\n",
       "      <td>0</td>\n",
       "      <td>0</td>\n",
       "      <td>0</td>\n",
       "      <td>0</td>\n",
       "      <td>...</td>\n",
       "      <td>1</td>\n",
       "      <td>1</td>\n",
       "      <td>0</td>\n",
       "      <td>0</td>\n",
       "      <td>0</td>\n",
       "      <td>0</td>\n",
       "      <td>0</td>\n",
       "      <td>0</td>\n",
       "      <td>1</td>\n",
       "      <td>0</td>\n",
       "    </tr>\n",
       "    <tr>\n",
       "      <th>7</th>\n",
       "      <td>1</td>\n",
       "      <td>730.0</td>\n",
       "      <td>1</td>\n",
       "      <td>0</td>\n",
       "      <td>0</td>\n",
       "      <td>0</td>\n",
       "      <td>0</td>\n",
       "      <td>1</td>\n",
       "      <td>0</td>\n",
       "      <td>0</td>\n",
       "      <td>...</td>\n",
       "      <td>1</td>\n",
       "      <td>1</td>\n",
       "      <td>0</td>\n",
       "      <td>0</td>\n",
       "      <td>0</td>\n",
       "      <td>0</td>\n",
       "      <td>0</td>\n",
       "      <td>0</td>\n",
       "      <td>0</td>\n",
       "      <td>0</td>\n",
       "    </tr>\n",
       "  </tbody>\n",
       "</table>\n",
       "<p>2 rows × 21 columns</p>\n",
       "</div>"
      ],
      "text/plain": [
       "   Success  Age upon Intake  Sex upon Intake_Intact Male  \\\n",
       "5        1            730.0                            0   \n",
       "7        1            730.0                            1   \n",
       "\n",
       "   Sex upon Intake_Neutered Male  Breed_Pit Bull  \\\n",
       "5                              1               0   \n",
       "7                              0               0   \n",
       "\n",
       "   Sex upon Intake_Spayed Female  Color_Brown/White  Color_Black/White  \\\n",
       "5                              0                  0                  0   \n",
       "7                              0                  0                  1   \n",
       "\n",
       "   Color_White/Tan  Intake Type_Stray  ...  Intake Condition_Normal  \\\n",
       "5                0                  0  ...                        1   \n",
       "7                0                  0  ...                        1   \n",
       "\n",
       "   Breed_Labrador Retriever  Color_Brown/Black  Breed_Chihuahua Shorthair  \\\n",
       "5                         1                  0                          0   \n",
       "7                         1                  0                          0   \n",
       "\n",
       "   Color_Tan  Color_Brown  Color_White  Color_Black/Tan  \\\n",
       "5          0            0            0                0   \n",
       "7          0            0            0                0   \n",
       "\n",
       "   Intake Type_Owner Surrender  Color_Tricolor  \n",
       "5                            1               0  \n",
       "7                            0               0  \n",
       "\n",
       "[2 rows x 21 columns]"
      ]
     },
     "execution_count": 80,
     "metadata": {},
     "output_type": "execute_result"
    }
   ],
   "source": [
    "df_final.head(2)"
   ]
  },
  {
   "cell_type": "markdown",
   "metadata": {},
   "source": [
    "Train/test split on this smaller dataset, and scale the numeric column 'Age upon Intake' via standard scaler:"
   ]
  },
  {
   "cell_type": "code",
   "execution_count": 81,
   "metadata": {},
   "outputs": [],
   "source": [
    "X, y = df_final.iloc[:, 1:].values, df_final.iloc[:, 0].values\n",
    "\n",
    "X_train, X_test, y_train, y_test =\\\n",
    "    train_test_split(X, y, \n",
    "                     test_size=0.3, \n",
    "                     random_state=0, \n",
    "                     stratify=y) "
   ]
  },
  {
   "cell_type": "code",
   "execution_count": 82,
   "metadata": {},
   "outputs": [],
   "source": [
    "from sklearn.preprocessing import StandardScaler\n",
    "from sklearn.preprocessing import MinMaxScaler\n",
    "stdsc = StandardScaler()\n",
    "#mms = MinMaxScaler()\n",
    "X_train_std = stdsc.fit_transform(X_train)\n",
    "X_test_std = stdsc.fit_transform(X_test)"
   ]
  },
  {
   "cell_type": "markdown",
   "metadata": {},
   "source": [
    "At this point we are ready to implement our chosen models."
   ]
  },
  {
   "cell_type": "markdown",
   "metadata": {},
   "source": [
    "## Model Comparison"
   ]
  },
  {
   "cell_type": "markdown",
   "metadata": {},
   "source": [
    "Logistic Regression:"
   ]
  },
  {
   "cell_type": "code",
   "execution_count": 83,
   "metadata": {},
   "outputs": [
    {
     "data": {
      "text/plain": [
       "0.6397946084724005"
      ]
     },
     "execution_count": 83,
     "metadata": {},
     "output_type": "execute_result"
    }
   ],
   "source": [
    "from sklearn.linear_model import LogisticRegression\n",
    "\n",
    "lr = LogisticRegression(C=100.0, random_state=1)\n",
    "lr.fit(X_train_std, y_train)\n",
    "\n",
    "lrscore = lr.score(X_test_std, y_test)\n",
    "lrscore"
   ]
  },
  {
   "cell_type": "markdown",
   "metadata": {},
   "source": [
    "Decision Tree:"
   ]
  },
  {
   "cell_type": "code",
   "execution_count": 84,
   "metadata": {},
   "outputs": [
    {
     "data": {
      "text/plain": [
       "0.6437740693196405"
      ]
     },
     "execution_count": 84,
     "metadata": {},
     "output_type": "execute_result"
    }
   ],
   "source": [
    "from sklearn.tree import DecisionTreeClassifier\n",
    "\n",
    "tree_model = DecisionTreeClassifier(criterion='gini', \n",
    "                                    max_depth=4, \n",
    "                                    random_state=1)\n",
    "tree_model.fit(X_train, y_train)\n",
    "\n",
    "treescore = tree_model.score(X_test, y_test)\n",
    "treescore"
   ]
  },
  {
   "cell_type": "markdown",
   "metadata": {},
   "source": [
    "K-Nearest Neighbors:"
   ]
  },
  {
   "cell_type": "code",
   "execution_count": 85,
   "metadata": {},
   "outputs": [
    {
     "data": {
      "text/plain": [
       "0.6096277278562259"
      ]
     },
     "execution_count": 85,
     "metadata": {},
     "output_type": "execute_result"
    }
   ],
   "source": [
    "from sklearn.neighbors import KNeighborsClassifier\n",
    "\n",
    "knn = KNeighborsClassifier(n_neighbors=5, \n",
    "                           p=2, \n",
    "                           metric='minkowski')\n",
    "knn.fit(X_train_std, y_train)\n",
    "\n",
    "knnscore = knn.score(X_test_std, y_test)\n",
    "knnscore"
   ]
  },
  {
   "cell_type": "code",
   "execution_count": 86,
   "metadata": {},
   "outputs": [
    {
     "name": "stdout",
     "output_type": "stream",
     "text": [
      "Logistic Regression Accuracy: 0.6397946084724005\n",
      "Decision Tree Accuracy: 0.6437740693196405\n",
      "K-Nearest Neighbors Accuracy 0.6096277278562259\n"
     ]
    }
   ],
   "source": [
    "print('Logistic Regression Accuracy:',lrscore)\n",
    "print('Decision Tree Accuracy:',treescore)\n",
    "print('K-Nearest Neighbors Accuracy',knnscore)"
   ]
  },
  {
   "cell_type": "markdown",
   "metadata": {},
   "source": [
    "Proportion of success in the test set:"
   ]
  },
  {
   "cell_type": "code",
   "execution_count": 87,
   "metadata": {},
   "outputs": [
    {
     "name": "stdout",
     "output_type": "stream",
     "text": [
      "4606\n",
      "7790\n"
     ]
    },
    {
     "data": {
      "text/plain": [
       "0.5912708600770218"
      ]
     },
     "execution_count": 87,
     "metadata": {},
     "output_type": "execute_result"
    }
   ],
   "source": [
    "print(y_test.sum())\n",
    "print(len(y_test))\n",
    "(y_test.sum()/len(y_test))"
   ]
  },
  {
   "cell_type": "markdown",
   "metadata": {},
   "source": [
    "#### Results summary and comments:"
   ]
  },
  {
   "cell_type": "markdown",
   "metadata": {},
   "source": [
    "As seen above, the accuracy for each algorithm when the top 20 features were used was as follows:\n",
    "<br>Logistic Regression Accuracy: 0.6397946084724005\n",
    "<br>Decision Tree Accuracy: 0.6437740693196405\n",
    "<br>K-Nearest Neighbors Accuracy 0.6096277278562259\n",
    "\n",
    "Our proportion of successes in the test set was 0.59; each of these algorithms performed slightly better than if they had just guessed \"1\" every time, but not by much. We would expect accuracy of 0.5 if the algorithm was no better than random guessing.\n",
    "\n",
    "When examining the importance of the different features, we saw that age was the single more important predictor; much more important than any single breed, color, etc. individually. We were curious how our model would perform with just age as the predictor, and we got these results:\n",
    "<br>Logistic Regression Accuracy: 0.5912708600770218\n",
    "<br>Decision Tree Accuracy: 0.6147625160462131\n",
    "<br>K-Nearest Neighbors Accuracy 0.5309370988446727\n",
    "\n",
    "Knn was much worse when only age was used, and logistic regression and decision trees were both slightly lower in accuracy when just age was used (logistic regression in this case was actually identical in accuracy to the proportion of 1s in our test set). Our models seem to be gaining at least some valuable information from the features other than age, but overall our model is not performing too well. After seeing the feature importance values from the Random Forests algorithm, we predicted that our model would not perform very well since most features had a very low importance value.\n",
    "\n",
    "We experimented with different numbers of features (10 and 30), and the results are seen below:\n",
    "\n",
    "10 features:\n",
    "<br>Logistic Regression Accuracy: 0.6260590500641848\n",
    "<br>Decision Tree Accuracy: 0.6413350449293966\n",
    "<br>K-Nearest Neighbors Accuracy 0.5940949935815147\n",
    "\n",
    "30 features:\n",
    "<br>Logistic Regression Accuracy: 0.6345314505776637\n",
    "<br>Decision Tree Accuracy: 0.6433889602053915\n",
    "<br>K-Nearest Neighbors Accuracy 0.6060333761232349\n",
    "\n",
    "Our chosen 20 features did offer improvement over 10 features, but 30 features didn't offer much improvement of 20 features. Beyond 30 features began to drastically increase processing time (especially for knn) so 20 features seemed an appropriate choice.\n",
    "\n",
    "Overall, the decision tree algorithm gives us the highest accuracy of the three algorithms when 30 features were used. With this current setup, decision trees seems to be the best choice to model our data.\n",
    "\n",
    "We think accuracy would increase if features 'breed' and 'color' were simplified. If we had more information from the shelter, we perhaps could accurately assume that the first breed or color listed is the most prominent (example: beagle/lab is most prominently a beagle and we would drop the lab portion) and only use that for predicting and see if that improved the model. We could also limit the dataset to only include dogs that had just one breed or color listed to begin with.\n",
    "\n",
    "If these changes were made, it would still be worth examining the three different classification algorithms (rather than just our chosen decision tree) since all three had very similar accuracies."
   ]
  },
  {
   "cell_type": "markdown",
   "metadata": {},
   "source": [
    "## Experiment Summary"
   ]
  },
  {
   "cell_type": "markdown",
   "metadata": {},
   "source": [
    "In this project, we sourced publicly avaiable data from the Austin Animal Shelter (via archive). We used this data to attempt to predict whether a dog will be adopted from the shelter within a week based on certain characteristics.\n",
    "\n",
    "We had two datasets: one for intakes and one for outcomes. We merged these together on Animal ID. We preprocessed the data by limiting the dataset to just dogs, dropping rows with missing values, altering color order for consistency, and including only the top 30 breeds and colors. We also calculated our outcome of interest using the intake and outcome time differences; success (1) was a shelter stay time duration of less than a week, everything else was a failure (0) for our question of interest. We encoded categorical columns and scaled our numeric column, selected the 20 most important features, then moved forward with fitting models.\n",
    "\n",
    "We compared three algorithms for model fitting: logistic regression, decision trees, and k-nearest neighbors. Decision trees outperformed the other 2 slightly, with an accuracy of 0.644. This model shows potential; 0.644 seems like a good starting point to try and improve from further in future exploration and research. For a final model we would aim\n",
    "for a higher accuracy.\n",
    "\n",
    "Overall, we see a lot of potential for future research building upon what we have done here.\n"
   ]
  },
  {
   "cell_type": "code",
   "execution_count": null,
   "metadata": {},
   "outputs": [],
   "source": []
  }
 ],
 "metadata": {
  "kernelspec": {
   "display_name": "Python 3",
   "language": "python",
   "name": "python3"
  },
  "language_info": {
   "codemirror_mode": {
    "name": "ipython",
    "version": 3
   },
   "file_extension": ".py",
   "mimetype": "text/x-python",
   "name": "python",
   "nbconvert_exporter": "python",
   "pygments_lexer": "ipython3",
   "version": "3.7.6"
  }
 },
 "nbformat": 4,
 "nbformat_minor": 4
}
