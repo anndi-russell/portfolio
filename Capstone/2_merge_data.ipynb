{
 "cells": [
  {
   "cell_type": "markdown",
   "metadata": {},
   "source": [
    "# Step 2: Merge Data\n",
    "\n",
    "\n",
    "The purpose of this program is to merge the text data from the transcripts with the outcome of the cases and the direction of the justice votes. The updated dataframe will be saved to .pkl for use in the next notebook."
   ]
  },
  {
   "cell_type": "code",
   "execution_count": 69,
   "metadata": {},
   "outputs": [],
   "source": [
    "import pandas as pd\n",
    "import numpy as np\n",
    "import matplotlib.pyplot as plt"
   ]
  },
  {
   "cell_type": "markdown",
   "metadata": {},
   "source": [
    "Import csv file with case information\n",
    "This file comes from the University of Washington Law Supreme Court Database. Found here: http://scdb.wustl.edu/index.php"
   ]
  },
  {
   "cell_type": "code",
   "execution_count": 70,
   "metadata": {},
   "outputs": [
    {
     "data": {
      "text/html": [
       "<div>\n",
       "<style scoped>\n",
       "    .dataframe tbody tr th:only-of-type {\n",
       "        vertical-align: middle;\n",
       "    }\n",
       "\n",
       "    .dataframe tbody tr th {\n",
       "        vertical-align: top;\n",
       "    }\n",
       "\n",
       "    .dataframe thead th {\n",
       "        text-align: right;\n",
       "    }\n",
       "</style>\n",
       "<table border=\"1\" class=\"dataframe\">\n",
       "  <thead>\n",
       "    <tr style=\"text-align: right;\">\n",
       "      <th></th>\n",
       "      <th>caseId</th>\n",
       "      <th>docketId</th>\n",
       "      <th>caseIssuesId</th>\n",
       "      <th>voteId</th>\n",
       "      <th>dateDecision</th>\n",
       "      <th>decisionType</th>\n",
       "      <th>usCite</th>\n",
       "      <th>sctCite</th>\n",
       "      <th>ledCite</th>\n",
       "      <th>lexisCite</th>\n",
       "      <th>...</th>\n",
       "      <th>majVotes</th>\n",
       "      <th>minVotes</th>\n",
       "      <th>justice</th>\n",
       "      <th>justiceName</th>\n",
       "      <th>vote</th>\n",
       "      <th>opinion</th>\n",
       "      <th>direction</th>\n",
       "      <th>majority</th>\n",
       "      <th>firstAgreement</th>\n",
       "      <th>secondAgreement</th>\n",
       "    </tr>\n",
       "  </thead>\n",
       "  <tbody>\n",
       "    <tr>\n",
       "      <th>0</th>\n",
       "      <td>1946-001</td>\n",
       "      <td>1946-001-01</td>\n",
       "      <td>1946-001-01-01</td>\n",
       "      <td>1946-001-01-01-01-01</td>\n",
       "      <td>11/18/1946</td>\n",
       "      <td>1</td>\n",
       "      <td>329 U.S. 1</td>\n",
       "      <td>67 S. Ct. 6</td>\n",
       "      <td>91 L. Ed. 3</td>\n",
       "      <td>1946 U.S. LEXIS 1724</td>\n",
       "      <td>...</td>\n",
       "      <td>8</td>\n",
       "      <td>1</td>\n",
       "      <td>86</td>\n",
       "      <td>HHBurton</td>\n",
       "      <td>2.0</td>\n",
       "      <td>1.0</td>\n",
       "      <td>1.0</td>\n",
       "      <td>1.0</td>\n",
       "      <td>NaN</td>\n",
       "      <td>NaN</td>\n",
       "    </tr>\n",
       "    <tr>\n",
       "      <th>1</th>\n",
       "      <td>1946-001</td>\n",
       "      <td>1946-001-01</td>\n",
       "      <td>1946-001-01-01</td>\n",
       "      <td>1946-001-01-01-01-02</td>\n",
       "      <td>11/18/1946</td>\n",
       "      <td>1</td>\n",
       "      <td>329 U.S. 1</td>\n",
       "      <td>67 S. Ct. 6</td>\n",
       "      <td>91 L. Ed. 3</td>\n",
       "      <td>1946 U.S. LEXIS 1724</td>\n",
       "      <td>...</td>\n",
       "      <td>8</td>\n",
       "      <td>1</td>\n",
       "      <td>84</td>\n",
       "      <td>RHJackson</td>\n",
       "      <td>1.0</td>\n",
       "      <td>1.0</td>\n",
       "      <td>2.0</td>\n",
       "      <td>2.0</td>\n",
       "      <td>NaN</td>\n",
       "      <td>NaN</td>\n",
       "    </tr>\n",
       "  </tbody>\n",
       "</table>\n",
       "<p>2 rows × 61 columns</p>\n",
       "</div>"
      ],
      "text/plain": [
       "     caseId     docketId    caseIssuesId                voteId dateDecision  \\\n",
       "0  1946-001  1946-001-01  1946-001-01-01  1946-001-01-01-01-01   11/18/1946   \n",
       "1  1946-001  1946-001-01  1946-001-01-01  1946-001-01-01-01-02   11/18/1946   \n",
       "\n",
       "   decisionType      usCite      sctCite      ledCite             lexisCite  \\\n",
       "0             1  329 U.S. 1  67 S. Ct. 6  91 L. Ed. 3  1946 U.S. LEXIS 1724   \n",
       "1             1  329 U.S. 1  67 S. Ct. 6  91 L. Ed. 3  1946 U.S. LEXIS 1724   \n",
       "\n",
       "   ...  majVotes  minVotes justice justiceName vote opinion direction  \\\n",
       "0  ...         8         1      86    HHBurton  2.0     1.0       1.0   \n",
       "1  ...         8         1      84   RHJackson  1.0     1.0       2.0   \n",
       "\n",
       "   majority  firstAgreement  secondAgreement  \n",
       "0       1.0             NaN              NaN  \n",
       "1       2.0             NaN              NaN  \n",
       "\n",
       "[2 rows x 61 columns]"
      ]
     },
     "execution_count": 70,
     "metadata": {},
     "output_type": "execute_result"
    }
   ],
   "source": [
    "vote_df = pd.read_csv('SCDB_2020_01_justiceCentered_Docket_updated.csv')\n",
    "vote_df.head(2)"
   ]
  },
  {
   "cell_type": "markdown",
   "metadata": {},
   "source": [
    "Subset to relevant columns and only current justices:"
   ]
  },
  {
   "cell_type": "code",
   "execution_count": 71,
   "metadata": {},
   "outputs": [
    {
     "name": "stdout",
     "output_type": "stream",
     "text": [
      "Shape: (9915, 5)\n",
      "Null count:\n",
      "case_num         11\n",
      "dateArgument    974\n",
      "partyWinning      6\n",
      "justiceName       0\n",
      "majority        280\n",
      "dtype: int64\n"
     ]
    },
    {
     "data": {
      "text/html": [
       "<div>\n",
       "<style scoped>\n",
       "    .dataframe tbody tr th:only-of-type {\n",
       "        vertical-align: middle;\n",
       "    }\n",
       "\n",
       "    .dataframe tbody tr th {\n",
       "        vertical-align: top;\n",
       "    }\n",
       "\n",
       "    .dataframe thead th {\n",
       "        text-align: right;\n",
       "    }\n",
       "</style>\n",
       "<table border=\"1\" class=\"dataframe\">\n",
       "  <thead>\n",
       "    <tr style=\"text-align: right;\">\n",
       "      <th></th>\n",
       "      <th>case_num</th>\n",
       "      <th>dateArgument</th>\n",
       "      <th>partyWinning</th>\n",
       "      <th>justiceName</th>\n",
       "      <th>majority</th>\n",
       "    </tr>\n",
       "  </thead>\n",
       "  <tbody>\n",
       "    <tr>\n",
       "      <th>93962</th>\n",
       "      <td>19-760</td>\n",
       "      <td>5/12/2020</td>\n",
       "      <td>1.0</td>\n",
       "      <td>SAAlito</td>\n",
       "      <td>1.0</td>\n",
       "    </tr>\n",
       "    <tr>\n",
       "      <th>93963</th>\n",
       "      <td>19-760</td>\n",
       "      <td>5/12/2020</td>\n",
       "      <td>1.0</td>\n",
       "      <td>SSotomayor</td>\n",
       "      <td>2.0</td>\n",
       "    </tr>\n",
       "    <tr>\n",
       "      <th>93964</th>\n",
       "      <td>19-760</td>\n",
       "      <td>5/12/2020</td>\n",
       "      <td>1.0</td>\n",
       "      <td>EKagan</td>\n",
       "      <td>2.0</td>\n",
       "    </tr>\n",
       "    <tr>\n",
       "      <th>93965</th>\n",
       "      <td>19-760</td>\n",
       "      <td>5/12/2020</td>\n",
       "      <td>1.0</td>\n",
       "      <td>NMGorsuch</td>\n",
       "      <td>2.0</td>\n",
       "    </tr>\n",
       "    <tr>\n",
       "      <th>93966</th>\n",
       "      <td>19-760</td>\n",
       "      <td>5/12/2020</td>\n",
       "      <td>1.0</td>\n",
       "      <td>BMKavanaugh</td>\n",
       "      <td>2.0</td>\n",
       "    </tr>\n",
       "  </tbody>\n",
       "</table>\n",
       "</div>"
      ],
      "text/plain": [
       "      case_num dateArgument  partyWinning  justiceName  majority\n",
       "93962   19-760    5/12/2020           1.0      SAAlito       1.0\n",
       "93963   19-760    5/12/2020           1.0   SSotomayor       2.0\n",
       "93964   19-760    5/12/2020           1.0       EKagan       2.0\n",
       "93965   19-760    5/12/2020           1.0    NMGorsuch       2.0\n",
       "93966   19-760    5/12/2020           1.0  BMKavanaugh       2.0"
      ]
     },
     "execution_count": 71,
     "metadata": {},
     "output_type": "execute_result"
    }
   ],
   "source": [
    "vote_df = vote_df[['docket','dateArgument','partyWinning','justiceName','majority']]\n",
    "justicelist = ['SSotomayor','NMGorsuch','BMKavanaugh','EKagan','CThomas','SGBreyer','SAAlito','JGRoberts']\n",
    "vote_df = vote_df.rename(columns = {'docket':'case_num'})\n",
    "vote_df = vote_df[vote_df.justiceName.isin(justicelist)]\n",
    "print(f'Shape: {vote_df.shape}')\n",
    "print('Null count:')\n",
    "print(vote_df.isna().sum())\n",
    "vote_df.tail(5)"
   ]
  },
  {
   "cell_type": "markdown",
   "metadata": {},
   "source": [
    "Dropping values for which there is no vote recorded:"
   ]
  },
  {
   "cell_type": "code",
   "execution_count": 72,
   "metadata": {},
   "outputs": [
    {
     "name": "stdout",
     "output_type": "stream",
     "text": [
      "Shape: (9629, 5)\n",
      "Null count:\n",
      "case_num         11\n",
      "dateArgument    949\n",
      "partyWinning      0\n",
      "justiceName       0\n",
      "majority          0\n",
      "dtype: int64\n"
     ]
    },
    {
     "data": {
      "text/html": [
       "<div>\n",
       "<style scoped>\n",
       "    .dataframe tbody tr th:only-of-type {\n",
       "        vertical-align: middle;\n",
       "    }\n",
       "\n",
       "    .dataframe tbody tr th {\n",
       "        vertical-align: top;\n",
       "    }\n",
       "\n",
       "    .dataframe thead th {\n",
       "        text-align: right;\n",
       "    }\n",
       "</style>\n",
       "<table border=\"1\" class=\"dataframe\">\n",
       "  <thead>\n",
       "    <tr style=\"text-align: right;\">\n",
       "      <th></th>\n",
       "      <th>case_num</th>\n",
       "      <th>dateArgument</th>\n",
       "      <th>partyWinning</th>\n",
       "      <th>justiceName</th>\n",
       "      <th>majority</th>\n",
       "    </tr>\n",
       "  </thead>\n",
       "  <tbody>\n",
       "    <tr>\n",
       "      <th>93962</th>\n",
       "      <td>19-760</td>\n",
       "      <td>5/12/2020</td>\n",
       "      <td>1.0</td>\n",
       "      <td>SAAlito</td>\n",
       "      <td>1.0</td>\n",
       "    </tr>\n",
       "    <tr>\n",
       "      <th>93963</th>\n",
       "      <td>19-760</td>\n",
       "      <td>5/12/2020</td>\n",
       "      <td>1.0</td>\n",
       "      <td>SSotomayor</td>\n",
       "      <td>2.0</td>\n",
       "    </tr>\n",
       "    <tr>\n",
       "      <th>93964</th>\n",
       "      <td>19-760</td>\n",
       "      <td>5/12/2020</td>\n",
       "      <td>1.0</td>\n",
       "      <td>EKagan</td>\n",
       "      <td>2.0</td>\n",
       "    </tr>\n",
       "    <tr>\n",
       "      <th>93965</th>\n",
       "      <td>19-760</td>\n",
       "      <td>5/12/2020</td>\n",
       "      <td>1.0</td>\n",
       "      <td>NMGorsuch</td>\n",
       "      <td>2.0</td>\n",
       "    </tr>\n",
       "    <tr>\n",
       "      <th>93966</th>\n",
       "      <td>19-760</td>\n",
       "      <td>5/12/2020</td>\n",
       "      <td>1.0</td>\n",
       "      <td>BMKavanaugh</td>\n",
       "      <td>2.0</td>\n",
       "    </tr>\n",
       "  </tbody>\n",
       "</table>\n",
       "</div>"
      ],
      "text/plain": [
       "      case_num dateArgument  partyWinning  justiceName  majority\n",
       "93962   19-760    5/12/2020           1.0      SAAlito       1.0\n",
       "93963   19-760    5/12/2020           1.0   SSotomayor       2.0\n",
       "93964   19-760    5/12/2020           1.0       EKagan       2.0\n",
       "93965   19-760    5/12/2020           1.0    NMGorsuch       2.0\n",
       "93966   19-760    5/12/2020           1.0  BMKavanaugh       2.0"
      ]
     },
     "execution_count": 72,
     "metadata": {},
     "output_type": "execute_result"
    }
   ],
   "source": [
    "vote_df = vote_df.dropna(subset = ['majority'])\n",
    "vote_df = vote_df.dropna(subset = ['partyWinning'])\n",
    "print(f'Shape: {vote_df.shape}')\n",
    "print('Null count:')\n",
    "print(vote_df.isna().sum())\n",
    "vote_df.tail(5)"
   ]
  },
  {
   "cell_type": "markdown",
   "metadata": {},
   "source": [
    "Check unique values and datatypes:"
   ]
  },
  {
   "cell_type": "code",
   "execution_count": 73,
   "metadata": {},
   "outputs": [
    {
     "name": "stdout",
     "output_type": "stream",
     "text": [
      "[0. 1. 2.]\n",
      "[2. 1.]\n"
     ]
    },
    {
     "data": {
      "text/plain": [
       "case_num         object\n",
       "dateArgument     object\n",
       "partyWinning    float64\n",
       "justiceName      object\n",
       "majority        float64\n",
       "dtype: object"
      ]
     },
     "execution_count": 73,
     "metadata": {},
     "output_type": "execute_result"
    }
   ],
   "source": [
    "print(vote_df['partyWinning'].unique())\n",
    "print(vote_df['majority'].unique())\n",
    "vote_df.dtypes"
   ]
  },
  {
   "cell_type": "markdown",
   "metadata": {},
   "source": [
    "Check the spread of values for the vote variable:"
   ]
  },
  {
   "cell_type": "code",
   "execution_count": 74,
   "metadata": {},
   "outputs": [
    {
     "data": {
      "text/plain": [
       "2.0    7890\n",
       "1.0    1739\n",
       "Name: majority, dtype: int64"
      ]
     },
     "execution_count": 74,
     "metadata": {},
     "output_type": "execute_result"
    }
   ],
   "source": [
    "vote_df.majority.value_counts()"
   ]
  },
  {
   "cell_type": "markdown",
   "metadata": {},
   "source": [
    "Create new column indicating whether a justice voted in favor of the petitioner or respondent. Used these logical relationships:\n",
    "\n",
    "- partyWinning 0, majority 1: justice was in minority and respondent won. vote for petitioner\n",
    "- partyWinning 0, majority 2: justice was in the majority and the respondent won. vote for respondent\n",
    "- partyWinning 1, majority 1: justice was in minorty and petitioner won. vote for respondent\n",
    "- partyWinning 1, majority 2: justice was in majority and petitioner won. vote for petitioner\n",
    "\n",
    "In new column:\n",
    "- Petitioner wins: 1\n",
    "- Respondent wins: 0"
   ]
  },
  {
   "cell_type": "code",
   "execution_count": 75,
   "metadata": {},
   "outputs": [],
   "source": [
    "def petitioner_vote(row):\n",
    "    if row['partyWinning']==0 and row['majority']==1:\n",
    "        return 1\n",
    "    elif row['partyWinning']==0 and row['majority']==2:\n",
    "        return 0\n",
    "    elif row['partyWinning']==1 and row['majority']==1:\n",
    "        return 0\n",
    "    elif row['partyWinning']==1 and row['majority']==2:\n",
    "        return 1\n",
    "    else:\n",
    "        return np.nan"
   ]
  },
  {
   "cell_type": "code",
   "execution_count": 76,
   "metadata": {},
   "outputs": [
    {
     "data": {
      "text/html": [
       "<div>\n",
       "<style scoped>\n",
       "    .dataframe tbody tr th:only-of-type {\n",
       "        vertical-align: middle;\n",
       "    }\n",
       "\n",
       "    .dataframe tbody tr th {\n",
       "        vertical-align: top;\n",
       "    }\n",
       "\n",
       "    .dataframe thead th {\n",
       "        text-align: right;\n",
       "    }\n",
       "</style>\n",
       "<table border=\"1\" class=\"dataframe\">\n",
       "  <thead>\n",
       "    <tr style=\"text-align: right;\">\n",
       "      <th></th>\n",
       "      <th>case_num</th>\n",
       "      <th>dateArgument</th>\n",
       "      <th>partyWinning</th>\n",
       "      <th>justiceName</th>\n",
       "      <th>majority</th>\n",
       "      <th>final_vote</th>\n",
       "    </tr>\n",
       "  </thead>\n",
       "  <tbody>\n",
       "    <tr>\n",
       "      <th>69291</th>\n",
       "      <td>90-1102</td>\n",
       "      <td>11/6/1991</td>\n",
       "      <td>0.0</td>\n",
       "      <td>CThomas</td>\n",
       "      <td>2.0</td>\n",
       "      <td>0.0</td>\n",
       "    </tr>\n",
       "    <tr>\n",
       "      <th>69318</th>\n",
       "      <td>90-1491</td>\n",
       "      <td>11/5/1991</td>\n",
       "      <td>1.0</td>\n",
       "      <td>CThomas</td>\n",
       "      <td>2.0</td>\n",
       "      <td>1.0</td>\n",
       "    </tr>\n",
       "  </tbody>\n",
       "</table>\n",
       "</div>"
      ],
      "text/plain": [
       "      case_num dateArgument  partyWinning justiceName  majority  final_vote\n",
       "69291  90-1102    11/6/1991           0.0     CThomas       2.0         0.0\n",
       "69318  90-1491    11/5/1991           1.0     CThomas       2.0         1.0"
      ]
     },
     "execution_count": 76,
     "metadata": {},
     "output_type": "execute_result"
    }
   ],
   "source": [
    "vote_df['final_vote'] = vote_df.apply (lambda row: petitioner_vote(row), axis=1)\n",
    "vote_df.head(2)"
   ]
  },
  {
   "cell_type": "markdown",
   "metadata": {},
   "source": [
    "### Create dataframe that merges the vote_df with the text dataframe of individual justices:\n",
    "Saves new merged dataframe to .pkl"
   ]
  },
  {
   "cell_type": "markdown",
   "metadata": {},
   "source": [
    "#### Sotomayor:"
   ]
  },
  {
   "cell_type": "code",
   "execution_count": 77,
   "metadata": {},
   "outputs": [
    {
     "data": {
      "text/html": [
       "<div>\n",
       "<style scoped>\n",
       "    .dataframe tbody tr th:only-of-type {\n",
       "        vertical-align: middle;\n",
       "    }\n",
       "\n",
       "    .dataframe tbody tr th {\n",
       "        vertical-align: top;\n",
       "    }\n",
       "\n",
       "    .dataframe thead th {\n",
       "        text-align: right;\n",
       "    }\n",
       "</style>\n",
       "<table border=\"1\" class=\"dataframe\">\n",
       "  <thead>\n",
       "    <tr style=\"text-align: right;\">\n",
       "      <th></th>\n",
       "      <th>case_num</th>\n",
       "      <th>dateArgument</th>\n",
       "      <th>partyWinning</th>\n",
       "      <th>justiceName</th>\n",
       "      <th>majority</th>\n",
       "      <th>final_vote</th>\n",
       "    </tr>\n",
       "  </thead>\n",
       "  <tbody>\n",
       "    <tr>\n",
       "      <th>85686</th>\n",
       "      <td>08-678</td>\n",
       "      <td>10/5/2009</td>\n",
       "      <td>0.0</td>\n",
       "      <td>SSotomayor</td>\n",
       "      <td>2.0</td>\n",
       "      <td>0.0</td>\n",
       "    </tr>\n",
       "    <tr>\n",
       "      <th>85695</th>\n",
       "      <td>08-351</td>\n",
       "      <td>10/14/2009</td>\n",
       "      <td>1.0</td>\n",
       "      <td>SSotomayor</td>\n",
       "      <td>2.0</td>\n",
       "      <td>1.0</td>\n",
       "    </tr>\n",
       "  </tbody>\n",
       "</table>\n",
       "</div>"
      ],
      "text/plain": [
       "      case_num dateArgument  partyWinning justiceName  majority  final_vote\n",
       "85686   08-678    10/5/2009           0.0  SSotomayor       2.0         0.0\n",
       "85695   08-351   10/14/2009           1.0  SSotomayor       2.0         1.0"
      ]
     },
     "execution_count": 77,
     "metadata": {},
     "output_type": "execute_result"
    }
   ],
   "source": [
    "vote_df_sotomayor = vote_df[vote_df.justiceName=='SSotomayor']\n",
    "text_df_sotomayor = pd.read_pickle(\"df_sotomayor.pkl\")\n",
    "vote_df_sotomayor.head(2)"
   ]
  },
  {
   "cell_type": "code",
   "execution_count": 78,
   "metadata": {},
   "outputs": [
    {
     "data": {
      "text/html": [
       "<div>\n",
       "<style scoped>\n",
       "    .dataframe tbody tr th:only-of-type {\n",
       "        vertical-align: middle;\n",
       "    }\n",
       "\n",
       "    .dataframe tbody tr th {\n",
       "        vertical-align: top;\n",
       "    }\n",
       "\n",
       "    .dataframe thead th {\n",
       "        text-align: right;\n",
       "    }\n",
       "</style>\n",
       "<table border=\"1\" class=\"dataframe\">\n",
       "  <thead>\n",
       "    <tr style=\"text-align: right;\">\n",
       "      <th></th>\n",
       "      <th>case_num</th>\n",
       "      <th>pet_name</th>\n",
       "      <th>res_name</th>\n",
       "      <th>pet_text</th>\n",
       "      <th>res_text</th>\n",
       "    </tr>\n",
       "  </thead>\n",
       "  <tbody>\n",
       "    <tr>\n",
       "      <th>0</th>\n",
       "      <td>15-513</td>\n",
       "      <td>SULLIVAN</td>\n",
       "      <td>SINGH</td>\n",
       "      <td>but the government  starts again    the judgm...</td>\n",
       "      <td>so  well lets get to  that okay because do we...</td>\n",
       "    </tr>\n",
       "    <tr>\n",
       "      <th>1</th>\n",
       "      <td>15-1191</td>\n",
       "      <td>KNEEDLER</td>\n",
       "      <td>BROOME</td>\n",
       "      <td>the problem is with the  exception thats been...</td>\n",
       "      <td>im sorry if we  leveled up how would that aff...</td>\n",
       "    </tr>\n",
       "  </tbody>\n",
       "</table>\n",
       "</div>"
      ],
      "text/plain": [
       "  case_num  pet_name res_name  \\\n",
       "0   15-513  SULLIVAN    SINGH   \n",
       "1  15-1191  KNEEDLER   BROOME   \n",
       "\n",
       "                                            pet_text  \\\n",
       "0   but the government  starts again    the judgm...   \n",
       "1   the problem is with the  exception thats been...   \n",
       "\n",
       "                                            res_text  \n",
       "0   so  well lets get to  that okay because do we...  \n",
       "1   im sorry if we  leveled up how would that aff...  "
      ]
     },
     "execution_count": 78,
     "metadata": {},
     "output_type": "execute_result"
    }
   ],
   "source": [
    "text_df_sotomayor.head(2)"
   ]
  },
  {
   "cell_type": "code",
   "execution_count": 79,
   "metadata": {},
   "outputs": [
    {
     "name": "stdout",
     "output_type": "stream",
     "text": [
      "['SSotomayor']\n",
      "(582, 10)\n"
     ]
    },
    {
     "data": {
      "text/html": [
       "<div>\n",
       "<style scoped>\n",
       "    .dataframe tbody tr th:only-of-type {\n",
       "        vertical-align: middle;\n",
       "    }\n",
       "\n",
       "    .dataframe tbody tr th {\n",
       "        vertical-align: top;\n",
       "    }\n",
       "\n",
       "    .dataframe thead th {\n",
       "        text-align: right;\n",
       "    }\n",
       "</style>\n",
       "<table border=\"1\" class=\"dataframe\">\n",
       "  <thead>\n",
       "    <tr style=\"text-align: right;\">\n",
       "      <th></th>\n",
       "      <th>case_num</th>\n",
       "      <th>pet_name</th>\n",
       "      <th>res_name</th>\n",
       "      <th>pet_text</th>\n",
       "      <th>res_text</th>\n",
       "      <th>dateArgument</th>\n",
       "      <th>partyWinning</th>\n",
       "      <th>justiceName</th>\n",
       "      <th>majority</th>\n",
       "      <th>final_vote</th>\n",
       "    </tr>\n",
       "  </thead>\n",
       "  <tbody>\n",
       "    <tr>\n",
       "      <th>0</th>\n",
       "      <td>15-513</td>\n",
       "      <td>SULLIVAN</td>\n",
       "      <td>SINGH</td>\n",
       "      <td>but the government  starts again    the judgm...</td>\n",
       "      <td>so  well lets get to  that okay because do we...</td>\n",
       "      <td>11/1/2016</td>\n",
       "      <td>0.0</td>\n",
       "      <td>SSotomayor</td>\n",
       "      <td>2.0</td>\n",
       "      <td>0.0</td>\n",
       "    </tr>\n",
       "    <tr>\n",
       "      <th>1</th>\n",
       "      <td>15-1191</td>\n",
       "      <td>KNEEDLER</td>\n",
       "      <td>BROOME</td>\n",
       "      <td>the problem is with the  exception thats been...</td>\n",
       "      <td>im sorry if we  leveled up how would that aff...</td>\n",
       "      <td>11/9/2016</td>\n",
       "      <td>1.0</td>\n",
       "      <td>SSotomayor</td>\n",
       "      <td>2.0</td>\n",
       "      <td>1.0</td>\n",
       "    </tr>\n",
       "    <tr>\n",
       "      <th>2</th>\n",
       "      <td>15-423</td>\n",
       "      <td>STETSON</td>\n",
       "      <td>CARROLL</td>\n",
       "      <td>it just see a little  bit like an academic ex...</td>\n",
       "      <td>lets go back to justice  alitos question  why...</td>\n",
       "      <td>11/2/2016</td>\n",
       "      <td>1.0</td>\n",
       "      <td>SSotomayor</td>\n",
       "      <td>2.0</td>\n",
       "      <td>1.0</td>\n",
       "    </tr>\n",
       "    <tr>\n",
       "      <th>3</th>\n",
       "      <td>15-866</td>\n",
       "      <td>BURSCH</td>\n",
       "      <td>JAY</td>\n",
       "      <td>but they have put it on  those other ite that...</td>\n",
       "      <td>does the university that  contracts with you ...</td>\n",
       "      <td>10/31/2016</td>\n",
       "      <td>0.0</td>\n",
       "      <td>SSotomayor</td>\n",
       "      <td>2.0</td>\n",
       "      <td>0.0</td>\n",
       "    </tr>\n",
       "    <tr>\n",
       "      <th>4</th>\n",
       "      <td>15-497</td>\n",
       "      <td>BAGENSTOS</td>\n",
       "      <td>KATYAL</td>\n",
       "      <td>martinez that begs  the last question that w...</td>\n",
       "      <td>can you tell us what  page thats on    no i k...</td>\n",
       "      <td>10/31/2016</td>\n",
       "      <td>1.0</td>\n",
       "      <td>SSotomayor</td>\n",
       "      <td>2.0</td>\n",
       "      <td>1.0</td>\n",
       "    </tr>\n",
       "  </tbody>\n",
       "</table>\n",
       "</div>"
      ],
      "text/plain": [
       "  case_num   pet_name res_name  \\\n",
       "0   15-513   SULLIVAN    SINGH   \n",
       "1  15-1191   KNEEDLER   BROOME   \n",
       "2   15-423    STETSON  CARROLL   \n",
       "3   15-866     BURSCH      JAY   \n",
       "4   15-497  BAGENSTOS   KATYAL   \n",
       "\n",
       "                                            pet_text  \\\n",
       "0   but the government  starts again    the judgm...   \n",
       "1   the problem is with the  exception thats been...   \n",
       "2   it just see a little  bit like an academic ex...   \n",
       "3   but they have put it on  those other ite that...   \n",
       "4    martinez that begs  the last question that w...   \n",
       "\n",
       "                                            res_text dateArgument  \\\n",
       "0   so  well lets get to  that okay because do we...    11/1/2016   \n",
       "1   im sorry if we  leveled up how would that aff...    11/9/2016   \n",
       "2   lets go back to justice  alitos question  why...    11/2/2016   \n",
       "3   does the university that  contracts with you ...   10/31/2016   \n",
       "4   can you tell us what  page thats on    no i k...   10/31/2016   \n",
       "\n",
       "   partyWinning justiceName  majority  final_vote  \n",
       "0           0.0  SSotomayor       2.0         0.0  \n",
       "1           1.0  SSotomayor       2.0         1.0  \n",
       "2           1.0  SSotomayor       2.0         1.0  \n",
       "3           0.0  SSotomayor       2.0         0.0  \n",
       "4           1.0  SSotomayor       2.0         1.0  "
      ]
     },
     "execution_count": 79,
     "metadata": {},
     "output_type": "execute_result"
    }
   ],
   "source": [
    "merged_df_sotomayor=text_df_sotomayor.merge(vote_df_sotomayor, on='case_num')\n",
    "print(merged_df_sotomayor.justiceName.unique())\n",
    "print(merged_df_sotomayor.shape)\n",
    "merged_df_sotomayor.head()"
   ]
  },
  {
   "cell_type": "code",
   "execution_count": 80,
   "metadata": {},
   "outputs": [
    {
     "data": {
      "text/plain": [
       "case_num        0\n",
       "pet_name        0\n",
       "res_name        0\n",
       "pet_text        0\n",
       "res_text        0\n",
       "dateArgument    0\n",
       "partyWinning    0\n",
       "justiceName     0\n",
       "majority        0\n",
       "final_vote      2\n",
       "dtype: int64"
      ]
     },
     "execution_count": 80,
     "metadata": {},
     "output_type": "execute_result"
    }
   ],
   "source": [
    "merged_df_sotomayor.isna().sum()"
   ]
  },
  {
   "cell_type": "code",
   "execution_count": 81,
   "metadata": {},
   "outputs": [
    {
     "name": "stdout",
     "output_type": "stream",
     "text": [
      "(580, 10)\n"
     ]
    },
    {
     "data": {
      "text/plain": [
       "1.0    348\n",
       "0.0    232\n",
       "Name: final_vote, dtype: int64"
      ]
     },
     "execution_count": 81,
     "metadata": {},
     "output_type": "execute_result"
    }
   ],
   "source": [
    "merged_df_sotomayor = merged_df_sotomayor.dropna(subset = ['final_vote'])\n",
    "print(merged_df_sotomayor.shape)\n",
    "merged_df_sotomayor.final_vote.value_counts()"
   ]
  },
  {
   "cell_type": "code",
   "execution_count": 82,
   "metadata": {},
   "outputs": [],
   "source": [
    "merged_df_sotomayor.to_pickle(\"df_merged_sotomayor.pkl\")"
   ]
  },
  {
   "cell_type": "markdown",
   "metadata": {},
   "source": [
    "#### Breyer:"
   ]
  },
  {
   "cell_type": "code",
   "execution_count": 83,
   "metadata": {},
   "outputs": [
    {
     "name": "stdout",
     "output_type": "stream",
     "text": [
      "['SGBreyer']\n",
      "(794, 10)\n",
      "case_num        0\n",
      "pet_name        0\n",
      "res_name        0\n",
      "pet_text        0\n",
      "res_text        0\n",
      "dateArgument    1\n",
      "partyWinning    0\n",
      "justiceName     0\n",
      "majority        0\n",
      "final_vote      2\n",
      "dtype: int64\n"
     ]
    },
    {
     "data": {
      "text/html": [
       "<div>\n",
       "<style scoped>\n",
       "    .dataframe tbody tr th:only-of-type {\n",
       "        vertical-align: middle;\n",
       "    }\n",
       "\n",
       "    .dataframe tbody tr th {\n",
       "        vertical-align: top;\n",
       "    }\n",
       "\n",
       "    .dataframe thead th {\n",
       "        text-align: right;\n",
       "    }\n",
       "</style>\n",
       "<table border=\"1\" class=\"dataframe\">\n",
       "  <thead>\n",
       "    <tr style=\"text-align: right;\">\n",
       "      <th></th>\n",
       "      <th>case_num</th>\n",
       "      <th>pet_name</th>\n",
       "      <th>res_name</th>\n",
       "      <th>pet_text</th>\n",
       "      <th>res_text</th>\n",
       "      <th>dateArgument</th>\n",
       "      <th>partyWinning</th>\n",
       "      <th>justiceName</th>\n",
       "      <th>majority</th>\n",
       "      <th>final_vote</th>\n",
       "    </tr>\n",
       "  </thead>\n",
       "  <tbody>\n",
       "    <tr>\n",
       "      <th>0</th>\n",
       "      <td>15-513</td>\n",
       "      <td>SULLIVAN</td>\n",
       "      <td>SINGH</td>\n",
       "      <td>well thats not this  question i had the same ...</td>\n",
       "      <td>do you have just on the  top of your head som...</td>\n",
       "      <td>11/1/2016</td>\n",
       "      <td>0.0</td>\n",
       "      <td>SGBreyer</td>\n",
       "      <td>2.0</td>\n",
       "      <td>0.0</td>\n",
       "    </tr>\n",
       "    <tr>\n",
       "      <th>1</th>\n",
       "      <td>15-1191</td>\n",
       "      <td>KNEEDLER</td>\n",
       "      <td>BROOME</td>\n",
       "      <td>theres a lot of  complicated things but the q...</td>\n",
       "      <td>on this but  i would say  at some point the p...</td>\n",
       "      <td>11/9/2016</td>\n",
       "      <td>1.0</td>\n",
       "      <td>SGBreyer</td>\n",
       "      <td>2.0</td>\n",
       "      <td>1.0</td>\n",
       "    </tr>\n",
       "    <tr>\n",
       "      <th>2</th>\n",
       "      <td>15-423</td>\n",
       "      <td>STETSON</td>\n",
       "      <td>CARROLL</td>\n",
       "      <td>so how does it work with  diversity we have a...</td>\n",
       "      <td>i dont know that thats a   different issue i ...</td>\n",
       "      <td>11/2/2016</td>\n",
       "      <td>1.0</td>\n",
       "      <td>SGBreyer</td>\n",
       "      <td>2.0</td>\n",
       "      <td>1.0</td>\n",
       "    </tr>\n",
       "    <tr>\n",
       "      <th>3</th>\n",
       "      <td>15-866</td>\n",
       "      <td>BURSCH</td>\n",
       "      <td>JAY</td>\n",
       "      <td>forget the special things  i have a picture o...</td>\n",
       "      <td>but the point the question  is i think if i  ...</td>\n",
       "      <td>10/31/2016</td>\n",
       "      <td>0.0</td>\n",
       "      <td>SGBreyer</td>\n",
       "      <td>1.0</td>\n",
       "      <td>1.0</td>\n",
       "    </tr>\n",
       "    <tr>\n",
       "      <th>4</th>\n",
       "      <td>15-497</td>\n",
       "      <td>BAGENSTOS</td>\n",
       "      <td>KATYAL</td>\n",
       "      <td>thats true but      you could find  i  mean i...</td>\n",
       "      <td>i see that i see this is  what  where  where ...</td>\n",
       "      <td>10/31/2016</td>\n",
       "      <td>1.0</td>\n",
       "      <td>SGBreyer</td>\n",
       "      <td>2.0</td>\n",
       "      <td>1.0</td>\n",
       "    </tr>\n",
       "  </tbody>\n",
       "</table>\n",
       "</div>"
      ],
      "text/plain": [
       "  case_num   pet_name res_name  \\\n",
       "0   15-513   SULLIVAN    SINGH   \n",
       "1  15-1191   KNEEDLER   BROOME   \n",
       "2   15-423    STETSON  CARROLL   \n",
       "3   15-866     BURSCH      JAY   \n",
       "4   15-497  BAGENSTOS   KATYAL   \n",
       "\n",
       "                                            pet_text  \\\n",
       "0   well thats not this  question i had the same ...   \n",
       "1   theres a lot of  complicated things but the q...   \n",
       "2   so how does it work with  diversity we have a...   \n",
       "3   forget the special things  i have a picture o...   \n",
       "4   thats true but      you could find  i  mean i...   \n",
       "\n",
       "                                            res_text dateArgument  \\\n",
       "0   do you have just on the  top of your head som...    11/1/2016   \n",
       "1   on this but  i would say  at some point the p...    11/9/2016   \n",
       "2   i dont know that thats a   different issue i ...    11/2/2016   \n",
       "3   but the point the question  is i think if i  ...   10/31/2016   \n",
       "4   i see that i see this is  what  where  where ...   10/31/2016   \n",
       "\n",
       "   partyWinning justiceName  majority  final_vote  \n",
       "0           0.0    SGBreyer       2.0         0.0  \n",
       "1           1.0    SGBreyer       2.0         1.0  \n",
       "2           1.0    SGBreyer       2.0         1.0  \n",
       "3           0.0    SGBreyer       1.0         1.0  \n",
       "4           1.0    SGBreyer       2.0         1.0  "
      ]
     },
     "execution_count": 83,
     "metadata": {},
     "output_type": "execute_result"
    }
   ],
   "source": [
    "vote_df_breyer = vote_df[vote_df.justiceName=='SGBreyer']\n",
    "text_df_breyer = pd.read_pickle(\"df_breyer.pkl\")\n",
    "merged_df_breyer = text_df_breyer.merge(vote_df_breyer, on='case_num')\n",
    "\n",
    "print(merged_df_breyer.justiceName.unique())\n",
    "print(merged_df_breyer.shape)\n",
    "print(merged_df_breyer.isna().sum())\n",
    "merged_df_breyer.head()"
   ]
  },
  {
   "cell_type": "code",
   "execution_count": 84,
   "metadata": {},
   "outputs": [
    {
     "name": "stdout",
     "output_type": "stream",
     "text": [
      "(792, 10)\n"
     ]
    },
    {
     "data": {
      "text/plain": [
       "1.0    488\n",
       "0.0    304\n",
       "Name: final_vote, dtype: int64"
      ]
     },
     "execution_count": 84,
     "metadata": {},
     "output_type": "execute_result"
    }
   ],
   "source": [
    "merged_df_breyer = merged_df_breyer.dropna(subset = ['final_vote'])\n",
    "print(merged_df_breyer.shape)\n",
    "merged_df_breyer.final_vote.value_counts()"
   ]
  },
  {
   "cell_type": "code",
   "execution_count": 85,
   "metadata": {},
   "outputs": [],
   "source": [
    "merged_df_breyer.to_pickle(\"df_merged_breyer.pkl\")"
   ]
  },
  {
   "cell_type": "markdown",
   "metadata": {},
   "source": [
    "#### Kavanaugh"
   ]
  },
  {
   "cell_type": "code",
   "execution_count": 86,
   "metadata": {},
   "outputs": [
    {
     "name": "stdout",
     "output_type": "stream",
     "text": [
      "['BMKavanaugh']\n",
      "(94, 10)\n",
      "case_num        0\n",
      "pet_name        0\n",
      "res_name        0\n",
      "pet_text        0\n",
      "res_text        0\n",
      "dateArgument    0\n",
      "partyWinning    0\n",
      "justiceName     0\n",
      "majority        0\n",
      "final_vote      2\n",
      "dtype: int64\n"
     ]
    },
    {
     "data": {
      "text/html": [
       "<div>\n",
       "<style scoped>\n",
       "    .dataframe tbody tr th:only-of-type {\n",
       "        vertical-align: middle;\n",
       "    }\n",
       "\n",
       "    .dataframe tbody tr th {\n",
       "        vertical-align: top;\n",
       "    }\n",
       "\n",
       "    .dataframe thead th {\n",
       "        text-align: right;\n",
       "    }\n",
       "</style>\n",
       "<table border=\"1\" class=\"dataframe\">\n",
       "  <thead>\n",
       "    <tr style=\"text-align: right;\">\n",
       "      <th></th>\n",
       "      <th>case_num</th>\n",
       "      <th>pet_name</th>\n",
       "      <th>res_name</th>\n",
       "      <th>pet_text</th>\n",
       "      <th>res_text</th>\n",
       "      <th>dateArgument</th>\n",
       "      <th>partyWinning</th>\n",
       "      <th>justiceName</th>\n",
       "      <th>majority</th>\n",
       "      <th>final_vote</th>\n",
       "    </tr>\n",
       "  </thead>\n",
       "  <tbody>\n",
       "    <tr>\n",
       "      <th>0</th>\n",
       "      <td>16-1363</td>\n",
       "      <td>TRIPP</td>\n",
       "      <td>WANG</td>\n",
       "      <td>if  if      if reasonable  amount of time jus...</td>\n",
       "      <td>is that different  from  heritage reporting c...</td>\n",
       "      <td>10/10/2018</td>\n",
       "      <td>1.0</td>\n",
       "      <td>BMKavanaugh</td>\n",
       "      <td>2.0</td>\n",
       "      <td>1.0</td>\n",
       "    </tr>\n",
       "    <tr>\n",
       "      <th>1</th>\n",
       "      <td>17-1104</td>\n",
       "      <td>DVORETZKY</td>\n",
       "      <td>GOLDSTEIN</td>\n",
       "      <td>why are too many  warnings bad    why is that...</td>\n",
       "      <td>so you just  changed the answer    okay    ju...</td>\n",
       "      <td>10/10/2018</td>\n",
       "      <td>0.0</td>\n",
       "      <td>BMKavanaugh</td>\n",
       "      <td>2.0</td>\n",
       "      <td>0.0</td>\n",
       "    </tr>\n",
       "    <tr>\n",
       "      <th>2</th>\n",
       "      <td>17-647</td>\n",
       "      <td>BREEMER</td>\n",
       "      <td>SACHS</td>\n",
       "      <td></td>\n",
       "      <td></td>\n",
       "      <td>10/3/2018</td>\n",
       "      <td>1.0</td>\n",
       "      <td>BMKavanaugh</td>\n",
       "      <td>2.0</td>\n",
       "      <td>1.0</td>\n",
       "    </tr>\n",
       "    <tr>\n",
       "      <th>3</th>\n",
       "      <td>17-5554</td>\n",
       "      <td>BRYN</td>\n",
       "      <td>LIU</td>\n",
       "      <td>but  but  counsel  counsel in curtis johnson ...</td>\n",
       "      <td>but  but curtis  johnson says substantial deg...</td>\n",
       "      <td>10/9/2018</td>\n",
       "      <td>0.0</td>\n",
       "      <td>BMKavanaugh</td>\n",
       "      <td>2.0</td>\n",
       "      <td>0.0</td>\n",
       "    </tr>\n",
       "    <tr>\n",
       "      <th>4</th>\n",
       "      <td>18-481</td>\n",
       "      <td>YOUNG</td>\n",
       "      <td>LOEB</td>\n",
       "      <td>how about the    when can  when  can it be de...</td>\n",
       "      <td>you seem to be  making two distinct arguments...</td>\n",
       "      <td>4/22/2019</td>\n",
       "      <td>1.0</td>\n",
       "      <td>BMKavanaugh</td>\n",
       "      <td>2.0</td>\n",
       "      <td>1.0</td>\n",
       "    </tr>\n",
       "  </tbody>\n",
       "</table>\n",
       "</div>"
      ],
      "text/plain": [
       "  case_num   pet_name   res_name  \\\n",
       "0  16-1363      TRIPP       WANG   \n",
       "1  17-1104  DVORETZKY  GOLDSTEIN   \n",
       "2   17-647    BREEMER      SACHS   \n",
       "3  17-5554       BRYN        LIU   \n",
       "4   18-481      YOUNG       LOEB   \n",
       "\n",
       "                                            pet_text  \\\n",
       "0   if  if      if reasonable  amount of time jus...   \n",
       "1   why are too many  warnings bad    why is that...   \n",
       "2                                                      \n",
       "3   but  but  counsel  counsel in curtis johnson ...   \n",
       "4   how about the    when can  when  can it be de...   \n",
       "\n",
       "                                            res_text dateArgument  \\\n",
       "0   is that different  from  heritage reporting c...   10/10/2018   \n",
       "1   so you just  changed the answer    okay    ju...   10/10/2018   \n",
       "2                                                       10/3/2018   \n",
       "3   but  but curtis  johnson says substantial deg...    10/9/2018   \n",
       "4   you seem to be  making two distinct arguments...    4/22/2019   \n",
       "\n",
       "   partyWinning  justiceName  majority  final_vote  \n",
       "0           1.0  BMKavanaugh       2.0         1.0  \n",
       "1           0.0  BMKavanaugh       2.0         0.0  \n",
       "2           1.0  BMKavanaugh       2.0         1.0  \n",
       "3           0.0  BMKavanaugh       2.0         0.0  \n",
       "4           1.0  BMKavanaugh       2.0         1.0  "
      ]
     },
     "execution_count": 86,
     "metadata": {},
     "output_type": "execute_result"
    }
   ],
   "source": [
    "vote_df_kavanaugh = vote_df[vote_df.justiceName=='BMKavanaugh']\n",
    "text_df_kavanaugh = pd.read_pickle(\"df_kavanaugh.pkl\")\n",
    "merged_df_kavanaugh = text_df_kavanaugh.merge(vote_df_kavanaugh, on='case_num')\n",
    "\n",
    "print(merged_df_kavanaugh.justiceName.unique())\n",
    "print(merged_df_kavanaugh.shape)\n",
    "print(merged_df_kavanaugh.isna().sum())\n",
    "merged_df_kavanaugh.head()"
   ]
  },
  {
   "cell_type": "code",
   "execution_count": 87,
   "metadata": {},
   "outputs": [
    {
     "name": "stdout",
     "output_type": "stream",
     "text": [
      "(92, 10)\n"
     ]
    },
    {
     "data": {
      "text/plain": [
       "1.0    54\n",
       "0.0    38\n",
       "Name: final_vote, dtype: int64"
      ]
     },
     "execution_count": 87,
     "metadata": {},
     "output_type": "execute_result"
    }
   ],
   "source": [
    "merged_df_kavanaugh = merged_df_kavanaugh.dropna(subset = ['final_vote'])\n",
    "print(merged_df_kavanaugh.shape)\n",
    "merged_df_kavanaugh.final_vote.value_counts()"
   ]
  },
  {
   "cell_type": "code",
   "execution_count": 88,
   "metadata": {},
   "outputs": [],
   "source": [
    "merged_df_kavanaugh.to_pickle(\"df_merged_kavanaugh.pkl\")"
   ]
  },
  {
   "cell_type": "markdown",
   "metadata": {},
   "source": [
    "#### Roberts"
   ]
  },
  {
   "cell_type": "code",
   "execution_count": 89,
   "metadata": {},
   "outputs": [
    {
     "name": "stdout",
     "output_type": "stream",
     "text": [
      "['JGRoberts']\n",
      "(754, 10)\n",
      "case_num        0\n",
      "pet_name        0\n",
      "res_name        0\n",
      "pet_text        0\n",
      "res_text        0\n",
      "dateArgument    1\n",
      "partyWinning    0\n",
      "justiceName     0\n",
      "majority        0\n",
      "final_vote      2\n",
      "dtype: int64\n"
     ]
    },
    {
     "data": {
      "text/html": [
       "<div>\n",
       "<style scoped>\n",
       "    .dataframe tbody tr th:only-of-type {\n",
       "        vertical-align: middle;\n",
       "    }\n",
       "\n",
       "    .dataframe tbody tr th {\n",
       "        vertical-align: top;\n",
       "    }\n",
       "\n",
       "    .dataframe thead th {\n",
       "        text-align: right;\n",
       "    }\n",
       "</style>\n",
       "<table border=\"1\" class=\"dataframe\">\n",
       "  <thead>\n",
       "    <tr style=\"text-align: right;\">\n",
       "      <th></th>\n",
       "      <th>case_num</th>\n",
       "      <th>pet_name</th>\n",
       "      <th>res_name</th>\n",
       "      <th>pet_text</th>\n",
       "      <th>res_text</th>\n",
       "      <th>dateArgument</th>\n",
       "      <th>partyWinning</th>\n",
       "      <th>justiceName</th>\n",
       "      <th>majority</th>\n",
       "      <th>final_vote</th>\n",
       "    </tr>\n",
       "  </thead>\n",
       "  <tbody>\n",
       "    <tr>\n",
       "      <th>0</th>\n",
       "      <td>15-513</td>\n",
       "      <td>SULLIVAN</td>\n",
       "      <td>SINGH</td>\n",
       "      <td>so youre arguing   youre arguing the governme...</td>\n",
       "      <td>i think that it  honestly asks very little of...</td>\n",
       "      <td>11/1/2016</td>\n",
       "      <td>0.0</td>\n",
       "      <td>JGRoberts</td>\n",
       "      <td>2.0</td>\n",
       "      <td>0.0</td>\n",
       "    </tr>\n",
       "    <tr>\n",
       "      <th>1</th>\n",
       "      <td>15-1191</td>\n",
       "      <td>KNEEDLER</td>\n",
       "      <td>BROOME</td>\n",
       "      <td>is that an argument  we heard much about in t...</td>\n",
       "      <td>well but i mean  that argument see to me that...</td>\n",
       "      <td>11/9/2016</td>\n",
       "      <td>1.0</td>\n",
       "      <td>JGRoberts</td>\n",
       "      <td>2.0</td>\n",
       "      <td>1.0</td>\n",
       "    </tr>\n",
       "    <tr>\n",
       "      <th>2</th>\n",
       "      <td>15-423</td>\n",
       "      <td>STETSON</td>\n",
       "      <td>CARROLL</td>\n",
       "      <td>justice breyer   thank you counsel   goldenbe...</td>\n",
       "      <td>thats not the  outset thats a question of exe...</td>\n",
       "      <td>11/2/2016</td>\n",
       "      <td>1.0</td>\n",
       "      <td>JGRoberts</td>\n",
       "      <td>2.0</td>\n",
       "      <td>1.0</td>\n",
       "    </tr>\n",
       "    <tr>\n",
       "      <th>3</th>\n",
       "      <td>15-866</td>\n",
       "      <td>BURSCH</td>\n",
       "      <td>JAY</td>\n",
       "      <td>so i guess im not  sure about your  does that...</td>\n",
       "      <td>what do you do about  the camouflage case    ...</td>\n",
       "      <td>10/31/2016</td>\n",
       "      <td>0.0</td>\n",
       "      <td>JGRoberts</td>\n",
       "      <td>2.0</td>\n",
       "      <td>0.0</td>\n",
       "    </tr>\n",
       "    <tr>\n",
       "      <th>4</th>\n",
       "      <td>15-497</td>\n",
       "      <td>BAGENSTOS</td>\n",
       "      <td>KATYAL</td>\n",
       "      <td>i  i understand  youd be making two arguments...</td>\n",
       "      <td>thats boilerplate  that may or may not be sig...</td>\n",
       "      <td>10/31/2016</td>\n",
       "      <td>1.0</td>\n",
       "      <td>JGRoberts</td>\n",
       "      <td>2.0</td>\n",
       "      <td>1.0</td>\n",
       "    </tr>\n",
       "  </tbody>\n",
       "</table>\n",
       "</div>"
      ],
      "text/plain": [
       "  case_num   pet_name res_name  \\\n",
       "0   15-513   SULLIVAN    SINGH   \n",
       "1  15-1191   KNEEDLER   BROOME   \n",
       "2   15-423    STETSON  CARROLL   \n",
       "3   15-866     BURSCH      JAY   \n",
       "4   15-497  BAGENSTOS   KATYAL   \n",
       "\n",
       "                                            pet_text  \\\n",
       "0   so youre arguing   youre arguing the governme...   \n",
       "1   is that an argument  we heard much about in t...   \n",
       "2   justice breyer   thank you counsel   goldenbe...   \n",
       "3   so i guess im not  sure about your  does that...   \n",
       "4   i  i understand  youd be making two arguments...   \n",
       "\n",
       "                                            res_text dateArgument  \\\n",
       "0   i think that it  honestly asks very little of...    11/1/2016   \n",
       "1   well but i mean  that argument see to me that...    11/9/2016   \n",
       "2   thats not the  outset thats a question of exe...    11/2/2016   \n",
       "3   what do you do about  the camouflage case    ...   10/31/2016   \n",
       "4   thats boilerplate  that may or may not be sig...   10/31/2016   \n",
       "\n",
       "   partyWinning justiceName  majority  final_vote  \n",
       "0           0.0   JGRoberts       2.0         0.0  \n",
       "1           1.0   JGRoberts       2.0         1.0  \n",
       "2           1.0   JGRoberts       2.0         1.0  \n",
       "3           0.0   JGRoberts       2.0         0.0  \n",
       "4           1.0   JGRoberts       2.0         1.0  "
      ]
     },
     "execution_count": 89,
     "metadata": {},
     "output_type": "execute_result"
    }
   ],
   "source": [
    "vote_df_roberts = vote_df[vote_df.justiceName=='JGRoberts']\n",
    "text_df_roberts = pd.read_pickle(\"df_roberts.pkl\")\n",
    "merged_df_roberts = text_df_roberts.merge(vote_df_roberts, on='case_num')\n",
    "\n",
    "print(merged_df_roberts.justiceName.unique())\n",
    "print(merged_df_roberts.shape)\n",
    "print(merged_df_roberts.isna().sum())\n",
    "merged_df_roberts.head()"
   ]
  },
  {
   "cell_type": "code",
   "execution_count": 90,
   "metadata": {},
   "outputs": [
    {
     "name": "stdout",
     "output_type": "stream",
     "text": [
      "(752, 10)\n"
     ]
    },
    {
     "data": {
      "text/plain": [
       "1.0    488\n",
       "0.0    264\n",
       "Name: final_vote, dtype: int64"
      ]
     },
     "execution_count": 90,
     "metadata": {},
     "output_type": "execute_result"
    }
   ],
   "source": [
    "merged_df_roberts = merged_df_roberts.dropna(subset = ['final_vote'])\n",
    "print(merged_df_roberts.shape)\n",
    "merged_df_roberts.final_vote.value_counts()"
   ]
  },
  {
   "cell_type": "code",
   "execution_count": 91,
   "metadata": {},
   "outputs": [],
   "source": [
    "merged_df_roberts.to_pickle(\"df_merged_roberts.pkl\")"
   ]
  },
  {
   "cell_type": "markdown",
   "metadata": {},
   "source": [
    "#### Alito"
   ]
  },
  {
   "cell_type": "code",
   "execution_count": 92,
   "metadata": {},
   "outputs": [
    {
     "name": "stdout",
     "output_type": "stream",
     "text": [
      "['SAAlito']\n",
      "(740, 10)\n",
      "case_num        0\n",
      "pet_name        0\n",
      "res_name        0\n",
      "pet_text        0\n",
      "res_text        0\n",
      "dateArgument    1\n",
      "partyWinning    0\n",
      "justiceName     0\n",
      "majority        0\n",
      "final_vote      2\n",
      "dtype: int64\n"
     ]
    },
    {
     "data": {
      "text/html": [
       "<div>\n",
       "<style scoped>\n",
       "    .dataframe tbody tr th:only-of-type {\n",
       "        vertical-align: middle;\n",
       "    }\n",
       "\n",
       "    .dataframe tbody tr th {\n",
       "        vertical-align: top;\n",
       "    }\n",
       "\n",
       "    .dataframe thead th {\n",
       "        text-align: right;\n",
       "    }\n",
       "</style>\n",
       "<table border=\"1\" class=\"dataframe\">\n",
       "  <thead>\n",
       "    <tr style=\"text-align: right;\">\n",
       "      <th></th>\n",
       "      <th>case_num</th>\n",
       "      <th>pet_name</th>\n",
       "      <th>res_name</th>\n",
       "      <th>pet_text</th>\n",
       "      <th>res_text</th>\n",
       "      <th>dateArgument</th>\n",
       "      <th>partyWinning</th>\n",
       "      <th>justiceName</th>\n",
       "      <th>majority</th>\n",
       "      <th>final_vote</th>\n",
       "    </tr>\n",
       "  </thead>\n",
       "  <tbody>\n",
       "    <tr>\n",
       "      <th>0</th>\n",
       "      <td>15-513</td>\n",
       "      <td>SULLIVAN</td>\n",
       "      <td>SINGH</td>\n",
       "      <td>well you have two  arguments one is that dism...</td>\n",
       "      <td>well if we issue an  opinion  when we issue a...</td>\n",
       "      <td>11/1/2016</td>\n",
       "      <td>0.0</td>\n",
       "      <td>SAAlito</td>\n",
       "      <td>2.0</td>\n",
       "      <td>0.0</td>\n",
       "    </tr>\n",
       "    <tr>\n",
       "      <th>1</th>\n",
       "      <td>15-1191</td>\n",
       "      <td>KNEEDLER</td>\n",
       "      <td>BROOME</td>\n",
       "      <td>kneedler can i ask you  this question if the...</td>\n",
       "      <td>well that is true but  isnt it something else...</td>\n",
       "      <td>11/9/2016</td>\n",
       "      <td>1.0</td>\n",
       "      <td>SAAlito</td>\n",
       "      <td>2.0</td>\n",
       "      <td>1.0</td>\n",
       "    </tr>\n",
       "    <tr>\n",
       "      <th>2</th>\n",
       "      <td>15-423</td>\n",
       "      <td>STETSON</td>\n",
       "      <td>CARROLL</td>\n",
       "      <td>i dont  i dont quite  understand that why wou...</td>\n",
       "      <td>the basis of that what do  you think you woul...</td>\n",
       "      <td>11/2/2016</td>\n",
       "      <td>1.0</td>\n",
       "      <td>SAAlito</td>\n",
       "      <td>2.0</td>\n",
       "      <td>1.0</td>\n",
       "    </tr>\n",
       "    <tr>\n",
       "      <th>3</th>\n",
       "      <td>15-866</td>\n",
       "      <td>BURSCH</td>\n",
       "      <td>JAY</td>\n",
       "      <td></td>\n",
       "      <td>as to the  as to the  surface design i have a...</td>\n",
       "      <td>10/31/2016</td>\n",
       "      <td>0.0</td>\n",
       "      <td>SAAlito</td>\n",
       "      <td>2.0</td>\n",
       "      <td>0.0</td>\n",
       "    </tr>\n",
       "    <tr>\n",
       "      <th>4</th>\n",
       "      <td>15-497</td>\n",
       "      <td>BAGENSTOS</td>\n",
       "      <td>KATYAL</td>\n",
       "      <td>what would happen if the  claim was that the ...</td>\n",
       "      <td></td>\n",
       "      <td>10/31/2016</td>\n",
       "      <td>1.0</td>\n",
       "      <td>SAAlito</td>\n",
       "      <td>2.0</td>\n",
       "      <td>1.0</td>\n",
       "    </tr>\n",
       "  </tbody>\n",
       "</table>\n",
       "</div>"
      ],
      "text/plain": [
       "  case_num   pet_name res_name  \\\n",
       "0   15-513   SULLIVAN    SINGH   \n",
       "1  15-1191   KNEEDLER   BROOME   \n",
       "2   15-423    STETSON  CARROLL   \n",
       "3   15-866     BURSCH      JAY   \n",
       "4   15-497  BAGENSTOS   KATYAL   \n",
       "\n",
       "                                            pet_text  \\\n",
       "0   well you have two  arguments one is that dism...   \n",
       "1    kneedler can i ask you  this question if the...   \n",
       "2   i dont  i dont quite  understand that why wou...   \n",
       "3                                                      \n",
       "4   what would happen if the  claim was that the ...   \n",
       "\n",
       "                                            res_text dateArgument  \\\n",
       "0   well if we issue an  opinion  when we issue a...    11/1/2016   \n",
       "1   well that is true but  isnt it something else...    11/9/2016   \n",
       "2   the basis of that what do  you think you woul...    11/2/2016   \n",
       "3   as to the  as to the  surface design i have a...   10/31/2016   \n",
       "4                                                      10/31/2016   \n",
       "\n",
       "   partyWinning justiceName  majority  final_vote  \n",
       "0           0.0     SAAlito       2.0         0.0  \n",
       "1           1.0     SAAlito       2.0         1.0  \n",
       "2           1.0     SAAlito       2.0         1.0  \n",
       "3           0.0     SAAlito       2.0         0.0  \n",
       "4           1.0     SAAlito       2.0         1.0  "
      ]
     },
     "execution_count": 92,
     "metadata": {},
     "output_type": "execute_result"
    }
   ],
   "source": [
    "vote_df_alito = vote_df[vote_df.justiceName=='SAAlito']\n",
    "text_df_alito = pd.read_pickle(\"df_alito.pkl\")\n",
    "merged_df_alito = text_df_alito.merge(vote_df_alito, on='case_num')\n",
    "\n",
    "print(merged_df_alito.justiceName.unique())\n",
    "print(merged_df_alito.shape)\n",
    "print(merged_df_alito.isna().sum())\n",
    "merged_df_alito.head()"
   ]
  },
  {
   "cell_type": "code",
   "execution_count": 93,
   "metadata": {},
   "outputs": [
    {
     "name": "stdout",
     "output_type": "stream",
     "text": [
      "(738, 10)\n"
     ]
    },
    {
     "data": {
      "text/plain": [
       "1.0    446\n",
       "0.0    292\n",
       "Name: final_vote, dtype: int64"
      ]
     },
     "execution_count": 93,
     "metadata": {},
     "output_type": "execute_result"
    }
   ],
   "source": [
    "merged_df_alito = merged_df_alito.dropna(subset = ['final_vote'])\n",
    "print(merged_df_alito.shape)\n",
    "merged_df_alito.final_vote.value_counts()"
   ]
  },
  {
   "cell_type": "code",
   "execution_count": 94,
   "metadata": {},
   "outputs": [],
   "source": [
    "merged_df_alito.to_pickle(\"df_merged_alito.pkl\")"
   ]
  },
  {
   "cell_type": "markdown",
   "metadata": {},
   "source": [
    "#### Gorsuch"
   ]
  },
  {
   "cell_type": "code",
   "execution_count": 95,
   "metadata": {},
   "outputs": [
    {
     "name": "stdout",
     "output_type": "stream",
     "text": [
      "['NMGorsuch']\n",
      "(156, 10)\n",
      "case_num        0\n",
      "pet_name        0\n",
      "res_name        0\n",
      "pet_text        0\n",
      "res_text        0\n",
      "dateArgument    0\n",
      "partyWinning    0\n",
      "justiceName     0\n",
      "majority        0\n",
      "final_vote      2\n",
      "dtype: int64\n"
     ]
    },
    {
     "data": {
      "text/html": [
       "<div>\n",
       "<style scoped>\n",
       "    .dataframe tbody tr th:only-of-type {\n",
       "        vertical-align: middle;\n",
       "    }\n",
       "\n",
       "    .dataframe tbody tr th {\n",
       "        vertical-align: top;\n",
       "    }\n",
       "\n",
       "    .dataframe thead th {\n",
       "        text-align: right;\n",
       "    }\n",
       "</style>\n",
       "<table border=\"1\" class=\"dataframe\">\n",
       "  <thead>\n",
       "    <tr style=\"text-align: right;\">\n",
       "      <th></th>\n",
       "      <th>case_num</th>\n",
       "      <th>pet_name</th>\n",
       "      <th>res_name</th>\n",
       "      <th>pet_text</th>\n",
       "      <th>res_text</th>\n",
       "      <th>dateArgument</th>\n",
       "      <th>partyWinning</th>\n",
       "      <th>justiceName</th>\n",
       "      <th>majority</th>\n",
       "      <th>final_vote</th>\n",
       "    </tr>\n",
       "  </thead>\n",
       "  <tbody>\n",
       "    <tr>\n",
       "      <th>0</th>\n",
       "      <td>15-1498</td>\n",
       "      <td>KNEEDLER</td>\n",
       "      <td>ROSENKRANZ</td>\n",
       "      <td></td>\n",
       "      <td></td>\n",
       "      <td>1/17/2017</td>\n",
       "      <td>0.0</td>\n",
       "      <td>NMGorsuch</td>\n",
       "      <td>2.0</td>\n",
       "      <td>0.0</td>\n",
       "    </tr>\n",
       "    <tr>\n",
       "      <th>1</th>\n",
       "      <td>15-1498</td>\n",
       "      <td>KNEEDLER</td>\n",
       "      <td>ROSENKRANZ</td>\n",
       "      <td>kneedler may i   may i ask you just a couple...</td>\n",
       "      <td>lets  lets say  we dont think jordan decided ...</td>\n",
       "      <td>1/17/2017</td>\n",
       "      <td>0.0</td>\n",
       "      <td>NMGorsuch</td>\n",
       "      <td>2.0</td>\n",
       "      <td>0.0</td>\n",
       "    </tr>\n",
       "    <tr>\n",
       "      <th>2</th>\n",
       "      <td>15-1204</td>\n",
       "      <td>GERSHENGORN</td>\n",
       "      <td>ARULANANTHAM</td>\n",
       "      <td></td>\n",
       "      <td></td>\n",
       "      <td>11/30/2016</td>\n",
       "      <td>1.0</td>\n",
       "      <td>NMGorsuch</td>\n",
       "      <td>2.0</td>\n",
       "      <td>1.0</td>\n",
       "    </tr>\n",
       "    <tr>\n",
       "      <th>3</th>\n",
       "      <td>15-1204</td>\n",
       "      <td>STEWART</td>\n",
       "      <td>ARULANANTHAM</td>\n",
       "      <td></td>\n",
       "      <td>counsel can you  help me     you know what im...</td>\n",
       "      <td>11/30/2016</td>\n",
       "      <td>1.0</td>\n",
       "      <td>NMGorsuch</td>\n",
       "      <td>2.0</td>\n",
       "      <td>1.0</td>\n",
       "    </tr>\n",
       "    <tr>\n",
       "      <th>4</th>\n",
       "      <td>16-5294</td>\n",
       "      <td>BRIGHT</td>\n",
       "      <td>BRASHER</td>\n",
       "      <td>but counsel if we could  just follow up on th...</td>\n",
       "      <td>brasher   general   brasher one piece of  ev...</td>\n",
       "      <td>4/24/2017</td>\n",
       "      <td>1.0</td>\n",
       "      <td>NMGorsuch</td>\n",
       "      <td>1.0</td>\n",
       "      <td>0.0</td>\n",
       "    </tr>\n",
       "  </tbody>\n",
       "</table>\n",
       "</div>"
      ],
      "text/plain": [
       "  case_num     pet_name      res_name  \\\n",
       "0  15-1498     KNEEDLER    ROSENKRANZ   \n",
       "1  15-1498     KNEEDLER    ROSENKRANZ   \n",
       "2  15-1204  GERSHENGORN  ARULANANTHAM   \n",
       "3  15-1204      STEWART  ARULANANTHAM   \n",
       "4  16-5294       BRIGHT       BRASHER   \n",
       "\n",
       "                                            pet_text  \\\n",
       "0                                                      \n",
       "1    kneedler may i   may i ask you just a couple...   \n",
       "2                                                      \n",
       "3                                                      \n",
       "4   but counsel if we could  just follow up on th...   \n",
       "\n",
       "                                            res_text dateArgument  \\\n",
       "0                                                       1/17/2017   \n",
       "1   lets  lets say  we dont think jordan decided ...    1/17/2017   \n",
       "2                                                      11/30/2016   \n",
       "3   counsel can you  help me     you know what im...   11/30/2016   \n",
       "4    brasher   general   brasher one piece of  ev...    4/24/2017   \n",
       "\n",
       "   partyWinning justiceName  majority  final_vote  \n",
       "0           0.0   NMGorsuch       2.0         0.0  \n",
       "1           0.0   NMGorsuch       2.0         0.0  \n",
       "2           1.0   NMGorsuch       2.0         1.0  \n",
       "3           1.0   NMGorsuch       2.0         1.0  \n",
       "4           1.0   NMGorsuch       1.0         0.0  "
      ]
     },
     "execution_count": 95,
     "metadata": {},
     "output_type": "execute_result"
    }
   ],
   "source": [
    "vote_df_gorsuch = vote_df[vote_df.justiceName=='NMGorsuch']\n",
    "text_df_gorsuch = pd.read_pickle(\"df_gorsuch.pkl\")\n",
    "merged_df_gorsuch = text_df_gorsuch.merge(vote_df_gorsuch, on='case_num')\n",
    "\n",
    "print(merged_df_gorsuch.justiceName.unique())\n",
    "print(merged_df_gorsuch.shape)\n",
    "print(merged_df_gorsuch.isna().sum())\n",
    "merged_df_gorsuch.head()"
   ]
  },
  {
   "cell_type": "code",
   "execution_count": 96,
   "metadata": {},
   "outputs": [
    {
     "name": "stdout",
     "output_type": "stream",
     "text": [
      "(154, 10)\n"
     ]
    },
    {
     "data": {
      "text/plain": [
       "1.0    92\n",
       "0.0    62\n",
       "Name: final_vote, dtype: int64"
      ]
     },
     "execution_count": 96,
     "metadata": {},
     "output_type": "execute_result"
    }
   ],
   "source": [
    "merged_df_gorsuch = merged_df_gorsuch.dropna(subset = ['final_vote'])\n",
    "print(merged_df_gorsuch.shape)\n",
    "merged_df_gorsuch.final_vote.value_counts()"
   ]
  },
  {
   "cell_type": "code",
   "execution_count": 97,
   "metadata": {},
   "outputs": [],
   "source": [
    "merged_df_gorsuch.to_pickle(\"df_merged_gorsuch.pkl\")"
   ]
  },
  {
   "cell_type": "markdown",
   "metadata": {},
   "source": [
    "#### Thomas"
   ]
  },
  {
   "cell_type": "code",
   "execution_count": 98,
   "metadata": {},
   "outputs": [
    {
     "name": "stdout",
     "output_type": "stream",
     "text": [
      "['CThomas']\n",
      "(798, 10)\n",
      "case_num        0\n",
      "pet_name        0\n",
      "res_name        0\n",
      "pet_text        0\n",
      "res_text        0\n",
      "dateArgument    1\n",
      "partyWinning    0\n",
      "justiceName     0\n",
      "majority        0\n",
      "final_vote      2\n",
      "dtype: int64\n"
     ]
    },
    {
     "data": {
      "text/html": [
       "<div>\n",
       "<style scoped>\n",
       "    .dataframe tbody tr th:only-of-type {\n",
       "        vertical-align: middle;\n",
       "    }\n",
       "\n",
       "    .dataframe tbody tr th {\n",
       "        vertical-align: top;\n",
       "    }\n",
       "\n",
       "    .dataframe thead th {\n",
       "        text-align: right;\n",
       "    }\n",
       "</style>\n",
       "<table border=\"1\" class=\"dataframe\">\n",
       "  <thead>\n",
       "    <tr style=\"text-align: right;\">\n",
       "      <th></th>\n",
       "      <th>case_num</th>\n",
       "      <th>pet_name</th>\n",
       "      <th>res_name</th>\n",
       "      <th>pet_text</th>\n",
       "      <th>res_text</th>\n",
       "      <th>dateArgument</th>\n",
       "      <th>partyWinning</th>\n",
       "      <th>justiceName</th>\n",
       "      <th>majority</th>\n",
       "      <th>final_vote</th>\n",
       "    </tr>\n",
       "  </thead>\n",
       "  <tbody>\n",
       "    <tr>\n",
       "      <th>0</th>\n",
       "      <td>15-513</td>\n",
       "      <td>SULLIVAN</td>\n",
       "      <td>SINGH</td>\n",
       "      <td></td>\n",
       "      <td></td>\n",
       "      <td>11/1/2016</td>\n",
       "      <td>0.0</td>\n",
       "      <td>CThomas</td>\n",
       "      <td>2.0</td>\n",
       "      <td>0.0</td>\n",
       "    </tr>\n",
       "    <tr>\n",
       "      <th>1</th>\n",
       "      <td>15-1191</td>\n",
       "      <td>KNEEDLER</td>\n",
       "      <td>BROOME</td>\n",
       "      <td></td>\n",
       "      <td></td>\n",
       "      <td>11/9/2016</td>\n",
       "      <td>1.0</td>\n",
       "      <td>CThomas</td>\n",
       "      <td>2.0</td>\n",
       "      <td>1.0</td>\n",
       "    </tr>\n",
       "    <tr>\n",
       "      <th>2</th>\n",
       "      <td>15-423</td>\n",
       "      <td>STETSON</td>\n",
       "      <td>CARROLL</td>\n",
       "      <td></td>\n",
       "      <td></td>\n",
       "      <td>11/2/2016</td>\n",
       "      <td>1.0</td>\n",
       "      <td>CThomas</td>\n",
       "      <td>2.0</td>\n",
       "      <td>1.0</td>\n",
       "    </tr>\n",
       "    <tr>\n",
       "      <th>3</th>\n",
       "      <td>15-866</td>\n",
       "      <td>BURSCH</td>\n",
       "      <td>JAY</td>\n",
       "      <td></td>\n",
       "      <td></td>\n",
       "      <td>10/31/2016</td>\n",
       "      <td>0.0</td>\n",
       "      <td>CThomas</td>\n",
       "      <td>2.0</td>\n",
       "      <td>0.0</td>\n",
       "    </tr>\n",
       "    <tr>\n",
       "      <th>4</th>\n",
       "      <td>15-497</td>\n",
       "      <td>BAGENSTOS</td>\n",
       "      <td>KATYAL</td>\n",
       "      <td></td>\n",
       "      <td></td>\n",
       "      <td>10/31/2016</td>\n",
       "      <td>1.0</td>\n",
       "      <td>CThomas</td>\n",
       "      <td>2.0</td>\n",
       "      <td>1.0</td>\n",
       "    </tr>\n",
       "  </tbody>\n",
       "</table>\n",
       "</div>"
      ],
      "text/plain": [
       "  case_num   pet_name res_name pet_text res_text dateArgument  partyWinning  \\\n",
       "0   15-513   SULLIVAN    SINGH                      11/1/2016           0.0   \n",
       "1  15-1191   KNEEDLER   BROOME                      11/9/2016           1.0   \n",
       "2   15-423    STETSON  CARROLL                      11/2/2016           1.0   \n",
       "3   15-866     BURSCH      JAY                     10/31/2016           0.0   \n",
       "4   15-497  BAGENSTOS   KATYAL                     10/31/2016           1.0   \n",
       "\n",
       "  justiceName  majority  final_vote  \n",
       "0     CThomas       2.0         0.0  \n",
       "1     CThomas       2.0         1.0  \n",
       "2     CThomas       2.0         1.0  \n",
       "3     CThomas       2.0         0.0  \n",
       "4     CThomas       2.0         1.0  "
      ]
     },
     "execution_count": 98,
     "metadata": {},
     "output_type": "execute_result"
    }
   ],
   "source": [
    "vote_df_thomas = vote_df[vote_df.justiceName=='CThomas']\n",
    "text_df_thomas = pd.read_pickle(\"df_thomas.pkl\")\n",
    "merged_df_thomas = text_df_thomas.merge(vote_df_thomas, on='case_num')\n",
    "\n",
    "print(merged_df_thomas.justiceName.unique())\n",
    "print(merged_df_thomas.shape)\n",
    "print(merged_df_thomas.isna().sum())\n",
    "merged_df_thomas.head()"
   ]
  },
  {
   "cell_type": "code",
   "execution_count": 99,
   "metadata": {},
   "outputs": [
    {
     "name": "stdout",
     "output_type": "stream",
     "text": [
      "(796, 10)\n"
     ]
    },
    {
     "data": {
      "text/plain": [
       "1.0    462\n",
       "0.0    334\n",
       "Name: final_vote, dtype: int64"
      ]
     },
     "execution_count": 99,
     "metadata": {},
     "output_type": "execute_result"
    }
   ],
   "source": [
    "merged_df_thomas = merged_df_thomas.dropna(subset = ['final_vote'])\n",
    "print(merged_df_thomas.shape)\n",
    "merged_df_thomas.final_vote.value_counts()"
   ]
  },
  {
   "cell_type": "code",
   "execution_count": 100,
   "metadata": {},
   "outputs": [],
   "source": [
    "merged_df_thomas.to_pickle(\"df_merged_thomas.pkl\")"
   ]
  },
  {
   "cell_type": "markdown",
   "metadata": {},
   "source": [
    "#### Kagan"
   ]
  },
  {
   "cell_type": "code",
   "execution_count": 101,
   "metadata": {},
   "outputs": [
    {
     "name": "stdout",
     "output_type": "stream",
     "text": [
      "['EKagan']\n",
      "(488, 10)\n",
      "case_num        0\n",
      "pet_name        0\n",
      "res_name        0\n",
      "pet_text        0\n",
      "res_text        0\n",
      "dateArgument    0\n",
      "partyWinning    0\n",
      "justiceName     0\n",
      "majority        0\n",
      "final_vote      2\n",
      "dtype: int64\n"
     ]
    },
    {
     "data": {
      "text/html": [
       "<div>\n",
       "<style scoped>\n",
       "    .dataframe tbody tr th:only-of-type {\n",
       "        vertical-align: middle;\n",
       "    }\n",
       "\n",
       "    .dataframe tbody tr th {\n",
       "        vertical-align: top;\n",
       "    }\n",
       "\n",
       "    .dataframe thead th {\n",
       "        text-align: right;\n",
       "    }\n",
       "</style>\n",
       "<table border=\"1\" class=\"dataframe\">\n",
       "  <thead>\n",
       "    <tr style=\"text-align: right;\">\n",
       "      <th></th>\n",
       "      <th>case_num</th>\n",
       "      <th>pet_name</th>\n",
       "      <th>res_name</th>\n",
       "      <th>pet_text</th>\n",
       "      <th>res_text</th>\n",
       "      <th>dateArgument</th>\n",
       "      <th>partyWinning</th>\n",
       "      <th>justiceName</th>\n",
       "      <th>majority</th>\n",
       "      <th>final_vote</th>\n",
       "    </tr>\n",
       "  </thead>\n",
       "  <tbody>\n",
       "    <tr>\n",
       "      <th>0</th>\n",
       "      <td>15-513</td>\n",
       "      <td>SULLIVAN</td>\n",
       "      <td>SINGH</td>\n",
       "      <td>i  please sorry    no please    you mentioned...</td>\n",
       "      <td>do you think deference ought  to be given to ...</td>\n",
       "      <td>11/1/2016</td>\n",
       "      <td>0.0</td>\n",
       "      <td>EKagan</td>\n",
       "      <td>2.0</td>\n",
       "      <td>0.0</td>\n",
       "    </tr>\n",
       "    <tr>\n",
       "      <th>1</th>\n",
       "      <td>15-1191</td>\n",
       "      <td>KNEEDLER</td>\n",
       "      <td>BROOME</td>\n",
       "      <td>but why do we look    kneedler to the moment ...</td>\n",
       "      <td>i mean the problem isnt  it  broome that the ...</td>\n",
       "      <td>11/9/2016</td>\n",
       "      <td>1.0</td>\n",
       "      <td>EKagan</td>\n",
       "      <td>2.0</td>\n",
       "      <td>1.0</td>\n",
       "    </tr>\n",
       "    <tr>\n",
       "      <th>2</th>\n",
       "      <td>15-423</td>\n",
       "      <td>STETSON</td>\n",
       "      <td>CARROLL</td>\n",
       "      <td>well the section  i mean  the question here i...</td>\n",
       "      <td>and you say that for the  commercial nexus ri...</td>\n",
       "      <td>11/2/2016</td>\n",
       "      <td>1.0</td>\n",
       "      <td>EKagan</td>\n",
       "      <td>2.0</td>\n",
       "      <td>1.0</td>\n",
       "    </tr>\n",
       "    <tr>\n",
       "      <th>3</th>\n",
       "      <td>15-866</td>\n",
       "      <td>BURSCH</td>\n",
       "      <td>JAY</td>\n",
       "      <td>how is your argument  different from this tux...</td>\n",
       "      <td>jay see     jay can i    and isnt it  just  ...</td>\n",
       "      <td>10/31/2016</td>\n",
       "      <td>0.0</td>\n",
       "      <td>EKagan</td>\n",
       "      <td>2.0</td>\n",
       "      <td>0.0</td>\n",
       "    </tr>\n",
       "    <tr>\n",
       "      <th>4</th>\n",
       "      <td>15-497</td>\n",
       "      <td>BAGENSTOS</td>\n",
       "      <td>KATYAL</td>\n",
       "      <td>could  could i ask about  that  bagenstos    ...</td>\n",
       "      <td>but the declaration was that  the ada had bee...</td>\n",
       "      <td>10/31/2016</td>\n",
       "      <td>1.0</td>\n",
       "      <td>EKagan</td>\n",
       "      <td>2.0</td>\n",
       "      <td>1.0</td>\n",
       "    </tr>\n",
       "  </tbody>\n",
       "</table>\n",
       "</div>"
      ],
      "text/plain": [
       "  case_num   pet_name res_name  \\\n",
       "0   15-513   SULLIVAN    SINGH   \n",
       "1  15-1191   KNEEDLER   BROOME   \n",
       "2   15-423    STETSON  CARROLL   \n",
       "3   15-866     BURSCH      JAY   \n",
       "4   15-497  BAGENSTOS   KATYAL   \n",
       "\n",
       "                                            pet_text  \\\n",
       "0   i  please sorry    no please    you mentioned...   \n",
       "1   but why do we look    kneedler to the moment ...   \n",
       "2   well the section  i mean  the question here i...   \n",
       "3   how is your argument  different from this tux...   \n",
       "4   could  could i ask about  that  bagenstos    ...   \n",
       "\n",
       "                                            res_text dateArgument  \\\n",
       "0   do you think deference ought  to be given to ...    11/1/2016   \n",
       "1   i mean the problem isnt  it  broome that the ...    11/9/2016   \n",
       "2   and you say that for the  commercial nexus ri...    11/2/2016   \n",
       "3    jay see     jay can i    and isnt it  just  ...   10/31/2016   \n",
       "4   but the declaration was that  the ada had bee...   10/31/2016   \n",
       "\n",
       "   partyWinning justiceName  majority  final_vote  \n",
       "0           0.0      EKagan       2.0         0.0  \n",
       "1           1.0      EKagan       2.0         1.0  \n",
       "2           1.0      EKagan       2.0         1.0  \n",
       "3           0.0      EKagan       2.0         0.0  \n",
       "4           1.0      EKagan       2.0         1.0  "
      ]
     },
     "execution_count": 101,
     "metadata": {},
     "output_type": "execute_result"
    }
   ],
   "source": [
    "vote_df_kagan = vote_df[vote_df.justiceName=='EKagan']\n",
    "text_df_kagan = pd.read_pickle(\"df_kagan.pkl\")\n",
    "merged_df_kagan = text_df_kagan.merge(vote_df_kagan, on='case_num')\n",
    "\n",
    "print(merged_df_kagan.justiceName.unique())\n",
    "print(merged_df_kagan.shape)\n",
    "print(merged_df_kagan.isna().sum())\n",
    "merged_df_kagan.head()"
   ]
  },
  {
   "cell_type": "code",
   "execution_count": 102,
   "metadata": {},
   "outputs": [
    {
     "name": "stdout",
     "output_type": "stream",
     "text": [
      "(486, 10)\n"
     ]
    },
    {
     "data": {
      "text/plain": [
       "1.0    303\n",
       "0.0    183\n",
       "Name: final_vote, dtype: int64"
      ]
     },
     "execution_count": 102,
     "metadata": {},
     "output_type": "execute_result"
    }
   ],
   "source": [
    "merged_df_kagan = merged_df_kagan.dropna(subset = ['final_vote'])\n",
    "print(merged_df_kagan.shape)\n",
    "merged_df_kagan.final_vote.value_counts()"
   ]
  },
  {
   "cell_type": "code",
   "execution_count": 103,
   "metadata": {},
   "outputs": [],
   "source": [
    "merged_df_kagan.to_pickle(\"df_merged_kagan.pkl\")"
   ]
  },
  {
   "cell_type": "code",
   "execution_count": null,
   "metadata": {},
   "outputs": [],
   "source": []
  },
  {
   "cell_type": "code",
   "execution_count": null,
   "metadata": {},
   "outputs": [],
   "source": []
  },
  {
   "cell_type": "code",
   "execution_count": null,
   "metadata": {},
   "outputs": [],
   "source": []
  }
 ],
 "metadata": {
  "kernelspec": {
   "display_name": "Python 3",
   "language": "python",
   "name": "python3"
  },
  "language_info": {
   "codemirror_mode": {
    "name": "ipython",
    "version": 3
   },
   "file_extension": ".py",
   "mimetype": "text/x-python",
   "name": "python",
   "nbconvert_exporter": "python",
   "pygments_lexer": "ipython3",
   "version": "3.7.7"
  }
 },
 "nbformat": 4,
 "nbformat_minor": 4
}
