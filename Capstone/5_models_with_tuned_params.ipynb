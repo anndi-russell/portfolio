{
 "cells": [
  {
   "cell_type": "markdown",
   "metadata": {},
   "source": [
    "# Step 5: Build final models with tuned hyperparameters\n",
    "Anndi Russell: Capstone\n",
    "\n",
    "\n",
    "The purpose of this program is to build a final classifier model for each of the 8 justices. The hyperparemeters were tuned in the step 4 notebook. These are the final models."
   ]
  },
  {
   "cell_type": "code",
   "execution_count": 95,
   "metadata": {},
   "outputs": [],
   "source": [
    "import pandas as pd\n",
    "import numpy as np\n",
    "import matplotlib.pyplot as plt\n",
    "import seaborn as sns\n",
    "\n",
    "#classifiers\n",
    "from sklearn.neighbors import KNeighborsClassifier\n",
    "from sklearn.svm import SVC\n",
    "from sklearn.linear_model import SGDClassifier\n",
    "from sklearn.linear_model import LogisticRegression\n",
    "\n",
    "#other sklearn tools\n",
    "from sklearn.metrics import plot_confusion_matrix\n",
    "from sklearn.pipeline import Pipeline\n",
    "from sklearn.model_selection import GridSearchCV\n",
    "from sklearn.model_selection import train_test_split\n",
    "from sklearn.metrics import confusion_matrix\n",
    "from sklearn.metrics import precision_score\n",
    "from sklearn.metrics import recall_score\n",
    "from sklearn.metrics import precision_recall_fscore_support\n",
    "\n",
    "#NLP tools\n",
    "from nltk.corpus import stopwords\n",
    "from nltk.stem.porter import PorterStemmer\n",
    "from sklearn.feature_extraction.text import TfidfVectorizer"
   ]
  },
  {
   "cell_type": "code",
   "execution_count": 96,
   "metadata": {},
   "outputs": [
    {
     "name": "stderr",
     "output_type": "stream",
     "text": [
      "[nltk_data] Downloading package stopwords to\n",
      "[nltk_data]     /Users/anndi.russell/nltk_data...\n",
      "[nltk_data]   Package stopwords is already up-to-date!\n"
     ]
    }
   ],
   "source": [
    "def tokenizerporter(text):\n",
    "    return [porter.stem(word) for word in text.split()]\n",
    "def tokenizer(text):\n",
    "    return text.split()\n",
    "nltk.download('stopwords')\n",
    "stop = stopwords.words('english')\n",
    "porter = PorterStemmer()"
   ]
  },
  {
   "cell_type": "markdown",
   "metadata": {},
   "source": [
    "# Breyer\n",
    "\n",
    "Best parameter set:<br>\n",
    "\n",
    "- 'clf__alpha': 0.0001<br>\n",
    "- 'clf__n_iter_no_change': 7<br>\n",
    "- 'clf__penalty': 'l2'<br>\n",
    "- 'vect__ngram_range': (1, 2)<br>\n",
    "- 'vect__stop_words': None<br>\n",
    "- 'vect__tokenizer': tokenizer<br>\n",
    "- 'vect__use_idf': False <br>\n",
    "<Br>\n",
    "CV Accuracy: 0.711<br>\n",
    "Test Accuracy: 0.714<br>"
   ]
  },
  {
   "cell_type": "markdown",
   "metadata": {},
   "source": [
    "Model will be fit with petitioner text, then with respondent text so accuracies can be compared."
   ]
  },
  {
   "cell_type": "markdown",
   "metadata": {},
   "source": [
    "##### petitioner"
   ]
  },
  {
   "cell_type": "code",
   "execution_count": 97,
   "metadata": {},
   "outputs": [
    {
     "name": "stdout",
     "output_type": "stream",
     "text": [
      "Ratio\n",
      "0.6169811320754717\n",
      "\n",
      "SGD\n",
      "[[ 43  25]\n",
      " [ 58 136]]\n"
     ]
    },
    {
     "data": {
      "image/png": "[encoded data removed]",
      "text/plain": [
       "<Figure size 432x288 with 2 Axes>"
      ]
     },
     "metadata": {
      "needs_background": "light"
     },
     "output_type": "display_data"
    },
    {
     "name": "stdout",
     "output_type": "stream",
     "text": [
      "Train score: 0.9679245283018868\n",
      "Test score: 0.683206106870229\n",
      "Precision: 0.7010309278350515\n",
      "Recall: 0.84472049689441\n"
     ]
    }
   ],
   "source": [
    "breyer_df = pd.read_pickle(\"df_merged_breyer.pkl\")\n",
    "breyer_df=breyer_df.reset_index()\n",
    "\n",
    "X=np.array(breyer_df.pet_text)\n",
    "y=np.array(breyer_df.final_vote)\n",
    "X_train, X_test, y_train, y_test = train_test_split(X, y, test_size=0.33,stratify=y,random_state=42)\n",
    "\n",
    "vect = TfidfVectorizer(tokenizer=tokenizer, use_idf=False, ngram_range=(1,2), stop_words=None)\n",
    "X_train = vect.fit_transform(X_train)\n",
    "X_test = vect.transform(X_test)\n",
    "    \n",
    "print(\"Ratio\")\n",
    "print(np.bincount(y_train.astype(int))[1]/len(y_train))\n",
    "print()\n",
    "    \n",
    "print(\"SGD\")\n",
    "clf = SGDClassifier(loss='log', random_state=1, penalty='l2', alpha=0.0001, n_iter_no_change=7)\n",
    "clf.fit(X_train, y_train)\n",
    "y_pred = clf.predict(X_test)\n",
    "print(confusion_matrix(y_pred,y_test))\n",
    "plot_confusion_matrix(clf, X_test, y_test,cmap=plt.cm.Blues)  \n",
    "plt.show()\n",
    "\n",
    "print(f'Train score: {clf.score(X_train, y_train)}')\n",
    "print(f'Test score: {clf.score(X_test, y_test)}')\n",
    "print(f'Precision: {precision_score(y_test, y_pred)}')\n",
    "print(f'Recall: {recall_score(y_test, y_pred)}')"
   ]
  },
  {
   "cell_type": "markdown",
   "metadata": {},
   "source": [
    "##### respondent"
   ]
  },
  {
   "cell_type": "code",
   "execution_count": 98,
   "metadata": {},
   "outputs": [
    {
     "name": "stdout",
     "output_type": "stream",
     "text": [
      "Ratio\n",
      "0.6169811320754717\n",
      "\n",
      "SGD\n",
      "[[ 26  21]\n",
      " [ 75 140]]\n"
     ]
    },
    {
     "data": {
      "image/png": "[encoded data removed]",
      "text/plain": [
       "<Figure size 432x288 with 2 Axes>"
      ]
     },
     "metadata": {
      "needs_background": "light"
     },
     "output_type": "display_data"
    },
    {
     "name": "stdout",
     "output_type": "stream",
     "text": [
      "Train score: 0.9528301886792453\n",
      "Test score: 0.6335877862595419\n",
      "Precision: 0.6511627906976745\n",
      "Recall: 0.8695652173913043\n"
     ]
    }
   ],
   "source": [
    "breyer_df = pd.read_pickle(\"df_merged_breyer.pkl\")\n",
    "breyer_df=breyer_df.reset_index()\n",
    "\n",
    "X=np.array(breyer_df.res_text)\n",
    "y=np.array(breyer_df.final_vote)\n",
    "X_train, X_test, y_train, y_test = train_test_split(X, y, test_size=0.33,stratify=y,random_state=42)\n",
    "\n",
    "vect = TfidfVectorizer(tokenizer=tokenizer, use_idf=False, ngram_range=(1,2), stop_words=None)\n",
    "X_train = vect.fit_transform(X_train)\n",
    "X_test = vect.transform(X_test)\n",
    "    \n",
    "print(\"Ratio\")\n",
    "print(np.bincount(y_train.astype(int))[1]/len(y_train))\n",
    "print()\n",
    "    \n",
    "print(\"SGD\")\n",
    "clf = SGDClassifier(loss='log', random_state=1, penalty='l2', alpha=0.0001, n_iter_no_change=7)\n",
    "clf.fit(X_train, y_train)\n",
    "y_pred = clf.predict(X_test)\n",
    "print(confusion_matrix(y_pred,y_test))\n",
    "plot_confusion_matrix(clf, X_test, y_test,cmap=plt.cm.Blues)  \n",
    "plt.show()\n",
    "\n",
    "print(f'Train score: {clf.score(X_train, y_train)}')\n",
    "print(f'Test score: {clf.score(X_test, y_test)}')\n",
    "print(f'Precision: {precision_score(y_test, y_pred)}')\n",
    "print(f'Recall: {recall_score(y_test, y_pred)}')"
   ]
  },
  {
   "cell_type": "markdown",
   "metadata": {},
   "source": [
    "# Gorsuch\n",
    "\n",
    "Best parameter set:<br>\n",
    "\n",
    "- 'clf__alpha': 0.001<br>\n",
    "- 'clf__n_iter_no_change': 3<br>\n",
    "- 'clf__penalty': 'l1'<br>\n",
    "- 'vect__ngram_range': (1, 2)<br>\n",
    "- 'vect__stop_words': stop<br>\n",
    "- 'vect__tokenizer': tokenizer<br>\n",
    "- 'vect__use_idf': False <br>\n",
    "<br>\n",
    "CV Accuracy: 0.699<br>\n",
    "Test Accuracy: 0.627<br>"
   ]
  },
  {
   "cell_type": "markdown",
   "metadata": {},
   "source": [
    "##### petitioner"
   ]
  },
  {
   "cell_type": "code",
   "execution_count": 99,
   "metadata": {},
   "outputs": [
    {
     "name": "stdout",
     "output_type": "stream",
     "text": [
      "Ratio\n",
      "0.6019417475728155\n",
      "\n",
      "SGD\n",
      "[[15 13]\n",
      " [ 6 17]]\n"
     ]
    },
    {
     "data": {
      "image/png": "[encoded data removed]",
      "text/plain": [
       "<Figure size 432x288 with 2 Axes>"
      ]
     },
     "metadata": {
      "needs_background": "light"
     },
     "output_type": "display_data"
    },
    {
     "name": "stdout",
     "output_type": "stream",
     "text": [
      "Train score: 0.8640776699029126\n",
      "Test score: 0.6274509803921569\n",
      "Precision: 0.7391304347826086\n",
      "Recall: 0.5666666666666667\n"
     ]
    }
   ],
   "source": [
    "gorsuch_df = pd.read_pickle(\"df_merged_gorsuch.pkl\")\n",
    "gorsuch_df = gorsuch_df.reset_index()\n",
    "\n",
    "X=np.array(gorsuch_df.pet_text)\n",
    "y=np.array(gorsuch_df.final_vote)\n",
    "X_train, X_test, y_train, y_test = train_test_split(X, y, test_size=0.33,stratify=y,random_state=42)\n",
    "\n",
    "vect = TfidfVectorizer(tokenizer=tokenizer, use_idf=False, ngram_range=(1,2), stop_words=stop)\n",
    "X_train = vect.fit_transform(X_train)\n",
    "X_test = vect.transform(X_test)\n",
    "    \n",
    "print(\"Ratio\")\n",
    "print(np.bincount(y_train.astype(int))[1]/len(y_train))\n",
    "print()\n",
    "    \n",
    "print(\"SGD\")\n",
    "clf = SGDClassifier(loss='log', random_state=1, penalty='l1', alpha=0.001, n_iter_no_change=3)\n",
    "clf.fit(X_train, y_train)\n",
    "y_pred = clf.predict(X_test)\n",
    "print(confusion_matrix(y_pred,y_test))\n",
    "plot_confusion_matrix(clf, X_test, y_test,cmap=plt.cm.Blues)  \n",
    "plt.show()\n",
    "\n",
    "print(f'Train score: {clf.score(X_train, y_train)}')\n",
    "print(f'Test score: {clf.score(X_test, y_test)}')\n",
    "print(f'Precision: {precision_score(y_test, y_pred)}')\n",
    "print(f'Recall: {recall_score(y_test, y_pred)}')"
   ]
  },
  {
   "cell_type": "markdown",
   "metadata": {},
   "source": [
    "##### respondent"
   ]
  },
  {
   "cell_type": "code",
   "execution_count": 100,
   "metadata": {},
   "outputs": [
    {
     "name": "stdout",
     "output_type": "stream",
     "text": [
      "Ratio\n",
      "0.6019417475728155\n",
      "\n",
      "SGD\n",
      "[[11  6]\n",
      " [10 24]]\n"
     ]
    },
    {
     "data": {
      "image/png": "[encoded data removed]",
      "text/plain": [
       "<Figure size 432x288 with 2 Axes>"
      ]
     },
     "metadata": {
      "needs_background": "light"
     },
     "output_type": "display_data"
    },
    {
     "name": "stdout",
     "output_type": "stream",
     "text": [
      "Train score: 0.8349514563106796\n",
      "Test score: 0.6862745098039216\n",
      "Precision: 0.7058823529411765\n",
      "Recall: 0.8\n"
     ]
    }
   ],
   "source": [
    "gorsuch_df = pd.read_pickle(\"df_merged_gorsuch.pkl\")\n",
    "gorsuch_df = gorsuch_df.reset_index()\n",
    "\n",
    "X=np.array(gorsuch_df.res_text)\n",
    "y=np.array(gorsuch_df.final_vote)\n",
    "X_train, X_test, y_train, y_test = train_test_split(X, y, test_size=0.33,stratify=y,random_state=42)\n",
    "\n",
    "vect = TfidfVectorizer(tokenizer=tokenizer, use_idf=False, ngram_range=(1,2), stop_words=stop)\n",
    "X_train = vect.fit_transform(X_train)\n",
    "X_test = vect.transform(X_test)\n",
    "    \n",
    "print(\"Ratio\")\n",
    "print(np.bincount(y_train.astype(int))[1]/len(y_train))\n",
    "print()\n",
    "    \n",
    "print(\"SGD\")\n",
    "clf = SGDClassifier(loss='log', random_state=1, penalty='l1', alpha=0.001, n_iter_no_change=3)\n",
    "clf.fit(X_train, y_train)\n",
    "y_pred = clf.predict(X_test)\n",
    "print(confusion_matrix(y_pred,y_test))\n",
    "plot_confusion_matrix(clf, X_test, y_test,cmap=plt.cm.Blues)  \n",
    "plt.show()\n",
    "\n",
    "print(f'Train score: {clf.score(X_train, y_train)}')\n",
    "print(f'Test score: {clf.score(X_test, y_test)}')\n",
    "print(f'Precision: {precision_score(y_test, y_pred)}')\n",
    "print(f'Recall: {recall_score(y_test, y_pred)}')"
   ]
  },
  {
   "cell_type": "markdown",
   "metadata": {},
   "source": [
    "# Alito\n",
    "\n",
    "\n",
    "Best parameter set:<br>\n",
    "\n",
    "- 'clf__alpha': 0.001<br>\n",
    "- 'clf__n_iter_no_change': 9<br>\n",
    "- 'clf__penalty': 'l2'<br>\n",
    "- 'vect__ngram_range': (1, 2)<br>\n",
    "- 'vect__stop_words': stop<br>\n",
    "- 'vect__tokenizer': tokenizer<br>\n",
    "- 'vect__use_idf': True <br>\n",
    "<br>\n",
    "CV Accuracy: 0.674<br>\n",
    "Test Accuracy: 0.680"
   ]
  },
  {
   "cell_type": "markdown",
   "metadata": {},
   "source": [
    "##### petitioner"
   ]
  },
  {
   "cell_type": "code",
   "execution_count": 101,
   "metadata": {},
   "outputs": [
    {
     "name": "stdout",
     "output_type": "stream",
     "text": [
      "Ratio\n",
      "0.6052631578947368\n",
      "\n",
      "SGD\n",
      "[[ 24   5]\n",
      " [ 73 142]]\n"
     ]
    },
    {
     "data": {
      "image/png": "[encoded data removed]",
      "text/plain": [
       "<Figure size 432x288 with 2 Axes>"
      ]
     },
     "metadata": {
      "needs_background": "light"
     },
     "output_type": "display_data"
    },
    {
     "name": "stdout",
     "output_type": "stream",
     "text": [
      "Train score: 0.9534412955465587\n",
      "Test score: 0.680327868852459\n",
      "Precision: 0.6604651162790698\n",
      "Recall: 0.9659863945578231\n"
     ]
    }
   ],
   "source": [
    "alito_df = pd.read_pickle(\"df_merged_alito.pkl\")\n",
    "alito_df = alito_df.reset_index()\n",
    "\n",
    "X=np.array(alito_df.pet_text)\n",
    "y=np.array(alito_df.final_vote)\n",
    "X_train, X_test, y_train, y_test = train_test_split(X, y, test_size=0.33,stratify=y,random_state=42)\n",
    "\n",
    "vect = TfidfVectorizer(tokenizer=tokenizer, use_idf=True, ngram_range=(1,2), stop_words=stop)\n",
    "X_train = vect.fit_transform(X_train)\n",
    "X_test = vect.transform(X_test)\n",
    "    \n",
    "print(\"Ratio\")\n",
    "print(np.bincount(y_train.astype(int))[1]/len(y_train))\n",
    "print()\n",
    "    \n",
    "print(\"SGD\")\n",
    "clf = SGDClassifier(loss='log', random_state=1, penalty='l2', alpha=0.001, n_iter_no_change=9)\n",
    "clf.fit(X_train, y_train)\n",
    "y_pred = clf.predict(X_test)\n",
    "print(confusion_matrix(y_pred,y_test))\n",
    "plot_confusion_matrix(clf, X_test, y_test,cmap=plt.cm.Blues)  \n",
    "plt.show()\n",
    "\n",
    "print(f'Train score: {clf.score(X_train, y_train)}')\n",
    "print(f'Test score: {clf.score(X_test, y_test)}')\n",
    "print(f'Precision: {precision_score(y_test, y_pred)}')\n",
    "print(f'Recall: {recall_score(y_test, y_pred)}')"
   ]
  },
  {
   "cell_type": "markdown",
   "metadata": {},
   "source": [
    "##### respondent"
   ]
  },
  {
   "cell_type": "code",
   "execution_count": 102,
   "metadata": {},
   "outputs": [
    {
     "name": "stdout",
     "output_type": "stream",
     "text": [
      "Ratio\n",
      "0.6052631578947368\n",
      "\n",
      "SGD\n",
      "[[  0   1]\n",
      " [ 97 146]]\n"
     ]
    },
    {
     "data": {
      "image/png": "[encoded data removed]",
      "text/plain": [
       "<Figure size 432x288 with 2 Axes>"
      ]
     },
     "metadata": {
      "needs_background": "light"
     },
     "output_type": "display_data"
    },
    {
     "name": "stdout",
     "output_type": "stream",
     "text": [
      "Train score: 0.8603238866396761\n",
      "Test score: 0.5983606557377049\n",
      "Precision: 0.6008230452674898\n",
      "Recall: 0.9931972789115646\n"
     ]
    }
   ],
   "source": [
    "alito_df = pd.read_pickle(\"df_merged_alito.pkl\")\n",
    "alito_df = alito_df.reset_index()\n",
    "\n",
    "X=np.array(alito_df.res_text)\n",
    "y=np.array(alito_df.final_vote)\n",
    "X_train, X_test, y_train, y_test = train_test_split(X, y, test_size=0.33,stratify=y,random_state=42)\n",
    "\n",
    "vect = TfidfVectorizer(tokenizer=tokenizer, use_idf=True, ngram_range=(1,2), stop_words=stop)\n",
    "X_train = vect.fit_transform(X_train)\n",
    "X_test = vect.transform(X_test)\n",
    "    \n",
    "print(\"Ratio\")\n",
    "print(np.bincount(y_train.astype(int))[1]/len(y_train))\n",
    "print()\n",
    "    \n",
    "print(\"SGD\")\n",
    "clf = SGDClassifier(loss='log', random_state=1, penalty='l2', alpha=0.001, n_iter_no_change=9)\n",
    "clf.fit(X_train, y_train)\n",
    "y_pred = clf.predict(X_test)\n",
    "print(confusion_matrix(y_pred,y_test))\n",
    "plot_confusion_matrix(clf, X_test, y_test,cmap=plt.cm.Blues)  \n",
    "plt.show()\n",
    "\n",
    "print(f'Train score: {clf.score(X_train, y_train)}')\n",
    "print(f'Test score: {clf.score(X_test, y_test)}')\n",
    "print(f'Precision: {precision_score(y_test, y_pred)}')\n",
    "print(f'Recall: {recall_score(y_test, y_pred)}')"
   ]
  },
  {
   "cell_type": "markdown",
   "metadata": {},
   "source": [
    "# Thomas\n",
    "\n",
    "Best parameter set:<br>\n",
    "\n",
    "- 'clf__alpha': 0.001<br>\n",
    "- 'clf__n_iter_no_change': 3<br>\n",
    "- 'clf__penalty': 'l1'<br>\n",
    "- 'vect__ngram_range': (1, 1)<br>\n",
    "- 'vect__stop_words': None<br>\n",
    "- 'vect__tokenizer': tokenizerporter<br>\n",
    "- 'vect__use_idf': False <br>\n",
    "<br>\n",
    "CV Accuracy: 0.595<br>\n",
    "Test Accuracy: 0.586"
   ]
  },
  {
   "cell_type": "markdown",
   "metadata": {},
   "source": [
    "##### petitioner"
   ]
  },
  {
   "cell_type": "code",
   "execution_count": 103,
   "metadata": {},
   "outputs": [
    {
     "name": "stdout",
     "output_type": "stream",
     "text": [
      "Ratio\n",
      "0.5797373358348968\n",
      "\n",
      "SGD\n",
      "[[  4   3]\n",
      " [106 150]]\n"
     ]
    },
    {
     "data": {
      "image/png": "[encoded data removed]",
      "text/plain": [
       "<Figure size 432x288 with 2 Axes>"
      ]
     },
     "metadata": {
      "needs_background": "light"
     },
     "output_type": "display_data"
    },
    {
     "name": "stdout",
     "output_type": "stream",
     "text": [
      "Train score: 0.5928705440900562\n",
      "Test score: 0.5855513307984791\n",
      "Precision: 0.5859375\n",
      "Recall: 0.9803921568627451\n"
     ]
    }
   ],
   "source": [
    "thomas_df = pd.read_pickle(\"df_merged_thomas.pkl\")\n",
    "thomas_df = thomas_df.reset_index()\n",
    "\n",
    "X=np.array(thomas_df.pet_text)\n",
    "y=np.array(thomas_df.final_vote)\n",
    "X_train, X_test, y_train, y_test = train_test_split(X, y, test_size=0.33,stratify=y,random_state=42)\n",
    "\n",
    "vect = TfidfVectorizer(tokenizer=tokenizerporter, use_idf=False, ngram_range=(1,1), stop_words=None)\n",
    "X_train = vect.fit_transform(X_train)\n",
    "X_test = vect.transform(X_test)\n",
    "    \n",
    "print(\"Ratio\")\n",
    "print(np.bincount(y_train.astype(int))[1]/len(y_train))\n",
    "print()\n",
    "    \n",
    "print(\"SGD\")\n",
    "clf = SGDClassifier(loss='log', random_state=1, penalty='l1', alpha=0.001, n_iter_no_change=3)\n",
    "clf.fit(X_train, y_train)\n",
    "y_pred = clf.predict(X_test)\n",
    "print(confusion_matrix(y_pred,y_test))\n",
    "plot_confusion_matrix(clf, X_test, y_test,cmap=plt.cm.Blues)  \n",
    "plt.show()\n",
    "\n",
    "print(f'Train score: {clf.score(X_train, y_train)}')\n",
    "print(f'Test score: {clf.score(X_test, y_test)}')\n",
    "print(f'Precision: {precision_score(y_test, y_pred)}')\n",
    "print(f'Recall: {recall_score(y_test, y_pred)}')"
   ]
  },
  {
   "cell_type": "markdown",
   "metadata": {},
   "source": [
    "##### respondent"
   ]
  },
  {
   "cell_type": "code",
   "execution_count": 104,
   "metadata": {},
   "outputs": [
    {
     "name": "stdout",
     "output_type": "stream",
     "text": [
      "Ratio\n",
      "0.5797373358348968\n",
      "\n",
      "SGD\n",
      "[[  0   0]\n",
      " [110 153]]\n"
     ]
    },
    {
     "data": {
      "image/png": "[encoded data removed]",
      "text/plain": [
       "<Figure size 432x288 with 2 Axes>"
      ]
     },
     "metadata": {
      "needs_background": "light"
     },
     "output_type": "display_data"
    },
    {
     "name": "stdout",
     "output_type": "stream",
     "text": [
      "Train score: 0.5797373358348968\n",
      "Test score: 0.5817490494296578\n",
      "Precision: 0.5817490494296578\n",
      "Recall: 1.0\n"
     ]
    }
   ],
   "source": [
    "thomas_df = pd.read_pickle(\"df_merged_thomas.pkl\")\n",
    "thomas_df = thomas_df.reset_index()\n",
    "\n",
    "X=np.array(thomas_df.res_text)\n",
    "y=np.array(thomas_df.final_vote)\n",
    "X_train, X_test, y_train, y_test = train_test_split(X, y, test_size=0.33,stratify=y,random_state=42)\n",
    "\n",
    "vect = TfidfVectorizer(tokenizer=tokenizerporter, use_idf=False, ngram_range=(1,1), stop_words=None)\n",
    "X_train = vect.fit_transform(X_train)\n",
    "X_test = vect.transform(X_test)\n",
    "    \n",
    "print(\"Ratio\")\n",
    "print(np.bincount(y_train.astype(int))[1]/len(y_train))\n",
    "print()\n",
    "    \n",
    "print(\"SGD\")\n",
    "clf = SGDClassifier(loss='log', random_state=1, penalty='l1', alpha=0.001, n_iter_no_change=3)\n",
    "clf.fit(X_train, y_train)\n",
    "y_pred = clf.predict(X_test)\n",
    "print(confusion_matrix(y_pred,y_test))\n",
    "plot_confusion_matrix(clf, X_test, y_test,cmap=plt.cm.Blues)  \n",
    "plt.show()\n",
    "\n",
    "print(f'Train score: {clf.score(X_train, y_train)}')\n",
    "print(f'Test score: {clf.score(X_test, y_test)}')\n",
    "print(f'Precision: {precision_score(y_test, y_pred)}')\n",
    "print(f'Recall: {recall_score(y_test, y_pred)}')"
   ]
  },
  {
   "cell_type": "markdown",
   "metadata": {},
   "source": [
    "# Kavanaugh\n",
    "\n",
    "Best parameter set:<br>\n",
    "\n",
    "- 'clf__alpha': 0.001<br>\n",
    "- 'clf__n_iter_no_change': 5<br>\n",
    "- 'clf__penalty': 'l1'<br>\n",
    "- 'vect__ngram_range': (1, 2)<br>\n",
    "- 'vect__stop_words': None<br>\n",
    "- 'vect__tokenizer': tokenizer<br>\n",
    "- 'vect__use_idf': True <br>\n",
    "<br>\n",
    "CV Accuracy: 0.654<br>\n",
    "Test Accuracy: 0.613"
   ]
  },
  {
   "cell_type": "markdown",
   "metadata": {},
   "source": [
    "##### petitioner"
   ]
  },
  {
   "cell_type": "code",
   "execution_count": 105,
   "metadata": {},
   "outputs": [
    {
     "name": "stdout",
     "output_type": "stream",
     "text": [
      "Ratio\n",
      "0.5901639344262295\n",
      "\n",
      "SGD\n",
      "[[ 7  6]\n",
      " [ 6 12]]\n"
     ]
    },
    {
     "data": {
      "image/png": "[encoded data removed]",
      "text/plain": [
       "<Figure size 432x288 with 2 Axes>"
      ]
     },
     "metadata": {
      "needs_background": "light"
     },
     "output_type": "display_data"
    },
    {
     "name": "stdout",
     "output_type": "stream",
     "text": [
      "Train score: 0.8688524590163934\n",
      "Test score: 0.6129032258064516\n",
      "Precision: 0.6666666666666666\n",
      "Recall: 0.6666666666666666\n"
     ]
    }
   ],
   "source": [
    "kavanaugh_df = pd.read_pickle(\"df_merged_kavanaugh.pkl\")\n",
    "kavanaugh_df = kavanaugh_df.reset_index()\n",
    "\n",
    "X=np.array(kavanaugh_df.pet_text)\n",
    "y=np.array(kavanaugh_df.final_vote)\n",
    "X_train, X_test, y_train, y_test = train_test_split(X, y, test_size=0.33,stratify=y,random_state=42)\n",
    "\n",
    "vect = TfidfVectorizer(tokenizer=tokenizer, use_idf=True, ngram_range=(1,2), stop_words=None)\n",
    "X_train = vect.fit_transform(X_train)\n",
    "X_test = vect.transform(X_test)\n",
    "    \n",
    "print(\"Ratio\")\n",
    "print(np.bincount(y_train.astype(int))[1]/len(y_train))\n",
    "print()\n",
    "    \n",
    "print(\"SGD\")\n",
    "clf = SGDClassifier(loss='log', random_state=1, penalty='l1', alpha=0.001, n_iter_no_change=5)\n",
    "clf.fit(X_train, y_train)\n",
    "y_pred = clf.predict(X_test)\n",
    "print(confusion_matrix(y_pred,y_test))\n",
    "plot_confusion_matrix(clf, X_test, y_test,cmap=plt.cm.Blues)  \n",
    "plt.show()\n",
    "\n",
    "print(f'Train score: {clf.score(X_train, y_train)}')\n",
    "print(f'Test score: {clf.score(X_test, y_test)}')\n",
    "print(f'Precision: {precision_score(y_test, y_pred)}')\n",
    "print(f'Recall: {recall_score(y_test, y_pred)}')"
   ]
  },
  {
   "cell_type": "markdown",
   "metadata": {},
   "source": [
    "##### respondent"
   ]
  },
  {
   "cell_type": "code",
   "execution_count": 106,
   "metadata": {},
   "outputs": [
    {
     "name": "stdout",
     "output_type": "stream",
     "text": [
      "Ratio\n",
      "0.5901639344262295\n",
      "\n",
      "SGD\n",
      "[[ 0  0]\n",
      " [13 18]]\n"
     ]
    },
    {
     "data": {
      "image/png": "[encoded data removed]",
      "text/plain": [
       "<Figure size 432x288 with 2 Axes>"
      ]
     },
     "metadata": {
      "needs_background": "light"
     },
     "output_type": "display_data"
    },
    {
     "name": "stdout",
     "output_type": "stream",
     "text": [
      "Train score: 1.0\n",
      "Test score: 0.5806451612903226\n",
      "Precision: 0.5806451612903226\n",
      "Recall: 1.0\n"
     ]
    }
   ],
   "source": [
    "kavanaugh_df = pd.read_pickle(\"df_merged_kavanaugh.pkl\")\n",
    "kavanaugh_df = kavanaugh_df.reset_index()\n",
    "\n",
    "X=np.array(kavanaugh_df.res_text)\n",
    "y=np.array(kavanaugh_df.final_vote)\n",
    "X_train, X_test, y_train, y_test = train_test_split(X, y, test_size=0.33,stratify=y,random_state=42)\n",
    "\n",
    "vect = TfidfVectorizer(tokenizer=tokenizer, use_idf=True, ngram_range=(1,2), stop_words=None)\n",
    "X_train = vect.fit_transform(X_train)\n",
    "X_test = vect.transform(X_test)\n",
    "    \n",
    "print(\"Ratio\")\n",
    "print(np.bincount(y_train.astype(int))[1]/len(y_train))\n",
    "print()\n",
    "    \n",
    "print(\"SGD\")\n",
    "clf = SGDClassifier(loss='log', random_state=1, penalty='l1', alpha=0.001, n_iter_no_change=5)\n",
    "clf.fit(X_train, y_train)\n",
    "y_pred = clf.predict(X_test)\n",
    "print(confusion_matrix(y_pred,y_test))\n",
    "plot_confusion_matrix(clf, X_test, y_test,cmap=plt.cm.Blues)  \n",
    "plt.show()\n",
    "\n",
    "print(f'Train score: {clf.score(X_train, y_train)}')\n",
    "print(f'Test score: {clf.score(X_test, y_test)}')\n",
    "print(f'Precision: {precision_score(y_test, y_pred)}')\n",
    "print(f'Recall: {recall_score(y_test, y_pred)}')"
   ]
  },
  {
   "cell_type": "markdown",
   "metadata": {},
   "source": [
    "# Kagan\n",
    "\n",
    "Best parameter set:<br>\n",
    "\n",
    "- 'clf__alpha': 0.0001<br>\n",
    "- 'clf__n_iter_no_change': 9<br>\n",
    "- 'clf__penalty': 'l2'<br>\n",
    "- 'vect__ngram_range': (1, 2)<br>\n",
    "- 'vect__stop_words': None<br>\n",
    "- 'vect__tokenizer': tokenizer<br>\n",
    "- 'vect__use_idf': True <br>\n",
    "<br>\n",
    "CV Accuracy: 0.655<br>\n",
    "Test Accuracy: 0.634"
   ]
  },
  {
   "cell_type": "markdown",
   "metadata": {},
   "source": [
    "##### petitioner"
   ]
  },
  {
   "cell_type": "code",
   "execution_count": 107,
   "metadata": {},
   "outputs": [
    {
     "name": "stdout",
     "output_type": "stream",
     "text": [
      "Ratio\n",
      "0.6246153846153846\n",
      "\n",
      "SGD\n",
      "[[12 10]\n",
      " [49 90]]\n"
     ]
    },
    {
     "data": {
      "image/png": "[encoded data removed]",
      "text/plain": [
       "<Figure size 432x288 with 2 Axes>"
      ]
     },
     "metadata": {
      "needs_background": "light"
     },
     "output_type": "display_data"
    },
    {
     "name": "stdout",
     "output_type": "stream",
     "text": [
      "Train score: 0.9876923076923076\n",
      "Test score: 0.6335403726708074\n",
      "Precision: 0.6474820143884892\n",
      "Recall: 0.9\n"
     ]
    }
   ],
   "source": [
    "kagan_df = pd.read_pickle(\"df_merged_kagan.pkl\")\n",
    "kagan_df = kagan_df.reset_index()\n",
    "\n",
    "X=np.array(kagan_df.pet_text)\n",
    "y=np.array(kagan_df.final_vote)\n",
    "X_train, X_test, y_train, y_test = train_test_split(X, y, test_size=0.33,stratify=y,random_state=42)\n",
    "\n",
    "vect = TfidfVectorizer(tokenizer=tokenizer, use_idf=True, ngram_range=(1,2), stop_words=None)\n",
    "X_train = vect.fit_transform(X_train)\n",
    "X_test = vect.transform(X_test)\n",
    "    \n",
    "print(\"Ratio\")\n",
    "print(np.bincount(y_train.astype(int))[1]/len(y_train))\n",
    "print()\n",
    "    \n",
    "print(\"SGD\")\n",
    "clf = SGDClassifier(loss='log', random_state=1, penalty='l2', alpha=0.0001, n_iter_no_change=9)\n",
    "clf.fit(X_train, y_train)\n",
    "y_pred = clf.predict(X_test)\n",
    "print(confusion_matrix(y_pred,y_test))\n",
    "plot_confusion_matrix(clf, X_test, y_test,cmap=plt.cm.Blues)  \n",
    "plt.show()\n",
    "\n",
    "print(f'Train score: {clf.score(X_train, y_train)}')\n",
    "print(f'Test score: {clf.score(X_test, y_test)}')\n",
    "print(f'Precision: {precision_score(y_test, y_pred)}')\n",
    "print(f'Recall: {recall_score(y_test, y_pred)}')"
   ]
  },
  {
   "cell_type": "markdown",
   "metadata": {},
   "source": [
    "##### respondent"
   ]
  },
  {
   "cell_type": "code",
   "execution_count": 108,
   "metadata": {},
   "outputs": [
    {
     "name": "stdout",
     "output_type": "stream",
     "text": [
      "Ratio\n",
      "0.6246153846153846\n",
      "\n",
      "SGD\n",
      "[[ 9  7]\n",
      " [52 93]]\n"
     ]
    },
    {
     "data": {
      "image/png": "[encoded data removed]",
      "text/plain": [
       "<Figure size 432x288 with 2 Axes>"
      ]
     },
     "metadata": {
      "needs_background": "light"
     },
     "output_type": "display_data"
    },
    {
     "name": "stdout",
     "output_type": "stream",
     "text": [
      "Train score: 0.9476923076923077\n",
      "Test score: 0.6335403726708074\n",
      "Precision: 0.6413793103448275\n",
      "Recall: 0.93\n"
     ]
    }
   ],
   "source": [
    "kagan_df = pd.read_pickle(\"df_merged_kagan.pkl\")\n",
    "kagan_df = kagan_df.reset_index()\n",
    "\n",
    "X=np.array(kagan_df.res_text)\n",
    "y=np.array(kagan_df.final_vote)\n",
    "X_train, X_test, y_train, y_test = train_test_split(X, y, test_size=0.33,stratify=y,random_state=42)\n",
    "\n",
    "vect = TfidfVectorizer(tokenizer=tokenizer, use_idf=True, ngram_range=(1,2), stop_words=None)\n",
    "X_train = vect.fit_transform(X_train)\n",
    "X_test = vect.transform(X_test)\n",
    "    \n",
    "print(\"Ratio\")\n",
    "print(np.bincount(y_train.astype(int))[1]/len(y_train))\n",
    "print()\n",
    "    \n",
    "print(\"SGD\")\n",
    "clf = SGDClassifier(loss='log', random_state=1, penalty='l2', alpha=0.0001, n_iter_no_change=9)\n",
    "clf.fit(X_train, y_train)\n",
    "y_pred = clf.predict(X_test)\n",
    "print(confusion_matrix(y_pred,y_test))\n",
    "plot_confusion_matrix(clf, X_test, y_test,cmap=plt.cm.Blues)  \n",
    "plt.show()\n",
    "\n",
    "print(f'Train score: {clf.score(X_train, y_train)}')\n",
    "print(f'Test score: {clf.score(X_test, y_test)}')\n",
    "print(f'Precision: {precision_score(y_test, y_pred)}')\n",
    "print(f'Recall: {recall_score(y_test, y_pred)}')"
   ]
  },
  {
   "cell_type": "markdown",
   "metadata": {},
   "source": [
    "# Sotomayor\n",
    "\n",
    "Best parameter set:<br>\n",
    "\n",
    "- 'clf__alpha': 0.001<br>\n",
    "- 'clf__n_iter_no_change': 3<br>\n",
    "- 'clf__penalty': 'l1'<br>\n",
    "- 'vect__ngram_range': (1, 2)<br>\n",
    "- 'vect__stop_words': None<br>\n",
    "- 'vect__tokenizer': tokenizerporter<br>\n",
    "- 'vect__use_idf': False <br>\n",
    "<br>\n",
    "CV Accuracy: 0.655<br>\n",
    "Test Accuracy: 0.562"
   ]
  },
  {
   "cell_type": "markdown",
   "metadata": {},
   "source": [
    "##### petitioner"
   ]
  },
  {
   "cell_type": "code",
   "execution_count": 109,
   "metadata": {},
   "outputs": [
    {
     "name": "stdout",
     "output_type": "stream",
     "text": [
      "Ratio\n",
      "0.6005154639175257\n",
      "\n",
      "SGD\n",
      "[[  7  14]\n",
      " [ 70 101]]\n"
     ]
    },
    {
     "data": {
      "image/png": "[encoded data removed]",
      "text/plain": [
       "<Figure size 432x288 with 2 Axes>"
      ]
     },
     "metadata": {
      "needs_background": "light"
     },
     "output_type": "display_data"
    },
    {
     "name": "stdout",
     "output_type": "stream",
     "text": [
      "Train score: 0.6855670103092784\n",
      "Test score: 0.5625\n",
      "Precision: 0.5906432748538012\n",
      "Recall: 0.8782608695652174\n"
     ]
    }
   ],
   "source": [
    "sotomayor_df = pd.read_pickle(\"df_merged_sotomayor.pkl\")\n",
    "sotomayor_df = sotomayor_df.reset_index()\n",
    "\n",
    "X=np.array(sotomayor_df.pet_text)\n",
    "y=np.array(sotomayor_df.final_vote)\n",
    "X_train, X_test, y_train, y_test = train_test_split(X, y, test_size=0.33,stratify=y,random_state=42)\n",
    "\n",
    "vect = TfidfVectorizer(tokenizer=tokenizerporter, use_idf=False, ngram_range=(1,2), stop_words=None)\n",
    "X_train = vect.fit_transform(X_train)\n",
    "X_test = vect.transform(X_test)\n",
    "    \n",
    "print(\"Ratio\")\n",
    "print(np.bincount(y_train.astype(int))[1]/len(y_train))\n",
    "print()\n",
    "    \n",
    "print(\"SGD\")\n",
    "clf = SGDClassifier(loss='log', random_state=1, penalty='l1', alpha=0.001, n_iter_no_change=3)\n",
    "clf.fit(X_train, y_train)\n",
    "y_pred = clf.predict(X_test)\n",
    "print(confusion_matrix(y_pred,y_test))\n",
    "plot_confusion_matrix(clf, X_test, y_test,cmap=plt.cm.Blues)  \n",
    "plt.show()\n",
    "\n",
    "print(f'Train score: {clf.score(X_train, y_train)}')\n",
    "print(f'Test score: {clf.score(X_test, y_test)}')\n",
    "print(f'Precision: {precision_score(y_test, y_pred)}')\n",
    "print(f'Recall: {recall_score(y_test, y_pred)}')"
   ]
  },
  {
   "cell_type": "markdown",
   "metadata": {},
   "source": [
    "##### respondent"
   ]
  },
  {
   "cell_type": "code",
   "execution_count": 110,
   "metadata": {},
   "outputs": [
    {
     "name": "stdout",
     "output_type": "stream",
     "text": [
      "Ratio\n",
      "0.6005154639175257\n",
      "\n",
      "SGD\n",
      "[[ 12  12]\n",
      " [ 65 103]]\n"
     ]
    },
    {
     "data": {
      "image/png": "[encoded data removed]",
      "text/plain": [
       "<Figure size 432x288 with 2 Axes>"
      ]
     },
     "metadata": {
      "needs_background": "light"
     },
     "output_type": "display_data"
    },
    {
     "name": "stdout",
     "output_type": "stream",
     "text": [
      "Train score: 0.6494845360824743\n",
      "Test score: 0.5989583333333334\n",
      "Precision: 0.6130952380952381\n",
      "Recall: 0.8956521739130435\n"
     ]
    }
   ],
   "source": [
    "sotomayor_df = pd.read_pickle(\"df_merged_sotomayor.pkl\")\n",
    "sotomayor_df = sotomayor_df.reset_index()\n",
    "\n",
    "X=np.array(sotomayor_df.res_text)\n",
    "y=np.array(sotomayor_df.final_vote)\n",
    "X_train, X_test, y_train, y_test = train_test_split(X, y, test_size=0.33,stratify=y,random_state=42)\n",
    "\n",
    "vect = TfidfVectorizer(tokenizer=tokenizerporter, use_idf=False, ngram_range=(1,2), stop_words=None)\n",
    "X_train = vect.fit_transform(X_train)\n",
    "X_test = vect.transform(X_test)\n",
    "    \n",
    "print(\"Ratio\")\n",
    "print(np.bincount(y_train.astype(int))[1]/len(y_train))\n",
    "print()\n",
    "    \n",
    "print(\"SGD\")\n",
    "clf = SGDClassifier(loss='log', random_state=1, penalty='l1', alpha=0.001, n_iter_no_change=3)\n",
    "clf.fit(X_train, y_train)\n",
    "y_pred = clf.predict(X_test)\n",
    "print(confusion_matrix(y_pred,y_test))\n",
    "plot_confusion_matrix(clf, X_test, y_test,cmap=plt.cm.Blues)  \n",
    "plt.show()\n",
    "\n",
    "print(f'Train score: {clf.score(X_train, y_train)}')\n",
    "print(f'Test score: {clf.score(X_test, y_test)}')\n",
    "print(f'Precision: {precision_score(y_test, y_pred)}')\n",
    "print(f'Recall: {recall_score(y_test, y_pred)}')"
   ]
  },
  {
   "cell_type": "markdown",
   "metadata": {},
   "source": [
    "# Roberts\n",
    "\n",
    "Best parameter set:<br>\n",
    "\n",
    "- 'clf__alpha': 0.001<br>\n",
    "- 'clf__n_iter_no_change': 3<br>\n",
    "- 'vect__ngram_range': (1, 2)<br>\n",
    "- 'vect__stop_words': stop<br>\n",
    "- 'vect__use_idf': False <br>\n",
    "<br>\n",
    "\n",
    "These were set and not grid searched:\n",
    "\n",
    "- 'clf__penalty': 'l1'<br>\n",
    "- 'vect__tokenizer': tokenizerporter<br>\n",
    "\n",
    "CV Accuracy: 0.655<br>\n",
    "Test Accuracy: 0.562"
   ]
  },
  {
   "cell_type": "markdown",
   "metadata": {},
   "source": [
    "##### petitioner"
   ]
  },
  {
   "cell_type": "code",
   "execution_count": 111,
   "metadata": {},
   "outputs": [
    {
     "name": "stderr",
     "output_type": "stream",
     "text": [
      "/Users/anndi.russell/opt/anaconda3/envs/cap1/lib/python3.7/site-packages/sklearn/feature_extraction/text.py:386: UserWarning: Your stop_words may be inconsistent with your preprocessing. Tokenizing the stop words generated tokens ['abov', 'ani', 'becaus', 'befor', 'doe', 'dure', 'ha', 'hi', \"it'\", 'onc', 'onli', 'ourselv', \"she'\", \"should'v\", 'themselv', 'thi', 'veri', 'wa', 'whi', \"you'r\", \"you'v\", 'yourselv'] not in stop_words.\n",
      "  'stop_words.' % sorted(inconsistent))\n"
     ]
    },
    {
     "name": "stdout",
     "output_type": "stream",
     "text": [
      "Ratio\n",
      "0.6481113320079522\n",
      "\n",
      "SGD\n",
      "[[ 16   6]\n",
      " [ 71 156]]\n"
     ]
    },
    {
     "data": {
      "image/png": "[encoded data removed]",
      "text/plain": [
       "<Figure size 432x288 with 2 Axes>"
      ]
     },
     "metadata": {
      "needs_background": "light"
     },
     "output_type": "display_data"
    },
    {
     "name": "stdout",
     "output_type": "stream",
     "text": [
      "Train score: 0.6858846918489065\n",
      "Test score: 0.6907630522088354\n",
      "Precision: 0.6872246696035242\n",
      "Recall: 0.9629629629629629\n"
     ]
    }
   ],
   "source": [
    "roberts_df = pd.read_pickle(\"df_merged_roberts.pkl\")\n",
    "roberts_df = roberts_df.reset_index()\n",
    "\n",
    "X=np.array(roberts_df.pet_text)\n",
    "y=np.array(roberts_df.final_vote)\n",
    "X_train, X_test, y_train, y_test = train_test_split(X, y, test_size=0.33,stratify=y,random_state=42)\n",
    "\n",
    "vect = TfidfVectorizer(tokenizer=tokenizerporter, use_idf=False, ngram_range=(1,2), stop_words=stop)\n",
    "X_train = vect.fit_transform(X_train)\n",
    "X_test = vect.transform(X_test)\n",
    "    \n",
    "print(\"Ratio\")\n",
    "print(np.bincount(y_train.astype(int))[1]/len(y_train))\n",
    "print()\n",
    "    \n",
    "print(\"SGD\")\n",
    "clf = SGDClassifier(loss='log', random_state=1, penalty='l1', alpha=0.001, n_iter_no_change=3)\n",
    "clf.fit(X_train, y_train)\n",
    "y_pred = clf.predict(X_test)\n",
    "print(confusion_matrix(y_pred,y_test))\n",
    "plot_confusion_matrix(clf, X_test, y_test,cmap=plt.cm.Blues)  \n",
    "plt.show()\n",
    "\n",
    "print(f'Train score: {clf.score(X_train, y_train)}')\n",
    "print(f'Test score: {clf.score(X_test, y_test)}')\n",
    "print(f'Precision: {precision_score(y_test, y_pred)}')\n",
    "print(f'Recall: {recall_score(y_test, y_pred)}')"
   ]
  },
  {
   "cell_type": "markdown",
   "metadata": {},
   "source": [
    "##### respondent"
   ]
  },
  {
   "cell_type": "code",
   "execution_count": 112,
   "metadata": {},
   "outputs": [
    {
     "name": "stderr",
     "output_type": "stream",
     "text": [
      "/Users/anndi.russell/opt/anaconda3/envs/cap1/lib/python3.7/site-packages/sklearn/feature_extraction/text.py:386: UserWarning: Your stop_words may be inconsistent with your preprocessing. Tokenizing the stop words generated tokens ['abov', 'ani', 'becaus', 'befor', 'doe', 'dure', 'ha', 'hi', \"it'\", 'onc', 'onli', 'ourselv', \"she'\", \"should'v\", 'themselv', 'thi', 'veri', 'wa', 'whi', \"you'r\", \"you'v\", 'yourselv'] not in stop_words.\n",
      "  'stop_words.' % sorted(inconsistent))\n"
     ]
    },
    {
     "name": "stdout",
     "output_type": "stream",
     "text": [
      "Ratio\n",
      "0.6481113320079522\n",
      "\n",
      "SGD\n",
      "[[ 15  13]\n",
      " [ 72 149]]\n"
     ]
    },
    {
     "data": {
      "image/png": "[encoded data removed]",
      "text/plain": [
       "<Figure size 432x288 with 2 Axes>"
      ]
     },
     "metadata": {
      "needs_background": "light"
     },
     "output_type": "display_data"
    },
    {
     "name": "stdout",
     "output_type": "stream",
     "text": [
      "Train score: 0.6898608349900597\n",
      "Test score: 0.6586345381526104\n",
      "Precision: 0.6742081447963801\n",
      "Recall: 0.9197530864197531\n"
     ]
    }
   ],
   "source": [
    "roberts_df = pd.read_pickle(\"df_merged_roberts.pkl\")\n",
    "roberts_df = roberts_df.reset_index()\n",
    "\n",
    "X=np.array(roberts_df.res_text)\n",
    "y=np.array(roberts_df.final_vote)\n",
    "X_train, X_test, y_train, y_test = train_test_split(X, y, test_size=0.33,stratify=y,random_state=42)\n",
    "\n",
    "vect = TfidfVectorizer(tokenizer=tokenizerporter, use_idf=False, ngram_range=(1,2), stop_words=stop)\n",
    "X_train = vect.fit_transform(X_train)\n",
    "X_test = vect.transform(X_test)\n",
    "    \n",
    "print(\"Ratio\")\n",
    "print(np.bincount(y_train.astype(int))[1]/len(y_train))\n",
    "print()\n",
    "    \n",
    "print(\"SGD\")\n",
    "clf = SGDClassifier(loss='log', random_state=1, penalty='l1', alpha=0.001, n_iter_no_change=3)\n",
    "clf.fit(X_train, y_train)\n",
    "y_pred = clf.predict(X_test)\n",
    "print(confusion_matrix(y_pred,y_test))\n",
    "plot_confusion_matrix(clf, X_test, y_test,cmap=plt.cm.Blues)  \n",
    "plt.show()\n",
    "\n",
    "print(f'Train score: {clf.score(X_train, y_train)}')\n",
    "print(f'Test score: {clf.score(X_test, y_test)}')\n",
    "print(f'Precision: {precision_score(y_test, y_pred)}')\n",
    "print(f'Recall: {recall_score(y_test, y_pred)}')"
   ]
  },
  {
   "cell_type": "code",
   "execution_count": null,
   "metadata": {},
   "outputs": [],
   "source": []
  }
 ],
 "metadata": {
  "kernelspec": {
   "display_name": "Python 3",
   "language": "python",
   "name": "python3"
  },
  "language_info": {
   "codemirror_mode": {
    "name": "ipython",
    "version": 3
   },
   "file_extension": ".py",
   "mimetype": "text/x-python",
   "name": "python",
   "nbconvert_exporter": "python",
   "pygments_lexer": "ipython3",
   "version": "3.7.7"
  }
 },
 "nbformat": 4,
 "nbformat_minor": 4
}
