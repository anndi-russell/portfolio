{
 "cells": [
  {
   "cell_type": "markdown",
   "metadata": {},
   "source": [
    "# Step 4: Build models and tune hyperparameters\n",
    "\n",
    "\n",
    "The purpose of this program is to build a classifier model for each of the 8 justices. I first run 4 different calssification algorithms for each justice, then I use grid search cross validation to optimize hyperparameters for teh SGD model. These optimized hyperparameters will be used in the next notebook: models_with_tuned_params."
   ]
  },
  {
   "cell_type": "code",
   "execution_count": 54,
   "metadata": {},
   "outputs": [],
   "source": [
    "import pandas as pd\n",
    "import numpy as np\n",
    "import matplotlib.pyplot as plt\n",
    "import seaborn as sns\n",
    "\n",
    "#classifiers\n",
    "from sklearn.neighbors import KNeighborsClassifier\n",
    "from sklearn.svm import SVC\n",
    "from sklearn.linear_model import SGDClassifier\n",
    "from sklearn.linear_model import LogisticRegression\n",
    "\n",
    "#other sklearn tools\n",
    "from sklearn.metrics import plot_confusion_matrix\n",
    "from sklearn.pipeline import Pipeline\n",
    "from sklearn.model_selection import GridSearchCV\n",
    "from sklearn.model_selection import train_test_split\n",
    "from sklearn.metrics import confusion_matrix\n",
    "\n",
    "#NLP tools\n",
    "from nltk.corpus import stopwords\n",
    "from nltk.stem.porter import PorterStemmer\n",
    "from sklearn.feature_extraction.text import TfidfVectorizer\n",
    "\n"
   ]
  },
  {
   "cell_type": "markdown",
   "metadata": {},
   "source": [
    "Read in all data for justices:"
   ]
  },
  {
   "cell_type": "code",
   "execution_count": 55,
   "metadata": {},
   "outputs": [],
   "source": [
    "breyer_df = pd.read_pickle(\"df_merged_breyer.pkl\")\n",
    "sotomayor_df = pd.read_pickle(\"df_merged_sotomayor.pkl\")\n",
    "alito_df = pd.read_pickle(\"df_merged_alito.pkl\")\n",
    "thomas_df = pd.read_pickle(\"df_merged_thomas.pkl\")\n",
    "kavanaugh_df = pd.read_pickle(\"df_merged_kavanaugh.pkl\")\n",
    "roberts_df = pd.read_pickle(\"df_merged_roberts.pkl\")\n",
    "gorsuch_df = pd.read_pickle(\"df_merged_gorsuch.pkl\")\n",
    "kagan_df = pd.read_pickle(\"df_merged_kagan.pkl\")"
   ]
  },
  {
   "cell_type": "markdown",
   "metadata": {},
   "source": [
    "Define function that will be used for all justice models (four algorithms were used for experimentation purposes, though the expectation is that SGD words the best for this sentiment analysis question):"
   ]
  },
  {
   "cell_type": "code",
   "execution_count": 56,
   "metadata": {},
   "outputs": [],
   "source": [
    "def all_models(df):\n",
    "    '''This function takes in a dataframe of a justice and prints out the confustion matrix and train/test \n",
    "    accuracy for each of 4 different classifiers. Parameters were hand-picked. After initial model fittings, \n",
    "    a grid search will be run to optimize the chosen model.'''\n",
    "    \n",
    "    X=np.array(df.pet_text)\n",
    "    y=np.array(df.final_vote)\n",
    "    X_train, X_test, y_train, y_test = train_test_split(X, y, test_size=0.33,stratify=y,random_state=42)\n",
    "    \n",
    "    \n",
    "    #classes = np.array([0, 1]) \n",
    "    \n",
    "    vect = TfidfVectorizer()\n",
    "    X_train = vect.fit_transform(X_train)\n",
    "    X_test = vect.transform(X_test)\n",
    "    \n",
    "    print(\"Ratio\")\n",
    "    print(np.bincount(y_train.astype(int))[1]/len(y_train))\n",
    "    print()\n",
    "    \n",
    "    #Stochasic gradient descent\n",
    "    print(\"SGD\")\n",
    "    clf = SGDClassifier(loss='log', random_state=1, penalty='l1', alpha=0.0001)\n",
    "    clf.fit(X_train, y_train)\n",
    "    y_pred = clf.predict(X_test)\n",
    "    print(confusion_matrix(y_pred,y_test))\n",
    "    plot_confusion_matrix(clf, X_test, y_test,cmap=plt.cm.Blues)  \n",
    "    plt.show()\n",
    "    print(f'Train score: {clf.score(X_train, y_train)}')\n",
    "    print(f'Test score: {clf.score(X_test, y_test)}')\n",
    "    print()\n",
    "    \n",
    "    #Logistic Regression\n",
    "    print(\"Logistic\")\n",
    "    clf = LogisticRegression(random_state=0, solver='liblinear')\n",
    "    clf.fit(X_train, y_train)\n",
    "    y_pred = clf.predict(X_test)\n",
    "    print(confusion_matrix(y_pred,y_test))\n",
    "    plot_confusion_matrix(clf, X_test, y_test,cmap=plt.cm.Blues)  \n",
    "    plt.show()\n",
    "    print(f'Train score: {clf.score(X_train, y_train)}')\n",
    "    print(f'Test score: {clf.score(X_test, y_test)}')\n",
    "    print()\n",
    "    \n",
    "    #K nearest neighbors\n",
    "    print(\"KNN\")\n",
    "    clf = KNeighborsClassifier()\n",
    "    clf.fit(X_train, y_train)\n",
    "    y_pred = clf.predict(X_test)\n",
    "    print(confusion_matrix(y_pred,y_test))\n",
    "    plot_confusion_matrix(clf, X_test, y_test,cmap=plt.cm.Blues)  \n",
    "    plt.show()\n",
    "    print(f'Train score: {clf.score(X_train, y_train)}')\n",
    "    print(f'Test score: {clf.score(X_test, y_test)}')\n",
    "    print()\n",
    "    \n",
    "    #Support vector machines\n",
    "    print(\"SVM\")\n",
    "    clf = SVC(gamma='auto')\n",
    "    clf.fit(X_train, y_train)\n",
    "    y_pred = clf.predict(X_test)\n",
    "    print(confusion_matrix(y_pred,y_test))\n",
    "    plot_confusion_matrix(clf, X_test, y_test,cmap=plt.cm.Blues)  \n",
    "    plt.show()\n",
    "    print(f'Train score: {clf.score(X_train, y_train)}')\n",
    "    print(f'Test score: {clf.score(X_test, y_test)}')"
   ]
  },
  {
   "cell_type": "markdown",
   "metadata": {},
   "source": [
    "Create two tokenizer options for grid search that will be run for each justice (one uses a porter stemmer, the other does not):"
   ]
  },
  {
   "cell_type": "code",
   "execution_count": 57,
   "metadata": {},
   "outputs": [],
   "source": [
    "porter = PorterStemmer()\n",
    "\n",
    "def tokenizer(text):\n",
    "    return text.split()\n",
    "\n",
    "def tokenizerporter(text):\n",
    "    return [porter.stem(word) for word in text.split()]"
   ]
  },
  {
   "cell_type": "markdown",
   "metadata": {},
   "source": [
    "# Breyer"
   ]
  },
  {
   "cell_type": "code",
   "execution_count": 58,
   "metadata": {},
   "outputs": [
    {
     "name": "stdout",
     "output_type": "stream",
     "text": [
      "792\n"
     ]
    },
    {
     "data": {
      "text/plain": [
       "index            True\n",
       "case_num         True\n",
       "pet_name         True\n",
       "res_name         True\n",
       "pet_text         True\n",
       "res_text         True\n",
       "dateArgument    False\n",
       "partyWinning     True\n",
       "justiceName      True\n",
       "majority         True\n",
       "final_vote       True\n",
       "dtype: bool"
      ]
     },
     "execution_count": 58,
     "metadata": {},
     "output_type": "execute_result"
    }
   ],
   "source": [
    "breyer_df=breyer_df.reset_index()\n",
    "print(len(breyer_df))\n",
    "breyer_df.isnull().sum()==0"
   ]
  },
  {
   "cell_type": "code",
   "execution_count": 59,
   "metadata": {},
   "outputs": [
    {
     "data": {
      "text/plain": [
       "1.0    488\n",
       "0.0    304\n",
       "Name: final_vote, dtype: int64"
      ]
     },
     "execution_count": 59,
     "metadata": {},
     "output_type": "execute_result"
    }
   ],
   "source": [
    "breyer_df.final_vote.value_counts()"
   ]
  },
  {
   "cell_type": "code",
   "execution_count": 60,
   "metadata": {},
   "outputs": [
    {
     "name": "stdout",
     "output_type": "stream",
     "text": [
      "Ratio\n",
      "0.6169811320754717\n",
      "\n",
      "SGD\n",
      "[[ 55  41]\n",
      " [ 46 120]]\n"
     ]
    },
    {
     "data": {
      "image/png": "[encoded data removed]",
      "text/plain": [
       "<Figure size 432x288 with 2 Axes>"
      ]
     },
     "metadata": {
      "needs_background": "light"
     },
     "output_type": "display_data"
    },
    {
     "name": "stdout",
     "output_type": "stream",
     "text": [
      "Train score: 0.9679245283018868\n",
      "Test score: 0.6679389312977099\n",
      "\n",
      "Logistic\n",
      "[[ 29  21]\n",
      " [ 72 140]]\n"
     ]
    },
    {
     "data": {
      "image/png": "[encoded data removed]",
      "text/plain": [
       "<Figure size 432x288 with 2 Axes>"
      ]
     },
     "metadata": {
      "needs_background": "light"
     },
     "output_type": "display_data"
    },
    {
     "name": "stdout",
     "output_type": "stream",
     "text": [
      "Train score: 0.8660377358490566\n",
      "Test score: 0.6450381679389313\n",
      "\n",
      "KNN\n",
      "[[ 18  18]\n",
      " [ 83 143]]\n"
     ]
    },
    {
     "data": {
      "image/png": "[encoded data removed]",
      "text/plain": [
       "<Figure size 432x288 with 2 Axes>"
      ]
     },
     "metadata": {
      "needs_background": "light"
     },
     "output_type": "display_data"
    },
    {
     "name": "stdout",
     "output_type": "stream",
     "text": [
      "Train score: 0.6886792452830188\n",
      "Test score: 0.6145038167938931\n",
      "\n",
      "SVM\n",
      "[[  0   0]\n",
      " [101 161]]\n"
     ]
    },
    {
     "data": {
      "image/png": "[encoded data removed]",
      "text/plain": [
       "<Figure size 432x288 with 2 Axes>"
      ]
     },
     "metadata": {
      "needs_background": "light"
     },
     "output_type": "display_data"
    },
    {
     "name": "stdout",
     "output_type": "stream",
     "text": [
      "Train score: 0.6169811320754717\n",
      "Test score: 0.6145038167938931\n"
     ]
    }
   ],
   "source": [
    "all_models(breyer_df)"
   ]
  },
  {
   "cell_type": "code",
   "execution_count": 61,
   "metadata": {},
   "outputs": [],
   "source": [
    "#Breyer\n",
    "#logistic and svm are only predicting negative\n",
    "#Moving forward with analysis using sgd and knn"
   ]
  },
  {
   "cell_type": "markdown",
   "metadata": {},
   "source": [
    "### Grid search- SGD"
   ]
  },
  {
   "cell_type": "code",
   "execution_count": 62,
   "metadata": {},
   "outputs": [
    {
     "name": "stdout",
     "output_type": "stream",
     "text": [
      "dict_keys(['analyzer', 'binary', 'decode_error', 'dtype', 'encoding', 'input', 'lowercase', 'max_df', 'max_features', 'min_df', 'ngram_range', 'norm', 'preprocessor', 'smooth_idf', 'stop_words', 'strip_accents', 'sublinear_tf', 'token_pattern', 'tokenizer', 'use_idf', 'vocabulary'])\n",
      "Fitting 5 folds for each of 1024 candidates, totalling 5120 fits\n"
     ]
    },
    {
     "name": "stderr",
     "output_type": "stream",
     "text": [
      "[nltk_data] Downloading package stopwords to\n",
      "[nltk_data]     /Users/anndi.russell/nltk_data...\n",
      "[nltk_data]   Package stopwords is already up-to-date!\n",
      "[Parallel(n_jobs=-1)]: Using backend LokyBackend with 12 concurrent workers.\n",
      "[Parallel(n_jobs=-1)]: Done  17 tasks      | elapsed:    3.9s\n",
      "[Parallel(n_jobs=-1)]: Done 138 tasks      | elapsed:   57.3s\n",
      "[Parallel(n_jobs=-1)]: Done 341 tasks      | elapsed:  2.3min\n",
      "[Parallel(n_jobs=-1)]: Done 624 tasks      | elapsed:  4.3min\n",
      "[Parallel(n_jobs=-1)]: Done 989 tasks      | elapsed:  7.1min\n",
      "[Parallel(n_jobs=-1)]: Done 1434 tasks      | elapsed: 10.4min\n",
      "[Parallel(n_jobs=-1)]: Done 1961 tasks      | elapsed: 14.9min\n",
      "[Parallel(n_jobs=-1)]: Done 2568 tasks      | elapsed: 20.0min\n",
      "[Parallel(n_jobs=-1)]: Done 3257 tasks      | elapsed: 25.9min\n",
      "[Parallel(n_jobs=-1)]: Done 4026 tasks      | elapsed: 32.6min\n",
      "[Parallel(n_jobs=-1)]: Done 4877 tasks      | elapsed: 38.8min\n",
      "[Parallel(n_jobs=-1)]: Done 5120 out of 5120 | elapsed: 40.8min finished\n"
     ]
    },
    {
     "name": "stdout",
     "output_type": "stream",
     "text": [
      "Best parameter set: {'clf__alpha': 0.0001, 'clf__n_iter_no_change': 7, 'clf__penalty': 'l2', 'vect__ngram_range': (1, 2), 'vect__stop_words': None, 'vect__tokenizer': <function tokenizer at 0x7fc283e80b90>, 'vect__use_idf': False} \n",
      "CV Accuracy: 0.696\n",
      "Test Accuracy: 0.683\n"
     ]
    }
   ],
   "source": [
    "X=np.array(breyer_df.pet_text)\n",
    "y=np.array(breyer_df.final_vote)\n",
    "\n",
    "X_train, X_test, y_train, y_test = train_test_split(X, y, test_size=0.33,stratify=y,random_state=42)\n",
    "\n",
    "tfidf = TfidfVectorizer()\n",
    "\n",
    "print(tfidf.get_params().keys())\n",
    "\n",
    "nltk.download('stopwords')\n",
    "stop = stopwords.words('english')\n",
    "\n",
    "param_grid = [{'vect__ngram_range': [(1, 1), (1, 2)],# unigrams or bigrams\n",
    "               'vect__stop_words': [stop, None],\n",
    "               'vect__tokenizer': [tokenizer, tokenizerporter],\n",
    "               'vect__use_idf':[True,False],\n",
    "               'clf__penalty': ['l1', 'l2'],\n",
    "               'clf__n_iter_no_change': [3,5,7,9],\n",
    "               'clf__alpha': [1e-4, 1e-3, 1e-2, 1e-1, 1e0, 1e1, 1e2, 1e3]},\n",
    "              ]\n",
    "\n",
    "\n",
    "lr_tfidf = Pipeline([('vect', tfidf),\n",
    "                     ('clf', SGDClassifier(loss='log', random_state=1))])\n",
    "\n",
    "gs_lr_tfidf = GridSearchCV(lr_tfidf, param_grid,\n",
    "                           scoring='accuracy',\n",
    "                           cv=5,\n",
    "                           verbose=2,\n",
    "                           n_jobs=-1)\n",
    "\n",
    "gs_lr_tfidf.fit(X_train, y_train)\n",
    "\n",
    "print('Best parameter set: %s ' % gs_lr_tfidf.best_params_)\n",
    "print('CV Accuracy: %.3f' % gs_lr_tfidf.best_score_)\n",
    "\n",
    "clf = gs_lr_tfidf.best_estimator_\n",
    "print('Test Accuracy: %.3f' % clf.score(X_test, y_test))"
   ]
  },
  {
   "cell_type": "markdown",
   "metadata": {},
   "source": [
    "# Sotomayor"
   ]
  },
  {
   "cell_type": "code",
   "execution_count": 63,
   "metadata": {},
   "outputs": [
    {
     "name": "stdout",
     "output_type": "stream",
     "text": [
      "580\n"
     ]
    },
    {
     "data": {
      "text/plain": [
       "index           True\n",
       "case_num        True\n",
       "pet_name        True\n",
       "res_name        True\n",
       "pet_text        True\n",
       "res_text        True\n",
       "dateArgument    True\n",
       "partyWinning    True\n",
       "justiceName     True\n",
       "majority        True\n",
       "final_vote      True\n",
       "dtype: bool"
      ]
     },
     "execution_count": 63,
     "metadata": {},
     "output_type": "execute_result"
    }
   ],
   "source": [
    "sotomayor_df=sotomayor_df.reset_index()\n",
    "print(len(sotomayor_df))\n",
    "sotomayor_df.isnull().sum()==0"
   ]
  },
  {
   "cell_type": "code",
   "execution_count": 64,
   "metadata": {},
   "outputs": [
    {
     "data": {
      "text/plain": [
       "1.0    348\n",
       "0.0    232\n",
       "Name: final_vote, dtype: int64"
      ]
     },
     "execution_count": 64,
     "metadata": {},
     "output_type": "execute_result"
    }
   ],
   "source": [
    "sotomayor_df.final_vote.value_counts()"
   ]
  },
  {
   "cell_type": "code",
   "execution_count": 65,
   "metadata": {},
   "outputs": [
    {
     "name": "stdout",
     "output_type": "stream",
     "text": [
      "Ratio\n",
      "0.6005154639175257\n",
      "\n",
      "SGD\n",
      "[[26 30]\n",
      " [51 85]]\n"
     ]
    },
    {
     "data": {
      "image/png": "[encoded data removed]",
      "text/plain": [
       "<Figure size 432x288 with 2 Axes>"
      ]
     },
     "metadata": {
      "needs_background": "light"
     },
     "output_type": "display_data"
    },
    {
     "name": "stdout",
     "output_type": "stream",
     "text": [
      "Train score: 0.9922680412371134\n",
      "Test score: 0.578125\n",
      "\n",
      "Logistic\n",
      "[[  2   3]\n",
      " [ 75 112]]\n"
     ]
    },
    {
     "data": {
      "image/png": "[encoded data removed]",
      "text/plain": [
       "<Figure size 432x288 with 2 Axes>"
      ]
     },
     "metadata": {
      "needs_background": "light"
     },
     "output_type": "display_data"
    },
    {
     "name": "stdout",
     "output_type": "stream",
     "text": [
      "Train score: 0.8247422680412371\n",
      "Test score: 0.59375\n",
      "\n",
      "KNN\n",
      "[[  4  15]\n",
      " [ 73 100]]\n"
     ]
    },
    {
     "data": {
      "image/png": "[encoded data removed]",
      "text/plain": [
       "<Figure size 432x288 with 2 Axes>"
      ]
     },
     "metadata": {
      "needs_background": "light"
     },
     "output_type": "display_data"
    },
    {
     "name": "stdout",
     "output_type": "stream",
     "text": [
      "Train score: 0.7628865979381443\n",
      "Test score: 0.5416666666666666\n",
      "\n",
      "SVM\n",
      "[[  0   0]\n",
      " [ 77 115]]\n"
     ]
    },
    {
     "data": {
      "image/png": "[encoded data removed]",
      "text/plain": [
       "<Figure size 432x288 with 2 Axes>"
      ]
     },
     "metadata": {
      "needs_background": "light"
     },
     "output_type": "display_data"
    },
    {
     "name": "stdout",
     "output_type": "stream",
     "text": [
      "Train score: 0.6005154639175257\n",
      "Test score: 0.5989583333333334\n"
     ]
    }
   ],
   "source": [
    "all_models(sotomayor_df)"
   ]
  },
  {
   "cell_type": "markdown",
   "metadata": {},
   "source": [
    "### Grid search- SGD"
   ]
  },
  {
   "cell_type": "code",
   "execution_count": 67,
   "metadata": {},
   "outputs": [
    {
     "name": "stdout",
     "output_type": "stream",
     "text": [
      "dict_keys(['analyzer', 'binary', 'decode_error', 'dtype', 'encoding', 'input', 'lowercase', 'max_df', 'max_features', 'min_df', 'ngram_range', 'norm', 'preprocessor', 'smooth_idf', 'stop_words', 'strip_accents', 'sublinear_tf', 'token_pattern', 'tokenizer', 'use_idf', 'vocabulary'])\n",
      "Fitting 5 folds for each of 1024 candidates, totalling 5120 fits\n"
     ]
    },
    {
     "name": "stderr",
     "output_type": "stream",
     "text": [
      "[nltk_data] Downloading package stopwords to\n",
      "[nltk_data]     /Users/anndi.russell/nltk_data...\n",
      "[nltk_data]   Package stopwords is already up-to-date!\n",
      "[Parallel(n_jobs=-1)]: Using backend LokyBackend with 12 concurrent workers.\n",
      "[Parallel(n_jobs=-1)]: Done  20 tasks      | elapsed:    1.2s\n",
      "[Parallel(n_jobs=-1)]: Done 174 tasks      | elapsed:   55.9s\n",
      "[Parallel(n_jobs=-1)]: Done 377 tasks      | elapsed:  2.2min\n",
      "[Parallel(n_jobs=-1)]: Done 660 tasks      | elapsed:  3.7min\n",
      "[Parallel(n_jobs=-1)]: Done 1025 tasks      | elapsed:  5.6min\n",
      "[Parallel(n_jobs=-1)]: Done 1470 tasks      | elapsed:  7.7min\n",
      "[Parallel(n_jobs=-1)]: Done 1997 tasks      | elapsed: 12.8min\n",
      "[Parallel(n_jobs=-1)]: Done 2604 tasks      | elapsed: 16.3min\n",
      "[Parallel(n_jobs=-1)]: Done 3293 tasks      | elapsed: 20.6min\n",
      "[Parallel(n_jobs=-1)]: Done 4062 tasks      | elapsed: 25.8min\n",
      "[Parallel(n_jobs=-1)]: Done 4913 tasks      | elapsed: 31.2min\n",
      "[Parallel(n_jobs=-1)]: Done 5120 out of 5120 | elapsed: 32.5min finished\n"
     ]
    },
    {
     "name": "stdout",
     "output_type": "stream",
     "text": [
      "Best parameter set: {'clf__alpha': 0.001, 'clf__n_iter_no_change': 3, 'clf__penalty': 'l1', 'vect__ngram_range': (1, 2), 'vect__stop_words': None, 'vect__tokenizer': <function tokenizerporter at 0x7fc283e80290>, 'vect__use_idf': False} \n",
      "CV Accuracy: 0.655\n",
      "Test Accuracy: 0.562\n"
     ]
    }
   ],
   "source": [
    "X=np.array(sotomayor_df.pet_text)\n",
    "y=np.array(sotomayor_df.final_vote)\n",
    "\n",
    "X_train, X_test, y_train, y_test = train_test_split(X, y, test_size=0.33,stratify=y,random_state=42)\n",
    "\n",
    "tfidf = TfidfVectorizer()\n",
    "\n",
    "print(tfidf.get_params().keys())\n",
    "\n",
    "nltk.download('stopwords')\n",
    "stop = stopwords.words('english')\n",
    "\n",
    "\n",
    "param_grid = [{'vect__ngram_range': [(1, 1), (1, 2)],# unigrams or bigrams\n",
    "               'vect__stop_words': [stop, None],\n",
    "               'vect__tokenizer': [tokenizer, tokenizerporter],\n",
    "               'vect__use_idf':[True,False],\n",
    "               'clf__penalty': ['l1', 'l2'],\n",
    "               'clf__n_iter_no_change': [3,5,7,9],\n",
    "               'clf__alpha': [1e-4, 1e-3, 1e-2, 1e-1, 1e0, 1e1, 1e2, 1e3]},\n",
    "              ]\n",
    "\n",
    "\n",
    "lr_tfidf = Pipeline([('vect', tfidf),\n",
    "                     ('clf', SGDClassifier(loss='log', random_state=1))])\n",
    "\n",
    "gs_lr_tfidf = GridSearchCV(lr_tfidf, param_grid,\n",
    "                           scoring='accuracy',\n",
    "                           cv=5,\n",
    "                           verbose=2,\n",
    "                           n_jobs=-1)\n",
    "\n",
    "gs_lr_tfidf.fit(X_train, y_train)\n",
    "\n",
    "print('Best parameter set: %s ' % gs_lr_tfidf.best_params_)\n",
    "print('CV Accuracy: %.3f' % gs_lr_tfidf.best_score_)\n",
    "\n",
    "clf = gs_lr_tfidf.best_estimator_\n",
    "print('Test Accuracy: %.3f' % clf.score(X_test, y_test))\n",
    "\n",
    "\n"
   ]
  },
  {
   "cell_type": "markdown",
   "metadata": {},
   "source": [
    "# Kagan"
   ]
  },
  {
   "cell_type": "code",
   "execution_count": 68,
   "metadata": {},
   "outputs": [
    {
     "name": "stdout",
     "output_type": "stream",
     "text": [
      "486\n"
     ]
    },
    {
     "data": {
      "text/plain": [
       "index           True\n",
       "case_num        True\n",
       "pet_name        True\n",
       "res_name        True\n",
       "pet_text        True\n",
       "res_text        True\n",
       "dateArgument    True\n",
       "partyWinning    True\n",
       "justiceName     True\n",
       "majority        True\n",
       "final_vote      True\n",
       "dtype: bool"
      ]
     },
     "execution_count": 68,
     "metadata": {},
     "output_type": "execute_result"
    }
   ],
   "source": [
    "kagan_df=kagan_df.reset_index()\n",
    "print(len(kagan_df))\n",
    "kagan_df.isnull().sum()==0"
   ]
  },
  {
   "cell_type": "code",
   "execution_count": 69,
   "metadata": {},
   "outputs": [
    {
     "data": {
      "text/plain": [
       "1.0    303\n",
       "0.0    183\n",
       "Name: final_vote, dtype: int64"
      ]
     },
     "execution_count": 69,
     "metadata": {},
     "output_type": "execute_result"
    }
   ],
   "source": [
    "kagan_df.final_vote.value_counts()"
   ]
  },
  {
   "cell_type": "code",
   "execution_count": 70,
   "metadata": {},
   "outputs": [
    {
     "name": "stdout",
     "output_type": "stream",
     "text": [
      "Ratio\n",
      "0.6246153846153846\n",
      "\n",
      "SGD\n",
      "[[28 26]\n",
      " [33 74]]\n"
     ]
    },
    {
     "data": {
      "image/png": "[encoded data removed]",
      "text/plain": [
       "<Figure size 432x288 with 2 Axes>"
      ]
     },
     "metadata": {
      "needs_background": "light"
     },
     "output_type": "display_data"
    },
    {
     "name": "stdout",
     "output_type": "stream",
     "text": [
      "Train score: 0.9876923076923076\n",
      "Test score: 0.6335403726708074\n",
      "\n",
      "Logistic\n",
      "[[  1   0]\n",
      " [ 60 100]]\n"
     ]
    },
    {
     "data": {
      "image/png": "[encoded data removed]",
      "text/plain": [
       "<Figure size 432x288 with 2 Axes>"
      ]
     },
     "metadata": {
      "needs_background": "light"
     },
     "output_type": "display_data"
    },
    {
     "name": "stdout",
     "output_type": "stream",
     "text": [
      "Train score: 0.7292307692307692\n",
      "Test score: 0.6273291925465838\n",
      "\n",
      "KNN\n",
      "[[ 3  3]\n",
      " [58 97]]\n"
     ]
    },
    {
     "data": {
      "image/png": "[encoded data removed]",
      "text/plain": [
       "<Figure size 432x288 with 2 Axes>"
      ]
     },
     "metadata": {
      "needs_background": "light"
     },
     "output_type": "display_data"
    },
    {
     "name": "stdout",
     "output_type": "stream",
     "text": [
      "Train score: 0.6861538461538461\n",
      "Test score: 0.6211180124223602\n",
      "\n",
      "SVM\n",
      "[[  0   0]\n",
      " [ 61 100]]\n"
     ]
    },
    {
     "data": {
      "image/png": "[encoded data removed]",
      "text/plain": [
       "<Figure size 432x288 with 2 Axes>"
      ]
     },
     "metadata": {
      "needs_background": "light"
     },
     "output_type": "display_data"
    },
    {
     "name": "stdout",
     "output_type": "stream",
     "text": [
      "Train score: 0.6246153846153846\n",
      "Test score: 0.6211180124223602\n"
     ]
    }
   ],
   "source": [
    "all_models(kagan_df)"
   ]
  },
  {
   "cell_type": "markdown",
   "metadata": {},
   "source": [
    "### Grid search SGD"
   ]
  },
  {
   "cell_type": "code",
   "execution_count": 72,
   "metadata": {},
   "outputs": [
    {
     "name": "stdout",
     "output_type": "stream",
     "text": [
      "dict_keys(['analyzer', 'binary', 'decode_error', 'dtype', 'encoding', 'input', 'lowercase', 'max_df', 'max_features', 'min_df', 'ngram_range', 'norm', 'preprocessor', 'smooth_idf', 'stop_words', 'strip_accents', 'sublinear_tf', 'token_pattern', 'tokenizer', 'use_idf', 'vocabulary'])\n",
      "Fitting 5 folds for each of 1024 candidates, totalling 5120 fits\n"
     ]
    },
    {
     "name": "stderr",
     "output_type": "stream",
     "text": [
      "[nltk_data] Downloading package stopwords to\n",
      "[nltk_data]     /Users/anndi.russell/nltk_data...\n",
      "[nltk_data]   Package stopwords is already up-to-date!\n",
      "[Parallel(n_jobs=-1)]: Using backend LokyBackend with 12 concurrent workers.\n",
      "[Parallel(n_jobs=-1)]: Done  20 tasks      | elapsed:    0.9s\n",
      "[Parallel(n_jobs=-1)]: Done 174 tasks      | elapsed:   43.5s\n",
      "[Parallel(n_jobs=-1)]: Done 377 tasks      | elapsed:  1.8min\n",
      "[Parallel(n_jobs=-1)]: Done 660 tasks      | elapsed:  3.2min\n",
      "[Parallel(n_jobs=-1)]: Done 1025 tasks      | elapsed:  5.1min\n",
      "[Parallel(n_jobs=-1)]: Done 1470 tasks      | elapsed:  7.4min\n",
      "[Parallel(n_jobs=-1)]: Done 1997 tasks      | elapsed: 10.0min\n",
      "[Parallel(n_jobs=-1)]: Done 2604 tasks      | elapsed: 12.8min\n",
      "[Parallel(n_jobs=-1)]: Done 3293 tasks      | elapsed: 16.1min\n",
      "[Parallel(n_jobs=-1)]: Done 4062 tasks      | elapsed: 19.4min\n",
      "[Parallel(n_jobs=-1)]: Done 4913 tasks      | elapsed: 24.8min\n",
      "[Parallel(n_jobs=-1)]: Done 5120 out of 5120 | elapsed: 25.6min finished\n"
     ]
    },
    {
     "name": "stdout",
     "output_type": "stream",
     "text": [
      "Best parameter set: {'clf__alpha': 0.0001, 'clf__n_iter_no_change': 9, 'clf__penalty': 'l2', 'vect__ngram_range': (1, 2), 'vect__stop_words': None, 'vect__tokenizer': <function tokenizer at 0x7fc283ba3710>, 'vect__use_idf': True} \n",
      "CV Accuracy: 0.655\n",
      "Test Accuracy: 0.634\n"
     ]
    }
   ],
   "source": [
    "porter = PorterStemmer()\n",
    "\n",
    "def tokenizer(text):\n",
    "    return text.split()\n",
    "\n",
    "def tokenizerporter(text):\n",
    "    return [porter.stem(word) for word in text.split()]\n",
    "\n",
    "X=np.array(kagan_df.pet_text)\n",
    "y=np.array(kagan_df.final_vote)\n",
    "\n",
    "X_train, X_test, y_train, y_test = train_test_split(X, y, test_size=0.33,stratify=y,random_state=42)\n",
    "\n",
    "tfidf = TfidfVectorizer()\n",
    "\n",
    "print(tfidf.get_params().keys())\n",
    "\n",
    "nltk.download('stopwords')\n",
    "stop = stopwords.words('english')\n",
    "\n",
    "\n",
    "param_grid = [{'vect__ngram_range': [(1, 1), (1, 2)],# unigrams or bigrams\n",
    "               'vect__stop_words': [stop, None],\n",
    "               'vect__tokenizer': [tokenizer, tokenizerporter],\n",
    "               'vect__use_idf':[True,False],\n",
    "               'clf__penalty': ['l1', 'l2'],\n",
    "               'clf__n_iter_no_change': [3,5,7,9],\n",
    "               'clf__alpha': [1e-4, 1e-3, 1e-2, 1e-1, 1e0, 1e1, 1e2, 1e3]},\n",
    "              ]\n",
    "\n",
    "\n",
    "lr_tfidf = Pipeline([('vect', tfidf),\n",
    "                     ('clf', SGDClassifier(loss='log', random_state=1))])\n",
    "\n",
    "gs_lr_tfidf = GridSearchCV(lr_tfidf, param_grid,\n",
    "                           scoring='accuracy',\n",
    "                           cv=5,\n",
    "                           verbose=2,\n",
    "                           n_jobs=-1)\n",
    "\n",
    "gs_lr_tfidf.fit(X_train, y_train)\n",
    "\n",
    "print('Best parameter set: %s ' % gs_lr_tfidf.best_params_)\n",
    "print('CV Accuracy: %.3f' % gs_lr_tfidf.best_score_)\n",
    "\n",
    "clf = gs_lr_tfidf.best_estimator_\n",
    "print('Test Accuracy: %.3f' % clf.score(X_test, y_test))\n"
   ]
  },
  {
   "cell_type": "markdown",
   "metadata": {},
   "source": [
    "# Kavanaugh"
   ]
  },
  {
   "cell_type": "code",
   "execution_count": 73,
   "metadata": {},
   "outputs": [
    {
     "name": "stdout",
     "output_type": "stream",
     "text": [
      "92\n"
     ]
    },
    {
     "data": {
      "text/plain": [
       "index           True\n",
       "case_num        True\n",
       "pet_name        True\n",
       "res_name        True\n",
       "pet_text        True\n",
       "res_text        True\n",
       "dateArgument    True\n",
       "partyWinning    True\n",
       "justiceName     True\n",
       "majority        True\n",
       "final_vote      True\n",
       "dtype: bool"
      ]
     },
     "execution_count": 73,
     "metadata": {},
     "output_type": "execute_result"
    }
   ],
   "source": [
    "kavanaugh_df=kavanaugh_df.reset_index()\n",
    "print(len(kavanaugh_df))\n",
    "kavanaugh_df.isnull().sum()==0"
   ]
  },
  {
   "cell_type": "code",
   "execution_count": 74,
   "metadata": {},
   "outputs": [
    {
     "data": {
      "text/plain": [
       "1.0    54\n",
       "0.0    38\n",
       "Name: final_vote, dtype: int64"
      ]
     },
     "execution_count": 74,
     "metadata": {},
     "output_type": "execute_result"
    }
   ],
   "source": [
    "kavanaugh_df.final_vote.value_counts()"
   ]
  },
  {
   "cell_type": "code",
   "execution_count": 75,
   "metadata": {},
   "outputs": [
    {
     "name": "stdout",
     "output_type": "stream",
     "text": [
      "Ratio\n",
      "0.5901639344262295\n",
      "\n",
      "SGD\n",
      "[[ 6  5]\n",
      " [ 7 13]]\n"
     ]
    },
    {
     "data": {
      "image/png": "[encoded data removed]",
      "text/plain": [
       "<Figure size 432x288 with 2 Axes>"
      ]
     },
     "metadata": {
      "needs_background": "light"
     },
     "output_type": "display_data"
    },
    {
     "name": "stdout",
     "output_type": "stream",
     "text": [
      "Train score: 0.9836065573770492\n",
      "Test score: 0.6129032258064516\n",
      "\n",
      "Logistic\n",
      "[[ 2  2]\n",
      " [11 16]]\n"
     ]
    },
    {
     "data": {
      "image/png": "[encoded data removed]",
      "text/plain": [
       "<Figure size 432x288 with 2 Axes>"
      ]
     },
     "metadata": {
      "needs_background": "light"
     },
     "output_type": "display_data"
    },
    {
     "name": "stdout",
     "output_type": "stream",
     "text": [
      "Train score: 0.8688524590163934\n",
      "Test score: 0.5806451612903226\n",
      "\n",
      "KNN\n",
      "[[11 12]\n",
      " [ 2  6]]\n"
     ]
    },
    {
     "data": {
      "image/png": "[encoded data removed]",
      "text/plain": [
       "<Figure size 432x288 with 2 Axes>"
      ]
     },
     "metadata": {
      "needs_background": "light"
     },
     "output_type": "display_data"
    },
    {
     "name": "stdout",
     "output_type": "stream",
     "text": [
      "Train score: 0.5573770491803278\n",
      "Test score: 0.5483870967741935\n",
      "\n",
      "SVM\n",
      "[[ 0  0]\n",
      " [13 18]]\n"
     ]
    },
    {
     "data": {
      "image/png": "[encoded data removed]",
      "text/plain": [
       "<Figure size 432x288 with 2 Axes>"
      ]
     },
     "metadata": {
      "needs_background": "light"
     },
     "output_type": "display_data"
    },
    {
     "name": "stdout",
     "output_type": "stream",
     "text": [
      "Train score: 0.5901639344262295\n",
      "Test score: 0.5806451612903226\n"
     ]
    }
   ],
   "source": [
    "all_models(kavanaugh_df)"
   ]
  },
  {
   "cell_type": "markdown",
   "metadata": {},
   "source": [
    "### Grid search SGD"
   ]
  },
  {
   "cell_type": "code",
   "execution_count": 76,
   "metadata": {},
   "outputs": [
    {
     "name": "stdout",
     "output_type": "stream",
     "text": [
      "dict_keys(['analyzer', 'binary', 'decode_error', 'dtype', 'encoding', 'input', 'lowercase', 'max_df', 'max_features', 'min_df', 'ngram_range', 'norm', 'preprocessor', 'smooth_idf', 'stop_words', 'strip_accents', 'sublinear_tf', 'token_pattern', 'tokenizer', 'use_idf', 'vocabulary'])\n",
      "Fitting 5 folds for each of 1024 candidates, totalling 5120 fits\n"
     ]
    },
    {
     "name": "stderr",
     "output_type": "stream",
     "text": [
      "[nltk_data] Downloading package stopwords to\n",
      "[nltk_data]     /Users/anndi.russell/nltk_data...\n",
      "[nltk_data]   Package stopwords is already up-to-date!\n",
      "[Parallel(n_jobs=-1)]: Using backend LokyBackend with 12 concurrent workers.\n",
      "[Parallel(n_jobs=-1)]: Done  20 tasks      | elapsed:    0.4s\n",
      "[Parallel(n_jobs=-1)]: Done 186 tasks      | elapsed:    8.9s\n",
      "[Parallel(n_jobs=-1)]: Done 389 tasks      | elapsed:   19.5s\n",
      "[Parallel(n_jobs=-1)]: Done 672 tasks      | elapsed:   35.6s\n",
      "[Parallel(n_jobs=-1)]: Done 1037 tasks      | elapsed:   55.1s\n",
      "[Parallel(n_jobs=-1)]: Done 1482 tasks      | elapsed:  1.3min\n",
      "[Parallel(n_jobs=-1)]: Done 2009 tasks      | elapsed:  1.8min\n",
      "[Parallel(n_jobs=-1)]: Done 2616 tasks      | elapsed:  2.3min\n",
      "[Parallel(n_jobs=-1)]: Done 3305 tasks      | elapsed:  3.0min\n",
      "[Parallel(n_jobs=-1)]: Done 4074 tasks      | elapsed:  3.7min\n",
      "[Parallel(n_jobs=-1)]: Done 4925 tasks      | elapsed:  4.4min\n"
     ]
    },
    {
     "name": "stdout",
     "output_type": "stream",
     "text": [
      "Best parameter set: {'clf__alpha': 0.001, 'clf__n_iter_no_change': 5, 'clf__penalty': 'l1', 'vect__ngram_range': (1, 2), 'vect__stop_words': None, 'vect__tokenizer': <function tokenizer at 0x7fc283c05950>, 'vect__use_idf': True} \n",
      "CV Accuracy: 0.654\n",
      "Test Accuracy: 0.613\n"
     ]
    },
    {
     "name": "stderr",
     "output_type": "stream",
     "text": [
      "[Parallel(n_jobs=-1)]: Done 5120 out of 5120 | elapsed: 21.4min finished\n"
     ]
    }
   ],
   "source": [
    "porter = PorterStemmer()\n",
    "\n",
    "def tokenizer(text):\n",
    "    return text.split()\n",
    "\n",
    "def tokenizerporter(text):\n",
    "    return [porter.stem(word) for word in text.split()]\n",
    "\n",
    "X=np.array(kavanaugh_df.pet_text)\n",
    "y=np.array(kavanaugh_df.final_vote)\n",
    "\n",
    "X_train, X_test, y_train, y_test = train_test_split(X, y, test_size=0.33,stratify=y,random_state=42)\n",
    "\n",
    "tfidf = TfidfVectorizer()\n",
    "\n",
    "print(tfidf.get_params().keys())\n",
    "\n",
    "nltk.download('stopwords')\n",
    "stop = stopwords.words('english')\n",
    "\n",
    "\n",
    "param_grid = [{'vect__ngram_range': [(1, 1), (1, 2)],# unigrams or bigrams\n",
    "               'vect__stop_words': [stop, None],\n",
    "               'vect__tokenizer': [tokenizer, tokenizerporter],\n",
    "               'vect__use_idf':[True,False],\n",
    "               'clf__penalty': ['l1', 'l2'],\n",
    "               'clf__n_iter_no_change': [3,5,7,9],\n",
    "               'clf__alpha': [1e-4, 1e-3, 1e-2, 1e-1, 1e0, 1e1, 1e2, 1e3]},\n",
    "              ]\n",
    "\n",
    "\n",
    "lr_tfidf = Pipeline([('vect', tfidf),\n",
    "                     ('clf', SGDClassifier(loss='log', random_state=1))])\n",
    "\n",
    "gs_lr_tfidf = GridSearchCV(lr_tfidf, param_grid,\n",
    "                           scoring='accuracy',\n",
    "                           cv=5,\n",
    "                           verbose=2,\n",
    "                           n_jobs=-1)\n",
    "\n",
    "gs_lr_tfidf.fit(X_train, y_train)\n",
    "\n",
    "print('Best parameter set: %s ' % gs_lr_tfidf.best_params_)\n",
    "print('CV Accuracy: %.3f' % gs_lr_tfidf.best_score_)\n",
    "\n",
    "clf = gs_lr_tfidf.best_estimator_\n",
    "print('Test Accuracy: %.3f' % clf.score(X_test, y_test))\n"
   ]
  },
  {
   "cell_type": "markdown",
   "metadata": {},
   "source": [
    "# Thomas"
   ]
  },
  {
   "cell_type": "code",
   "execution_count": 77,
   "metadata": {},
   "outputs": [
    {
     "name": "stdout",
     "output_type": "stream",
     "text": [
      "796\n"
     ]
    },
    {
     "data": {
      "text/plain": [
       "index            True\n",
       "case_num         True\n",
       "pet_name         True\n",
       "res_name         True\n",
       "pet_text         True\n",
       "res_text         True\n",
       "dateArgument    False\n",
       "partyWinning     True\n",
       "justiceName      True\n",
       "majority         True\n",
       "final_vote       True\n",
       "dtype: bool"
      ]
     },
     "execution_count": 77,
     "metadata": {},
     "output_type": "execute_result"
    }
   ],
   "source": [
    "thomas_df=thomas_df.reset_index()\n",
    "print(len(thomas_df))\n",
    "thomas_df.isnull().sum()==0"
   ]
  },
  {
   "cell_type": "code",
   "execution_count": 78,
   "metadata": {},
   "outputs": [
    {
     "data": {
      "text/plain": [
       "1.0    462\n",
       "0.0    334\n",
       "Name: final_vote, dtype: int64"
      ]
     },
     "execution_count": 78,
     "metadata": {},
     "output_type": "execute_result"
    }
   ],
   "source": [
    "thomas_df.final_vote.value_counts()"
   ]
  },
  {
   "cell_type": "code",
   "execution_count": 79,
   "metadata": {},
   "outputs": [
    {
     "name": "stdout",
     "output_type": "stream",
     "text": [
      "Ratio\n",
      "0.5797373358348968\n",
      "\n",
      "SGD\n",
      "[[  4   3]\n",
      " [106 150]]\n"
     ]
    },
    {
     "data": {
      "image/png": "[encoded data removed]",
      "text/plain": [
       "<Figure size 432x288 with 2 Axes>"
      ]
     },
     "metadata": {
      "needs_background": "light"
     },
     "output_type": "display_data"
    },
    {
     "name": "stdout",
     "output_type": "stream",
     "text": [
      "Train score: 0.6022514071294559\n",
      "Test score: 0.5855513307984791\n",
      "\n",
      "Logistic\n",
      "[[  4   3]\n",
      " [106 150]]\n"
     ]
    },
    {
     "data": {
      "image/png": "[encoded data removed]",
      "text/plain": [
       "<Figure size 432x288 with 2 Axes>"
      ]
     },
     "metadata": {
      "needs_background": "light"
     },
     "output_type": "display_data"
    },
    {
     "name": "stdout",
     "output_type": "stream",
     "text": [
      "Train score: 0.5966228893058161\n",
      "Test score: 0.5855513307984791\n",
      "\n",
      "KNN\n",
      "[[  4   3]\n",
      " [106 150]]\n"
     ]
    },
    {
     "data": {
      "image/png": "[encoded data removed]",
      "text/plain": [
       "<Figure size 432x288 with 2 Axes>"
      ]
     },
     "metadata": {
      "needs_background": "light"
     },
     "output_type": "display_data"
    },
    {
     "name": "stdout",
     "output_type": "stream",
     "text": [
      "Train score: 0.5928705440900562\n",
      "Test score: 0.5855513307984791\n",
      "\n",
      "SVM\n",
      "[[  0   0]\n",
      " [110 153]]\n"
     ]
    },
    {
     "data": {
      "image/png": "[encoded data removed]",
      "text/plain": [
       "<Figure size 432x288 with 2 Axes>"
      ]
     },
     "metadata": {
      "needs_background": "light"
     },
     "output_type": "display_data"
    },
    {
     "name": "stdout",
     "output_type": "stream",
     "text": [
      "Train score: 0.5797373358348968\n",
      "Test score: 0.5817490494296578\n"
     ]
    }
   ],
   "source": [
    "all_models(thomas_df)"
   ]
  },
  {
   "cell_type": "markdown",
   "metadata": {},
   "source": [
    "### Grid search SGD"
   ]
  },
  {
   "cell_type": "code",
   "execution_count": 80,
   "metadata": {},
   "outputs": [
    {
     "name": "stdout",
     "output_type": "stream",
     "text": [
      "dict_keys(['analyzer', 'binary', 'decode_error', 'dtype', 'encoding', 'input', 'lowercase', 'max_df', 'max_features', 'min_df', 'ngram_range', 'norm', 'preprocessor', 'smooth_idf', 'stop_words', 'strip_accents', 'sublinear_tf', 'token_pattern', 'tokenizer', 'use_idf', 'vocabulary'])\n",
      "Fitting 5 folds for each of 1024 candidates, totalling 5120 fits\n"
     ]
    },
    {
     "name": "stderr",
     "output_type": "stream",
     "text": [
      "[nltk_data] Downloading package stopwords to\n",
      "[nltk_data]     /Users/anndi.russell/nltk_data...\n",
      "[nltk_data]   Package stopwords is already up-to-date!\n",
      "[Parallel(n_jobs=-1)]: Using backend LokyBackend with 12 concurrent workers.\n",
      "[Parallel(n_jobs=-1)]: Done  17 tasks      | elapsed:    0.2s\n",
      "[Parallel(n_jobs=-1)]: Done 388 tasks      | elapsed:    7.5s\n",
      "[Parallel(n_jobs=-1)]: Done 605 tasks      | elapsed:   12.7s\n",
      "[Parallel(n_jobs=-1)]: Done 888 tasks      | elapsed:   19.7s\n",
      "[Parallel(n_jobs=-1)]: Done 1253 tasks      | elapsed:   29.0s\n",
      "[Parallel(n_jobs=-1)]: Done 1698 tasks      | elapsed:   39.6s\n",
      "[Parallel(n_jobs=-1)]: Done 2230 tasks      | elapsed:  9.3min\n",
      "[Parallel(n_jobs=-1)]: Done 4620 tasks      | elapsed:  9.5min\n"
     ]
    },
    {
     "name": "stdout",
     "output_type": "stream",
     "text": [
      "Best parameter set: {'clf__alpha': 0.001, 'clf__n_iter_no_change': 3, 'clf__penalty': 'l1', 'vect__ngram_range': (1, 1), 'vect__stop_words': None, 'vect__tokenizer': <function tokenizerporter at 0x7fc28360d3b0>, 'vect__use_idf': False} \n",
      "CV Accuracy: 0.595\n",
      "Test Accuracy: 0.586\n"
     ]
    },
    {
     "name": "stderr",
     "output_type": "stream",
     "text": [
      "[Parallel(n_jobs=-1)]: Done 5120 out of 5120 | elapsed:  9.6min finished\n"
     ]
    }
   ],
   "source": [
    "porter = PorterStemmer()\n",
    "\n",
    "def tokenizer(text):\n",
    "    return text.split()\n",
    "\n",
    "def tokenizerporter(text):\n",
    "    return [porter.stem(word) for word in text.split()]\n",
    "\n",
    "X=np.array(thomas_df.pet_text)\n",
    "y=np.array(thomas_df.final_vote)\n",
    "\n",
    "X_train, X_test, y_train, y_test = train_test_split(X, y, test_size=0.33,stratify=y,random_state=42)\n",
    "\n",
    "tfidf = TfidfVectorizer()\n",
    "\n",
    "print(tfidf.get_params().keys())\n",
    "\n",
    "nltk.download('stopwords')\n",
    "stop = stopwords.words('english')\n",
    "\n",
    "\n",
    "param_grid = [{'vect__ngram_range': [(1, 1), (1, 2)],# unigrams or bigrams\n",
    "               'vect__stop_words': [stop, None],\n",
    "               'vect__tokenizer': [tokenizer, tokenizerporter],\n",
    "               'vect__use_idf':[True,False],\n",
    "               'clf__penalty': ['l1', 'l2'],\n",
    "               'clf__n_iter_no_change': [3,5,7,9],\n",
    "               'clf__alpha': [1e-4, 1e-3, 1e-2, 1e-1, 1e0, 1e1, 1e2, 1e3]},\n",
    "              ]\n",
    "\n",
    "\n",
    "lr_tfidf = Pipeline([('vect', tfidf),\n",
    "                     ('clf', SGDClassifier(loss='log', random_state=1))])\n",
    "\n",
    "gs_lr_tfidf = GridSearchCV(lr_tfidf, param_grid,\n",
    "                           scoring='accuracy',\n",
    "                           cv=5,\n",
    "                           verbose=2,\n",
    "                           n_jobs=-1)\n",
    "\n",
    "gs_lr_tfidf.fit(X_train, y_train)\n",
    "\n",
    "print('Best parameter set: %s ' % gs_lr_tfidf.best_params_)\n",
    "print('CV Accuracy: %.3f' % gs_lr_tfidf.best_score_)\n",
    "\n",
    "clf = gs_lr_tfidf.best_estimator_\n",
    "print('Test Accuracy: %.3f' % clf.score(X_test, y_test))\n",
    "\n",
    "\n"
   ]
  },
  {
   "cell_type": "markdown",
   "metadata": {},
   "source": [
    "# Alito"
   ]
  },
  {
   "cell_type": "code",
   "execution_count": 81,
   "metadata": {},
   "outputs": [
    {
     "name": "stdout",
     "output_type": "stream",
     "text": [
      "738\n"
     ]
    },
    {
     "data": {
      "text/plain": [
       "index            True\n",
       "case_num         True\n",
       "pet_name         True\n",
       "res_name         True\n",
       "pet_text         True\n",
       "res_text         True\n",
       "dateArgument    False\n",
       "partyWinning     True\n",
       "justiceName      True\n",
       "majority         True\n",
       "final_vote       True\n",
       "dtype: bool"
      ]
     },
     "execution_count": 81,
     "metadata": {},
     "output_type": "execute_result"
    }
   ],
   "source": [
    "\n",
    "alito_df=alito_df.reset_index()\n",
    "print(len(alito_df))\n",
    "alito_df.isnull().sum()==0"
   ]
  },
  {
   "cell_type": "code",
   "execution_count": 82,
   "metadata": {},
   "outputs": [
    {
     "data": {
      "text/plain": [
       "1.0    446\n",
       "0.0    292\n",
       "Name: final_vote, dtype: int64"
      ]
     },
     "execution_count": 82,
     "metadata": {},
     "output_type": "execute_result"
    }
   ],
   "source": [
    "alito_df.final_vote.value_counts()"
   ]
  },
  {
   "cell_type": "code",
   "execution_count": 83,
   "metadata": {},
   "outputs": [
    {
     "name": "stdout",
     "output_type": "stream",
     "text": [
      "Ratio\n",
      "0.6052631578947368\n",
      "\n",
      "SGD\n",
      "[[ 28  30]\n",
      " [ 69 117]]\n"
     ]
    },
    {
     "data": {
      "image/png": "[encoded data removed]",
      "text/plain": [
       "<Figure size 432x288 with 2 Axes>"
      ]
     },
     "metadata": {
      "needs_background": "light"
     },
     "output_type": "display_data"
    },
    {
     "name": "stdout",
     "output_type": "stream",
     "text": [
      "Train score: 0.9534412955465587\n",
      "Test score: 0.5942622950819673\n",
      "\n",
      "Logistic\n",
      "[[ 14   5]\n",
      " [ 83 142]]\n"
     ]
    },
    {
     "data": {
      "image/png": "[encoded data removed]",
      "text/plain": [
       "<Figure size 432x288 with 2 Axes>"
      ]
     },
     "metadata": {
      "needs_background": "light"
     },
     "output_type": "display_data"
    },
    {
     "name": "stdout",
     "output_type": "stream",
     "text": [
      "Train score: 0.8238866396761133\n",
      "Test score: 0.639344262295082\n",
      "\n",
      "KNN\n",
      "[[ 12   9]\n",
      " [ 85 138]]\n"
     ]
    },
    {
     "data": {
      "image/png": "[encoded data removed]",
      "text/plain": [
       "<Figure size 432x288 with 2 Axes>"
      ]
     },
     "metadata": {
      "needs_background": "light"
     },
     "output_type": "display_data"
    },
    {
     "name": "stdout",
     "output_type": "stream",
     "text": [
      "Train score: 0.6781376518218624\n",
      "Test score: 0.6147540983606558\n",
      "\n",
      "SVM\n",
      "[[  0   0]\n",
      " [ 97 147]]\n"
     ]
    },
    {
     "data": {
      "image/png": "[encoded data removed]",
      "text/plain": [
       "<Figure size 432x288 with 2 Axes>"
      ]
     },
     "metadata": {
      "needs_background": "light"
     },
     "output_type": "display_data"
    },
    {
     "name": "stdout",
     "output_type": "stream",
     "text": [
      "Train score: 0.6052631578947368\n",
      "Test score: 0.6024590163934426\n"
     ]
    }
   ],
   "source": [
    "all_models(alito_df)"
   ]
  },
  {
   "cell_type": "markdown",
   "metadata": {},
   "source": [
    "### Grid search SGD"
   ]
  },
  {
   "cell_type": "code",
   "execution_count": 84,
   "metadata": {},
   "outputs": [
    {
     "name": "stdout",
     "output_type": "stream",
     "text": [
      "dict_keys(['analyzer', 'binary', 'decode_error', 'dtype', 'encoding', 'input', 'lowercase', 'max_df', 'max_features', 'min_df', 'ngram_range', 'norm', 'preprocessor', 'smooth_idf', 'stop_words', 'strip_accents', 'sublinear_tf', 'token_pattern', 'tokenizer', 'use_idf', 'vocabulary'])\n",
      "Fitting 5 folds for each of 1024 candidates, totalling 5120 fits\n"
     ]
    },
    {
     "name": "stderr",
     "output_type": "stream",
     "text": [
      "[nltk_data] Downloading package stopwords to\n",
      "[nltk_data]     /Users/anndi.russell/nltk_data...\n",
      "[nltk_data]   Package stopwords is already up-to-date!\n",
      "[Parallel(n_jobs=-1)]: Using backend LokyBackend with 12 concurrent workers.\n",
      "[Parallel(n_jobs=-1)]: Done  17 tasks      | elapsed:    1.2s\n",
      "[Parallel(n_jobs=-1)]: Done 138 tasks      | elapsed:   36.8s\n",
      "[Parallel(n_jobs=-1)]: Done 341 tasks      | elapsed:  1.6min\n",
      "[Parallel(n_jobs=-1)]: Done 624 tasks      | elapsed:  2.9min\n",
      "[Parallel(n_jobs=-1)]: Done 989 tasks      | elapsed:  4.6min\n",
      "[Parallel(n_jobs=-1)]: Done 1434 tasks      | elapsed:  6.4min\n",
      "[Parallel(n_jobs=-1)]: Done 1961 tasks      | elapsed:  8.6min\n",
      "[Parallel(n_jobs=-1)]: Done 2568 tasks      | elapsed: 11.4min\n",
      "[Parallel(n_jobs=-1)]: Done 3257 tasks      | elapsed: 14.2min\n",
      "[Parallel(n_jobs=-1)]: Done 4026 tasks      | elapsed: 17.5min\n",
      "[Parallel(n_jobs=-1)]: Done 4877 tasks      | elapsed: 79.3min\n",
      "[Parallel(n_jobs=-1)]: Done 5120 out of 5120 | elapsed: 80.4min finished\n"
     ]
    },
    {
     "name": "stdout",
     "output_type": "stream",
     "text": [
      "Best parameter set: {'clf__alpha': 0.001, 'clf__n_iter_no_change': 9, 'clf__penalty': 'l2', 'vect__ngram_range': (1, 2), 'vect__stop_words': ['i', 'me', 'my', 'myself', 'we', 'our', 'ours', 'ourselves', 'you', \"you're\", \"you've\", \"you'll\", \"you'd\", 'your', 'yours', 'yourself', 'yourselves', 'he', 'him', 'his', 'himself', 'she', \"she's\", 'her', 'hers', 'herself', 'it', \"it's\", 'its', 'itself', 'they', 'them', 'their', 'theirs', 'themselves', 'what', 'which', 'who', 'whom', 'this', 'that', \"that'll\", 'these', 'those', 'am', 'is', 'are', 'was', 'were', 'be', 'been', 'being', 'have', 'has', 'had', 'having', 'do', 'does', 'did', 'doing', 'a', 'an', 'the', 'and', 'but', 'if', 'or', 'because', 'as', 'until', 'while', 'of', 'at', 'by', 'for', 'with', 'about', 'against', 'between', 'into', 'through', 'during', 'before', 'after', 'above', 'below', 'to', 'from', 'up', 'down', 'in', 'out', 'on', 'off', 'over', 'under', 'again', 'further', 'then', 'once', 'here', 'there', 'when', 'where', 'why', 'how', 'all', 'any', 'both', 'each', 'few', 'more', 'most', 'other', 'some', 'such', 'no', 'nor', 'not', 'only', 'own', 'same', 'so', 'than', 'too', 'very', 's', 't', 'can', 'will', 'just', 'don', \"don't\", 'should', \"should've\", 'now', 'd', 'll', 'm', 'o', 're', 've', 'y', 'ain', 'aren', \"aren't\", 'couldn', \"couldn't\", 'didn', \"didn't\", 'doesn', \"doesn't\", 'hadn', \"hadn't\", 'hasn', \"hasn't\", 'haven', \"haven't\", 'isn', \"isn't\", 'ma', 'mightn', \"mightn't\", 'mustn', \"mustn't\", 'needn', \"needn't\", 'shan', \"shan't\", 'shouldn', \"shouldn't\", 'wasn', \"wasn't\", 'weren', \"weren't\", 'won', \"won't\", 'wouldn', \"wouldn't\"], 'vect__tokenizer': <function tokenizer at 0x7fc283c15440>, 'vect__use_idf': True} \n",
      "CV Accuracy: 0.674\n",
      "Test Accuracy: 0.680\n"
     ]
    }
   ],
   "source": [
    "porter = PorterStemmer()\n",
    "\n",
    "def tokenizer(text):\n",
    "    return text.split()\n",
    "\n",
    "def tokenizerporter(text):\n",
    "    return [porter.stem(word) for word in text.split()]\n",
    "\n",
    "X=np.array(alito_df.pet_text)\n",
    "y=np.array(alito_df.final_vote)\n",
    "\n",
    "X_train, X_test, y_train, y_test = train_test_split(X, y, test_size=0.33,stratify=y,random_state=42)\n",
    "\n",
    "tfidf = TfidfVectorizer()\n",
    "\n",
    "print(tfidf.get_params().keys())\n",
    "\n",
    "nltk.download('stopwords')\n",
    "stop = stopwords.words('english')\n",
    "\n",
    "\n",
    "param_grid = [{'vect__ngram_range': [(1, 1), (1, 2)],# unigrams or bigrams\n",
    "               'vect__stop_words': [stop, None],\n",
    "               'vect__tokenizer': [tokenizer, tokenizerporter],\n",
    "               'vect__use_idf':[True,False],\n",
    "               'clf__penalty': ['l1', 'l2'],\n",
    "               'clf__n_iter_no_change': [3,5,7,9],\n",
    "               'clf__alpha': [1e-4, 1e-3, 1e-2, 1e-1, 1e0, 1e1, 1e2, 1e3]},\n",
    "              ]\n",
    "\n",
    "\n",
    "lr_tfidf = Pipeline([('vect', tfidf),\n",
    "                     ('clf', SGDClassifier(loss='log', random_state=1))])\n",
    "\n",
    "gs_lr_tfidf = GridSearchCV(lr_tfidf, param_grid,\n",
    "                           scoring='accuracy',\n",
    "                           cv=5,\n",
    "                           verbose=2,\n",
    "                           n_jobs=-1)\n",
    "\n",
    "gs_lr_tfidf.fit(X_train, y_train)\n",
    "\n",
    "print('Best parameter set: %s ' % gs_lr_tfidf.best_params_)\n",
    "print('CV Accuracy: %.3f' % gs_lr_tfidf.best_score_)\n",
    "\n",
    "clf = gs_lr_tfidf.best_estimator_\n",
    "print('Test Accuracy: %.3f' % clf.score(X_test, y_test))\n",
    "\n",
    "\n"
   ]
  },
  {
   "cell_type": "markdown",
   "metadata": {},
   "source": [
    "# Gorsuch"
   ]
  },
  {
   "cell_type": "code",
   "execution_count": 85,
   "metadata": {},
   "outputs": [
    {
     "name": "stdout",
     "output_type": "stream",
     "text": [
      "154\n"
     ]
    },
    {
     "data": {
      "text/plain": [
       "index           True\n",
       "case_num        True\n",
       "pet_name        True\n",
       "res_name        True\n",
       "pet_text        True\n",
       "res_text        True\n",
       "dateArgument    True\n",
       "partyWinning    True\n",
       "justiceName     True\n",
       "majority        True\n",
       "final_vote      True\n",
       "dtype: bool"
      ]
     },
     "execution_count": 85,
     "metadata": {},
     "output_type": "execute_result"
    }
   ],
   "source": [
    "gorsuch_df=gorsuch_df.reset_index()\n",
    "print(len(gorsuch_df))\n",
    "gorsuch_df.isnull().sum()==0"
   ]
  },
  {
   "cell_type": "code",
   "execution_count": 86,
   "metadata": {},
   "outputs": [
    {
     "data": {
      "text/plain": [
       "1.0    92\n",
       "0.0    62\n",
       "Name: final_vote, dtype: int64"
      ]
     },
     "execution_count": 86,
     "metadata": {},
     "output_type": "execute_result"
    }
   ],
   "source": [
    "gorsuch_df.final_vote.value_counts()"
   ]
  },
  {
   "cell_type": "code",
   "execution_count": 87,
   "metadata": {},
   "outputs": [
    {
     "name": "stdout",
     "output_type": "stream",
     "text": [
      "Ratio\n",
      "0.6019417475728155\n",
      "\n",
      "SGD\n",
      "[[15 13]\n",
      " [ 6 17]]\n"
     ]
    },
    {
     "data": {
      "image/png": "[encoded data removed]",
      "text/plain": [
       "<Figure size 432x288 with 2 Axes>"
      ]
     },
     "metadata": {
      "needs_background": "light"
     },
     "output_type": "display_data"
    },
    {
     "name": "stdout",
     "output_type": "stream",
     "text": [
      "Train score: 0.9514563106796117\n",
      "Test score: 0.6274509803921569\n",
      "\n",
      "Logistic\n",
      "[[15 11]\n",
      " [ 6 19]]\n"
     ]
    },
    {
     "data": {
      "image/png": "[encoded data removed]",
      "text/plain": [
       "<Figure size 432x288 with 2 Axes>"
      ]
     },
     "metadata": {
      "needs_background": "light"
     },
     "output_type": "display_data"
    },
    {
     "name": "stdout",
     "output_type": "stream",
     "text": [
      "Train score: 0.9029126213592233\n",
      "Test score: 0.6666666666666666\n",
      "\n",
      "KNN\n",
      "[[ 7  2]\n",
      " [14 28]]\n"
     ]
    },
    {
     "data": {
      "image/png": "[encoded data removed]",
      "text/plain": [
       "<Figure size 432x288 with 2 Axes>"
      ]
     },
     "metadata": {
      "needs_background": "light"
     },
     "output_type": "display_data"
    },
    {
     "name": "stdout",
     "output_type": "stream",
     "text": [
      "Train score: 0.6310679611650486\n",
      "Test score: 0.6862745098039216\n",
      "\n",
      "SVM\n",
      "[[ 0  0]\n",
      " [21 30]]\n"
     ]
    },
    {
     "data": {
      "image/png": "[encoded data removed]",
      "text/plain": [
       "<Figure size 432x288 with 2 Axes>"
      ]
     },
     "metadata": {
      "needs_background": "light"
     },
     "output_type": "display_data"
    },
    {
     "name": "stdout",
     "output_type": "stream",
     "text": [
      "Train score: 0.6019417475728155\n",
      "Test score: 0.5882352941176471\n"
     ]
    }
   ],
   "source": [
    "all_models(gorsuch_df)"
   ]
  },
  {
   "cell_type": "markdown",
   "metadata": {},
   "source": [
    "### Grid search SGD\n"
   ]
  },
  {
   "cell_type": "code",
   "execution_count": 88,
   "metadata": {},
   "outputs": [
    {
     "name": "stdout",
     "output_type": "stream",
     "text": [
      "dict_keys(['analyzer', 'binary', 'decode_error', 'dtype', 'encoding', 'input', 'lowercase', 'max_df', 'max_features', 'min_df', 'ngram_range', 'norm', 'preprocessor', 'smooth_idf', 'stop_words', 'strip_accents', 'sublinear_tf', 'token_pattern', 'tokenizer', 'use_idf', 'vocabulary'])\n",
      "Fitting 5 folds for each of 1024 candidates, totalling 5120 fits\n"
     ]
    },
    {
     "name": "stderr",
     "output_type": "stream",
     "text": [
      "[nltk_data] Downloading package stopwords to\n",
      "[nltk_data]     /Users/anndi.russell/nltk_data...\n",
      "[nltk_data]   Package stopwords is already up-to-date!\n",
      "[Parallel(n_jobs=-1)]: Using backend LokyBackend with 12 concurrent workers.\n",
      "[Parallel(n_jobs=-1)]: Done  20 tasks      | elapsed:    0.4s\n",
      "[Parallel(n_jobs=-1)]: Done 186 tasks      | elapsed:   12.7s\n",
      "[Parallel(n_jobs=-1)]: Done 389 tasks      | elapsed:   28.3s\n",
      "[Parallel(n_jobs=-1)]: Done 672 tasks      | elapsed:   48.8s\n",
      "[Parallel(n_jobs=-1)]: Done 1037 tasks      | elapsed:  1.3min\n",
      "[Parallel(n_jobs=-1)]: Done 1482 tasks      | elapsed:  1.9min\n",
      "[Parallel(n_jobs=-1)]: Done 2009 tasks      | elapsed:  2.6min\n",
      "[Parallel(n_jobs=-1)]: Done 2616 tasks      | elapsed:  3.5min\n",
      "[Parallel(n_jobs=-1)]: Done 3305 tasks      | elapsed:  4.4min\n",
      "[Parallel(n_jobs=-1)]: Done 4074 tasks      | elapsed:  5.4min\n",
      "[Parallel(n_jobs=-1)]: Done 4925 tasks      | elapsed:  6.6min\n"
     ]
    },
    {
     "name": "stdout",
     "output_type": "stream",
     "text": [
      "Best parameter set: {'clf__alpha': 0.001, 'clf__n_iter_no_change': 3, 'clf__penalty': 'l1', 'vect__ngram_range': (1, 2), 'vect__stop_words': ['i', 'me', 'my', 'myself', 'we', 'our', 'ours', 'ourselves', 'you', \"you're\", \"you've\", \"you'll\", \"you'd\", 'your', 'yours', 'yourself', 'yourselves', 'he', 'him', 'his', 'himself', 'she', \"she's\", 'her', 'hers', 'herself', 'it', \"it's\", 'its', 'itself', 'they', 'them', 'their', 'theirs', 'themselves', 'what', 'which', 'who', 'whom', 'this', 'that', \"that'll\", 'these', 'those', 'am', 'is', 'are', 'was', 'were', 'be', 'been', 'being', 'have', 'has', 'had', 'having', 'do', 'does', 'did', 'doing', 'a', 'an', 'the', 'and', 'but', 'if', 'or', 'because', 'as', 'until', 'while', 'of', 'at', 'by', 'for', 'with', 'about', 'against', 'between', 'into', 'through', 'during', 'before', 'after', 'above', 'below', 'to', 'from', 'up', 'down', 'in', 'out', 'on', 'off', 'over', 'under', 'again', 'further', 'then', 'once', 'here', 'there', 'when', 'where', 'why', 'how', 'all', 'any', 'both', 'each', 'few', 'more', 'most', 'other', 'some', 'such', 'no', 'nor', 'not', 'only', 'own', 'same', 'so', 'than', 'too', 'very', 's', 't', 'can', 'will', 'just', 'don', \"don't\", 'should', \"should've\", 'now', 'd', 'll', 'm', 'o', 're', 've', 'y', 'ain', 'aren', \"aren't\", 'couldn', \"couldn't\", 'didn', \"didn't\", 'doesn', \"doesn't\", 'hadn', \"hadn't\", 'hasn', \"hasn't\", 'haven', \"haven't\", 'isn', \"isn't\", 'ma', 'mightn', \"mightn't\", 'mustn', \"mustn't\", 'needn', \"needn't\", 'shan', \"shan't\", 'shouldn', \"shouldn't\", 'wasn', \"wasn't\", 'weren', \"weren't\", 'won', \"won't\", 'wouldn', \"wouldn't\"], 'vect__tokenizer': <function tokenizer at 0x7fc2688c6680>, 'vect__use_idf': False} \n",
      "CV Accuracy: 0.699\n",
      "Test Accuracy: 0.627\n"
     ]
    },
    {
     "name": "stderr",
     "output_type": "stream",
     "text": [
      "[Parallel(n_jobs=-1)]: Done 5120 out of 5120 | elapsed:  6.9min finished\n"
     ]
    }
   ],
   "source": [
    "porter = PorterStemmer()\n",
    "\n",
    "def tokenizer(text):\n",
    "    return text.split()\n",
    "\n",
    "def tokenizerporter(text):\n",
    "    return [porter.stem(word) for word in text.split()]\n",
    "\n",
    "X=np.array(gorsuch_df.pet_text)\n",
    "y=np.array(gorsuch_df.final_vote)\n",
    "\n",
    "X_train, X_test, y_train, y_test = train_test_split(X, y, test_size=0.33,stratify=y,random_state=42)\n",
    "\n",
    "tfidf = TfidfVectorizer()\n",
    "\n",
    "print(tfidf.get_params().keys())\n",
    "\n",
    "nltk.download('stopwords')\n",
    "stop = stopwords.words('english')\n",
    "\n",
    "\n",
    "param_grid = [{'vect__ngram_range': [(1, 1), (1, 2)],# unigrams or bigrams\n",
    "               'vect__stop_words': [stop, None],\n",
    "               'vect__tokenizer': [tokenizer, tokenizerporter],\n",
    "               'vect__use_idf':[True,False],\n",
    "               'clf__penalty': ['l1', 'l2'],\n",
    "               'clf__n_iter_no_change': [3,5,7,9],\n",
    "               'clf__alpha': [1e-4, 1e-3, 1e-2, 1e-1, 1e0, 1e1, 1e2, 1e3]},\n",
    "              ]\n",
    "\n",
    "\n",
    "lr_tfidf = Pipeline([('vect', tfidf),\n",
    "                     ('clf', SGDClassifier(loss='log', random_state=1))])\n",
    "\n",
    "gs_lr_tfidf = GridSearchCV(lr_tfidf, param_grid,\n",
    "                           scoring='accuracy',\n",
    "                           cv=5,\n",
    "                           verbose=2,\n",
    "                           n_jobs=-1)\n",
    "\n",
    "gs_lr_tfidf.fit(X_train, y_train)\n",
    "\n",
    "print('Best parameter set: %s ' % gs_lr_tfidf.best_params_)\n",
    "print('CV Accuracy: %.3f' % gs_lr_tfidf.best_score_)\n",
    "\n",
    "clf = gs_lr_tfidf.best_estimator_\n",
    "print('Test Accuracy: %.3f' % clf.score(X_test, y_test))\n",
    "\n",
    "\n"
   ]
  },
  {
   "cell_type": "markdown",
   "metadata": {},
   "source": [
    "# Roberts"
   ]
  },
  {
   "cell_type": "code",
   "execution_count": 89,
   "metadata": {},
   "outputs": [
    {
     "name": "stdout",
     "output_type": "stream",
     "text": [
      "752\n"
     ]
    },
    {
     "data": {
      "text/plain": [
       "index            True\n",
       "case_num         True\n",
       "pet_name         True\n",
       "res_name         True\n",
       "pet_text         True\n",
       "res_text         True\n",
       "dateArgument    False\n",
       "partyWinning     True\n",
       "justiceName      True\n",
       "majority         True\n",
       "final_vote       True\n",
       "dtype: bool"
      ]
     },
     "execution_count": 89,
     "metadata": {},
     "output_type": "execute_result"
    }
   ],
   "source": [
    "roberts_df=roberts_df.reset_index()\n",
    "print(len(roberts_df))\n",
    "roberts_df.isnull().sum()==0"
   ]
  },
  {
   "cell_type": "code",
   "execution_count": 90,
   "metadata": {},
   "outputs": [
    {
     "data": {
      "text/plain": [
       "1.0    488\n",
       "0.0    264\n",
       "Name: final_vote, dtype: int64"
      ]
     },
     "execution_count": 90,
     "metadata": {},
     "output_type": "execute_result"
    }
   ],
   "source": [
    "roberts_df.final_vote.value_counts()"
   ]
  },
  {
   "cell_type": "code",
   "execution_count": 91,
   "metadata": {},
   "outputs": [
    {
     "name": "stdout",
     "output_type": "stream",
     "text": [
      "Ratio\n",
      "0.6481113320079522\n",
      "\n",
      "SGD\n",
      "[[ 24  24]\n",
      " [ 63 138]]\n"
     ]
    },
    {
     "data": {
      "image/png": "[encoded data removed]",
      "text/plain": [
       "<Figure size 432x288 with 2 Axes>"
      ]
     },
     "metadata": {
      "needs_background": "light"
     },
     "output_type": "display_data"
    },
    {
     "name": "stdout",
     "output_type": "stream",
     "text": [
      "Train score: 0.9980119284294234\n",
      "Test score: 0.6506024096385542\n",
      "\n",
      "Logistic\n",
      "[[  0   0]\n",
      " [ 87 162]]\n"
     ]
    },
    {
     "data": {
      "image/png": "[encoded data removed]",
      "text/plain": [
       "<Figure size 432x288 with 2 Axes>"
      ]
     },
     "metadata": {
      "needs_background": "light"
     },
     "output_type": "display_data"
    },
    {
     "name": "stdout",
     "output_type": "stream",
     "text": [
      "Train score: 0.705765407554672\n",
      "Test score: 0.6506024096385542\n",
      "\n",
      "KNN\n",
      "[[ 11  16]\n",
      " [ 76 146]]\n"
     ]
    },
    {
     "data": {
      "image/png": "[encoded data removed]",
      "text/plain": [
       "<Figure size 432x288 with 2 Axes>"
      ]
     },
     "metadata": {
      "needs_background": "light"
     },
     "output_type": "display_data"
    },
    {
     "name": "stdout",
     "output_type": "stream",
     "text": [
      "Train score: 0.7753479125248509\n",
      "Test score: 0.6305220883534136\n",
      "\n",
      "SVM\n",
      "[[  0   0]\n",
      " [ 87 162]]\n"
     ]
    },
    {
     "data": {
      "image/png": "[encoded data removed]",
      "text/plain": [
       "<Figure size 432x288 with 2 Axes>"
      ]
     },
     "metadata": {
      "needs_background": "light"
     },
     "output_type": "display_data"
    },
    {
     "name": "stdout",
     "output_type": "stream",
     "text": [
      "Train score: 0.6481113320079522\n",
      "Test score: 0.6506024096385542\n"
     ]
    }
   ],
   "source": [
    "all_models(roberts_df)"
   ]
  },
  {
   "cell_type": "markdown",
   "metadata": {},
   "source": [
    "### Grid search SGD\n",
    "\n",
    "The larger grid search for Roberts was prohibitively expensive on my machine. I have made educated guesses about which parameters to run the grid search with so that it is a much smaller set of options."
   ]
  },
  {
   "cell_type": "code",
   "execution_count": 98,
   "metadata": {},
   "outputs": [
    {
     "name": "stdout",
     "output_type": "stream",
     "text": [
      "dict_keys(['analyzer', 'binary', 'decode_error', 'dtype', 'encoding', 'input', 'lowercase', 'max_df', 'max_features', 'min_df', 'ngram_range', 'norm', 'preprocessor', 'smooth_idf', 'stop_words', 'strip_accents', 'sublinear_tf', 'token_pattern', 'tokenizer', 'use_idf', 'vocabulary'])\n",
      "Fitting 5 folds for each of 80 candidates, totalling 400 fits\n"
     ]
    },
    {
     "name": "stderr",
     "output_type": "stream",
     "text": [
      "[nltk_data] Downloading package stopwords to\n",
      "[nltk_data]     /Users/anndi.russell/nltk_data...\n",
      "[nltk_data]   Package stopwords is already up-to-date!\n",
      "[Parallel(n_jobs=-1)]: Using backend LokyBackend with 12 concurrent workers.\n",
      "[Parallel(n_jobs=-1)]: Done  17 tasks      | elapsed:   20.0s\n",
      "[Parallel(n_jobs=-1)]: Done 138 tasks      | elapsed:  2.0min\n",
      "[Parallel(n_jobs=-1)]: Done 341 tasks      | elapsed:  4.7min\n",
      "[Parallel(n_jobs=-1)]: Done 400 out of 400 | elapsed:  5.4min finished\n",
      "/Users/anndi.russell/opt/anaconda3/envs/cap1/lib/python3.7/site-packages/sklearn/feature_extraction/text.py:386: UserWarning: Your stop_words may be inconsistent with your preprocessing. Tokenizing the stop words generated tokens ['abov', 'ani', 'becaus', 'befor', 'doe', 'dure', 'ha', 'hi', \"it'\", 'onc', 'onli', 'ourselv', \"she'\", \"should'v\", 'themselv', 'thi', 'veri', 'wa', 'whi', \"you'r\", \"you'v\", 'yourselv'] not in stop_words.\n",
      "  'stop_words.' % sorted(inconsistent))\n"
     ]
    },
    {
     "name": "stdout",
     "output_type": "stream",
     "text": [
      "Best parameter set: {'clf__alpha': 0.001, 'clf__n_iter_no_change': 3, 'vect__ngram_range': (1, 2), 'vect__stop_words': ['i', 'me', 'my', 'myself', 'we', 'our', 'ours', 'ourselves', 'you', \"you're\", \"you've\", \"you'll\", \"you'd\", 'your', 'yours', 'yourself', 'yourselves', 'he', 'him', 'his', 'himself', 'she', \"she's\", 'her', 'hers', 'herself', 'it', \"it's\", 'its', 'itself', 'they', 'them', 'their', 'theirs', 'themselves', 'what', 'which', 'who', 'whom', 'this', 'that', \"that'll\", 'these', 'those', 'am', 'is', 'are', 'was', 'were', 'be', 'been', 'being', 'have', 'has', 'had', 'having', 'do', 'does', 'did', 'doing', 'a', 'an', 'the', 'and', 'but', 'if', 'or', 'because', 'as', 'until', 'while', 'of', 'at', 'by', 'for', 'with', 'about', 'against', 'between', 'into', 'through', 'during', 'before', 'after', 'above', 'below', 'to', 'from', 'up', 'down', 'in', 'out', 'on', 'off', 'over', 'under', 'again', 'further', 'then', 'once', 'here', 'there', 'when', 'where', 'why', 'how', 'all', 'any', 'both', 'each', 'few', 'more', 'most', 'other', 'some', 'such', 'no', 'nor', 'not', 'only', 'own', 'same', 'so', 'than', 'too', 'very', 's', 't', 'can', 'will', 'just', 'don', \"don't\", 'should', \"should've\", 'now', 'd', 'll', 'm', 'o', 're', 've', 'y', 'ain', 'aren', \"aren't\", 'couldn', \"couldn't\", 'didn', \"didn't\", 'doesn', \"doesn't\", 'hadn', \"hadn't\", 'hasn', \"hasn't\", 'haven', \"haven't\", 'isn', \"isn't\", 'ma', 'mightn', \"mightn't\", 'mustn', \"mustn't\", 'needn', \"needn't\", 'shan', \"shan't\", 'shouldn', \"shouldn't\", 'wasn', \"wasn't\", 'weren', \"weren't\", 'won', \"won't\", 'wouldn', \"wouldn't\"], 'vect__use_idf': False} \n",
      "CV Accuracy: 0.662\n",
      "Test Accuracy: 0.691\n"
     ]
    }
   ],
   "source": [
    "X=np.array(roberts_df.pet_text)\n",
    "y=np.array(roberts_df.final_vote)\n",
    "\n",
    "X_train, X_test, y_train, y_test = train_test_split(X, y, test_size=0.33,stratify=y,random_state=42)\n",
    "\n",
    "tfidf = TfidfVectorizer(tokenizer=tokenizerporter)\n",
    "\n",
    "print(tfidf.get_params().keys())\n",
    "\n",
    "nltk.download('stopwords')\n",
    "stop = stopwords.words('english')\n",
    "\n",
    "\n",
    "param_grid = [{'vect__ngram_range': [(1, 1), (1, 2)],\n",
    "               'vect__stop_words': [stop, None],\n",
    "               'vect__use_idf':[True,False],\n",
    "               'clf__n_iter_no_change': [3,5],\n",
    "               'clf__alpha': [1e-3, 1e-2, 1e-1, 1e0, 1e1]}\n",
    "              ]\n",
    "\n",
    "\n",
    "lr_tfidf = Pipeline([('vect', tfidf),\n",
    "                     ('clf', SGDClassifier(loss='log', random_state=1, penalty='l1'))])\n",
    "\n",
    "gs_lr_tfidf = GridSearchCV(lr_tfidf, param_grid,\n",
    "                           scoring='accuracy',\n",
    "                           cv=5,\n",
    "                           verbose=2,\n",
    "                           n_jobs=-1)\n",
    "\n",
    "gs_lr_tfidf.fit(X_train, y_train)\n",
    "\n",
    "print('Best parameter set: %s ' % gs_lr_tfidf.best_params_)\n",
    "print('CV Accuracy: %.3f' % gs_lr_tfidf.best_score_)\n",
    "\n",
    "clf = gs_lr_tfidf.best_estimator_\n",
    "print('Test Accuracy: %.3f' % clf.score(X_test, y_test))"
   ]
  },
  {
   "cell_type": "code",
   "execution_count": null,
   "metadata": {},
   "outputs": [],
   "source": []
  },
  {
   "cell_type": "code",
   "execution_count": null,
   "metadata": {},
   "outputs": [],
   "source": []
  },
  {
   "cell_type": "code",
   "execution_count": null,
   "metadata": {},
   "outputs": [],
   "source": []
  },
  {
   "cell_type": "code",
   "execution_count": null,
   "metadata": {},
   "outputs": [],
   "source": []
  },
  {
   "cell_type": "code",
   "execution_count": null,
   "metadata": {},
   "outputs": [],
   "source": []
  }
 ],
 "metadata": {
  "kernelspec": {
   "display_name": "Python 3",
   "language": "python",
   "name": "python3"
  },
  "language_info": {
   "codemirror_mode": {
    "name": "ipython",
    "version": 3
   },
   "file_extension": ".py",
   "mimetype": "text/x-python",
   "name": "python",
   "nbconvert_exporter": "python",
   "pygments_lexer": "ipython3",
   "version": "3.7.7"
  }
 },
 "nbformat": 4,
 "nbformat_minor": 4
}
